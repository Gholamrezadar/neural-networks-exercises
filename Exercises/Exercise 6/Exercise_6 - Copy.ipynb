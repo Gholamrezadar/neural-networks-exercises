{
 "cells": [
  {
   "cell_type": "code",
   "execution_count": 67,
   "metadata": {},
   "outputs": [],
   "source": [
    "import numpy as np\n",
    "import tensorflow as tf\n",
    "import matplotlib.pyplot as plt\n",
    "import seaborn as sns; sns.set()\n",
    "sns.set_style(\"dark\")\n",
    "import pandas as pd\n",
    "import glob\n"
   ]
  },
  {
   "cell_type": "markdown",
   "metadata": {},
   "source": [
    "### Loading Dataset"
   ]
  },
  {
   "cell_type": "code",
   "execution_count": 8,
   "metadata": {},
   "outputs": [
    {
     "name": "stdout",
     "output_type": "stream",
     "text": [
      "dataset\\IRX6XAFF0005.csv\n",
      "dataset\\IRX6XALS0002.csv\n",
      "dataset\\IRX6XS300003.csv\n",
      "dataset\\IRX6XSLC0000.csv\n",
      "dataset\\IRX6XSNT0009.csv\n",
      "dataset\\IRX6XTAL0001.csv\n",
      "dataset\\IRX6XTDP0004.csv\n",
      "dataset\\IRX6XTPI0009.csv\n",
      "dataset\\IRX6XTPI0009[2022-05-23-10-18-57].csv\n",
      "dataset\\IRX6XTPI0025.csv\n",
      "dataset\\IRX6XWAI0001.csv\n",
      "dataset\\IRX6XWTH0001.csv\n",
      "dataset\\IRXWXEXR0007.csv\n",
      "dataset\\IRXWXEXR0023.csv\n",
      "dataset\\IRXWXOCI0001.csv\n",
      "dataset\\IRXWXOCI0027.csv\n",
      "dataset\\IRXYXTPI0009.csv\n",
      "dataset\\IRXYXTPI0025.csv\n",
      "dataset\\IRXZXAGR0009.csv\n",
      "dataset\\IRXZXBNK0006.csv\n",
      "dataset\\IRXZXCMI0000.csv\n",
      "dataset\\IRXZXCML0005.csv\n",
      "dataset\\IRXZXCNS0007.csv\n",
      "dataset\\IRXZXENG0009.csv\n",
      "dataset\\IRXZXEXR0004.csv\n",
      "dataset\\IRXZXEXR0020.csv\n",
      "dataset\\IRXZXFIN0006.csv\n",
      "dataset\\IRXZXFOD0000.csv\n",
      "dataset\\IRXZXHTL0003.csv\n",
      "dataset\\IRXZXIND0008.csv\n",
      "dataset\\IRXZXINS0001.csv\n",
      "dataset\\IRXZXINV0006.csv\n",
      "dataset\\IRXZXITG0009.csv\n",
      "dataset\\IRXZXLSG0005.csv\n",
      "dataset\\IRXZXMIN0007.csv\n",
      "dataset\\IRXZXMML0003.csv\n",
      "dataset\\IRXZXMNF0000.csv\n",
      "dataset\\IRXZXMOT0003.csv\n",
      "dataset\\IRXZXMTL0006.csv\n",
      "dataset\\IRXZXNMM0001.csv\n",
      "dataset\\IRXZXOBM0003.csv\n",
      "dataset\\IRXZXOCI0008.csv\n",
      "dataset\\IRXZXOCI0024.csv\n",
      "dataset\\IRXZXOEW0008.csv\n",
      "dataset\\IRXZXOIL0007.csv\n",
      "dataset\\IRXZXOUT0003.csv\n",
      "dataset\\IRXZXPHM0006.csv\n",
      "dataset\\IRXZXRTL0001.csv\n",
      "dataset\\IRXZXSRV0000.csv\n",
      "dataset\\IRXZXTEX0002.csv\n",
      "dataset\\IRXZXTRI0006.csv\n",
      "dataset\\IRXZXWDI0007.csv\n"
     ]
    }
   ],
   "source": [
    "file_list = []\n",
    "for file in glob.glob(\"dataset\\\\*.csv\"):\n",
    "    print(file)\n",
    "    file_list.append(file)\n",
    "    # df = pd.read_csv(file)"
   ]
  },
  {
   "cell_type": "code",
   "execution_count": 41,
   "metadata": {},
   "outputs": [
    {
     "data": {
      "text/html": [
       "<div>\n",
       "<style scoped>\n",
       "    .dataframe tbody tr th:only-of-type {\n",
       "        vertical-align: middle;\n",
       "    }\n",
       "\n",
       "    .dataframe tbody tr th {\n",
       "        vertical-align: top;\n",
       "    }\n",
       "\n",
       "    .dataframe thead th {\n",
       "        text-align: right;\n",
       "    }\n",
       "</style>\n",
       "<table border=\"1\" class=\"dataframe\">\n",
       "  <thead>\n",
       "    <tr style=\"text-align: right;\">\n",
       "      <th></th>\n",
       "      <th>Date</th>\n",
       "      <th>&lt;OPEN&gt;</th>\n",
       "      <th>&lt;HIGH&gt;</th>\n",
       "      <th>&lt;LOW&gt;</th>\n",
       "      <th>&lt;CLOSE&gt;</th>\n",
       "      <th>&lt;VOL&gt;</th>\n",
       "      <th>&lt;OPENINT&gt;</th>\n",
       "      <th>&lt;OPENINT&gt;.1</th>\n",
       "      <th>&lt;OPENINT&gt;.2</th>\n",
       "    </tr>\n",
       "  </thead>\n",
       "  <tbody>\n",
       "    <tr>\n",
       "      <th>0</th>\n",
       "      <td>2008-12-06</td>\n",
       "      <td>9248.8</td>\n",
       "      <td>9248.8</td>\n",
       "      <td>9178.3</td>\n",
       "      <td>9178.3</td>\n",
       "      <td>8539624</td>\n",
       "      <td>1.855769e+10</td>\n",
       "      <td>1095</td>\n",
       "      <td>0.0</td>\n",
       "    </tr>\n",
       "    <tr>\n",
       "      <th>1</th>\n",
       "      <td>2008-12-07</td>\n",
       "      <td>9178.3</td>\n",
       "      <td>9178.3</td>\n",
       "      <td>9130.5</td>\n",
       "      <td>9130.5</td>\n",
       "      <td>11752353</td>\n",
       "      <td>2.051911e+10</td>\n",
       "      <td>1666</td>\n",
       "      <td>9178.3</td>\n",
       "    </tr>\n",
       "    <tr>\n",
       "      <th>2</th>\n",
       "      <td>2008-12-08</td>\n",
       "      <td>9102.7</td>\n",
       "      <td>9103.4</td>\n",
       "      <td>9089.2</td>\n",
       "      <td>9089.2</td>\n",
       "      <td>15299115</td>\n",
       "      <td>6.007124e+10</td>\n",
       "      <td>1873</td>\n",
       "      <td>9130.5</td>\n",
       "    </tr>\n",
       "    <tr>\n",
       "      <th>3</th>\n",
       "      <td>2008-12-10</td>\n",
       "      <td>9071.6</td>\n",
       "      <td>9071.6</td>\n",
       "      <td>9023.7</td>\n",
       "      <td>9023.7</td>\n",
       "      <td>15689653</td>\n",
       "      <td>3.258769e+10</td>\n",
       "      <td>1737</td>\n",
       "      <td>9089.2</td>\n",
       "    </tr>\n",
       "    <tr>\n",
       "      <th>4</th>\n",
       "      <td>2008-12-13</td>\n",
       "      <td>8973.3</td>\n",
       "      <td>8973.0</td>\n",
       "      <td>8973.3</td>\n",
       "      <td>8973.3</td>\n",
       "      <td>31428174</td>\n",
       "      <td>6.562290e+10</td>\n",
       "      <td>3108</td>\n",
       "      <td>9023.7</td>\n",
       "    </tr>\n",
       "  </tbody>\n",
       "</table>\n",
       "</div>"
      ],
      "text/plain": [
       "        Date  <OPEN>  <HIGH>   <LOW>  <CLOSE>     <VOL>     <OPENINT>  \\\n",
       "0 2008-12-06  9248.8  9248.8  9178.3   9178.3   8539624  1.855769e+10   \n",
       "1 2008-12-07  9178.3  9178.3  9130.5   9130.5  11752353  2.051911e+10   \n",
       "2 2008-12-08  9102.7  9103.4  9089.2   9089.2  15299115  6.007124e+10   \n",
       "3 2008-12-10  9071.6  9071.6  9023.7   9023.7  15689653  3.258769e+10   \n",
       "4 2008-12-13  8973.3  8973.0  8973.3   8973.3  31428174  6.562290e+10   \n",
       "\n",
       "   <OPENINT>.1  <OPENINT>.2  \n",
       "0         1095          0.0  \n",
       "1         1666       9178.3  \n",
       "2         1873       9130.5  \n",
       "3         1737       9089.2  \n",
       "4         3108       9023.7  "
      ]
     },
     "execution_count": 41,
     "metadata": {},
     "output_type": "execute_result"
    }
   ],
   "source": [
    "df = pd.read_csv(\"dataset/IRX6XTPI0009.csv\", encoding='utf-16')\n",
    "df.drop(columns=[\"<TICKER>\", \"<COl12>\", \"<COl13>\", \"<LAST>\"], inplace=True)\n",
    "df[\"<DTYYYYMMDD>\"] = pd.to_datetime(df[\"<DTYYYYMMDD>\"], format=\"%Y%m%d\")\n",
    "df.rename(columns={\"<DTYYYYMMDD>\": \"Date\"}, inplace=True)\n",
    "df.head()"
   ]
  },
  {
   "cell_type": "code",
   "execution_count": 42,
   "metadata": {},
   "outputs": [
    {
     "data": {
      "text/html": [
       "<div>\n",
       "<style scoped>\n",
       "    .dataframe tbody tr th:only-of-type {\n",
       "        vertical-align: middle;\n",
       "    }\n",
       "\n",
       "    .dataframe tbody tr th {\n",
       "        vertical-align: top;\n",
       "    }\n",
       "\n",
       "    .dataframe thead th {\n",
       "        text-align: right;\n",
       "    }\n",
       "</style>\n",
       "<table border=\"1\" class=\"dataframe\">\n",
       "  <thead>\n",
       "    <tr style=\"text-align: right;\">\n",
       "      <th></th>\n",
       "      <th>Date</th>\n",
       "      <th>&lt;OPEN&gt;</th>\n",
       "      <th>&lt;HIGH&gt;</th>\n",
       "      <th>&lt;LOW&gt;</th>\n",
       "      <th>&lt;CLOSE&gt;</th>\n",
       "      <th>&lt;VOL&gt;</th>\n",
       "      <th>&lt;OPENINT&gt;</th>\n",
       "      <th>&lt;OPENINT&gt;.1</th>\n",
       "      <th>&lt;OPENINT&gt;.2</th>\n",
       "    </tr>\n",
       "  </thead>\n",
       "  <tbody>\n",
       "    <tr>\n",
       "      <th>0</th>\n",
       "      <td>2021-05-23</td>\n",
       "      <td>1123500.0</td>\n",
       "      <td>1123500.0</td>\n",
       "      <td>1107900.3</td>\n",
       "      <td>1107900.3</td>\n",
       "      <td>2736872962</td>\n",
       "      <td>1.429308e+13</td>\n",
       "      <td>195077</td>\n",
       "      <td>4.429764e+10</td>\n",
       "    </tr>\n",
       "    <tr>\n",
       "      <th>1</th>\n",
       "      <td>2021-05-24</td>\n",
       "      <td>1105220.0</td>\n",
       "      <td>1105220.0</td>\n",
       "      <td>1095726.2</td>\n",
       "      <td>1095726.2</td>\n",
       "      <td>3100360796</td>\n",
       "      <td>1.610564e+13</td>\n",
       "      <td>252943</td>\n",
       "      <td>4.379279e+10</td>\n",
       "    </tr>\n",
       "    <tr>\n",
       "      <th>2</th>\n",
       "      <td>2021-05-25</td>\n",
       "      <td>1095800.0</td>\n",
       "      <td>1105850.0</td>\n",
       "      <td>1105446.0</td>\n",
       "      <td>1105446.0</td>\n",
       "      <td>3828842175</td>\n",
       "      <td>2.090582e+13</td>\n",
       "      <td>349959</td>\n",
       "      <td>4.413669e+10</td>\n",
       "    </tr>\n",
       "    <tr>\n",
       "      <th>3</th>\n",
       "      <td>2021-05-26</td>\n",
       "      <td>1106380.0</td>\n",
       "      <td>1110560.0</td>\n",
       "      <td>1109369.6</td>\n",
       "      <td>1109369.6</td>\n",
       "      <td>3187572389</td>\n",
       "      <td>1.646125e+13</td>\n",
       "      <td>389162</td>\n",
       "      <td>4.429966e+10</td>\n",
       "    </tr>\n",
       "    <tr>\n",
       "      <th>4</th>\n",
       "      <td>2021-05-29</td>\n",
       "      <td>1111520.0</td>\n",
       "      <td>1139620.0</td>\n",
       "      <td>1139480.9</td>\n",
       "      <td>1139480.9</td>\n",
       "      <td>5193610223</td>\n",
       "      <td>2.851750e+13</td>\n",
       "      <td>395488</td>\n",
       "      <td>4.558550e+10</td>\n",
       "    </tr>\n",
       "  </tbody>\n",
       "</table>\n",
       "</div>"
      ],
      "text/plain": [
       "        Date     <OPEN>     <HIGH>      <LOW>    <CLOSE>       <VOL>  \\\n",
       "0 2021-05-23  1123500.0  1123500.0  1107900.3  1107900.3  2736872962   \n",
       "1 2021-05-24  1105220.0  1105220.0  1095726.2  1095726.2  3100360796   \n",
       "2 2021-05-25  1095800.0  1105850.0  1105446.0  1105446.0  3828842175   \n",
       "3 2021-05-26  1106380.0  1110560.0  1109369.6  1109369.6  3187572389   \n",
       "4 2021-05-29  1111520.0  1139620.0  1139480.9  1139480.9  5193610223   \n",
       "\n",
       "      <OPENINT>  <OPENINT>.1   <OPENINT>.2  \n",
       "0  1.429308e+13       195077  4.429764e+10  \n",
       "1  1.610564e+13       252943  4.379279e+10  \n",
       "2  2.090582e+13       349959  4.413669e+10  \n",
       "3  1.646125e+13       389162  4.429966e+10  \n",
       "4  2.851750e+13       395488  4.558550e+10  "
      ]
     },
     "execution_count": 42,
     "metadata": {},
     "output_type": "execute_result"
    }
   ],
   "source": [
    "# Filter to last years data\n",
    "df = df[df[\"Date\"] >= \"2021-05-23\"]\n",
    "df.reset_index(inplace=True, drop=True)\n",
    "df.head()"
   ]
  },
  {
   "cell_type": "code",
   "execution_count": 51,
   "metadata": {},
   "outputs": [
    {
     "data": {
      "text/plain": [
       "<AxesSubplot:xlabel='Date'>"
      ]
     },
     "execution_count": 51,
     "metadata": {},
     "output_type": "execute_result"
    },
    {
     "data": {
      "image/png": "[encoded data removed]",
      "text/plain": [
       "<Figure size 864x432 with 1 Axes>"
      ]
     },
     "metadata": {},
     "output_type": "display_data"
    }
   ],
   "source": [
    "df.plot(x=\"Date\", y=\"<CLOSE>\", figsize=(12, 6))"
   ]
  },
  {
   "cell_type": "code",
   "execution_count": 44,
   "metadata": {},
   "outputs": [
    {
     "name": "stdout",
     "output_type": "stream",
     "text": [
      "<class 'pandas.core.frame.DataFrame'>\n",
      "RangeIndex: 238 entries, 0 to 237\n",
      "Data columns (total 9 columns):\n",
      " #   Column       Non-Null Count  Dtype         \n",
      "---  ------       --------------  -----         \n",
      " 0   Date         238 non-null    datetime64[ns]\n",
      " 1   <OPEN>       238 non-null    float64       \n",
      " 2   <HIGH>       238 non-null    float64       \n",
      " 3   <LOW>        238 non-null    float64       \n",
      " 4   <CLOSE>      238 non-null    float64       \n",
      " 5   <VOL>        238 non-null    int64         \n",
      " 6   <OPENINT>    238 non-null    float64       \n",
      " 7   <OPENINT>.1  238 non-null    int64         \n",
      " 8   <OPENINT>.2  238 non-null    float64       \n",
      "dtypes: datetime64[ns](1), float64(6), int64(2)\n",
      "memory usage: 16.9 KB\n"
     ]
    }
   ],
   "source": [
    "df.info()"
   ]
  },
  {
   "cell_type": "code",
   "execution_count": 45,
   "metadata": {},
   "outputs": [],
   "source": [
    "data = df[\"<CLOSE>\"].to_numpy()"
   ]
  },
  {
   "cell_type": "code",
   "execution_count": 48,
   "metadata": {},
   "outputs": [
    {
     "data": {
      "text/plain": [
       "[<matplotlib.lines.Line2D at 0x1863a82e4a0>]"
      ]
     },
     "execution_count": 48,
     "metadata": {},
     "output_type": "execute_result"
    },
    {
     "data": {
      "image/png": "[encoded data removed]",
      "text/plain": [
       "<Figure size 432x288 with 1 Axes>"
      ]
     },
     "metadata": {},
     "output_type": "display_data"
    }
   ],
   "source": [
    "plt.plot(data)"
   ]
  },
  {
   "cell_type": "markdown",
   "metadata": {},
   "source": [
    "### Preprocessing"
   ]
  },
  {
   "cell_type": "code",
   "execution_count": 142,
   "metadata": {},
   "outputs": [],
   "source": [
    "from sklearn.preprocessing import MinMaxScaler\n",
    "scaler = MinMaxScaler(feature_range=(0, 1))\n",
    "data = scaler.fit_transform(data.reshape(-1, 1))\n"
   ]
  },
  {
   "cell_type": "code",
   "execution_count": 143,
   "metadata": {},
   "outputs": [
    {
     "data": {
      "text/plain": [
       "(130, 108)"
      ]
     },
     "execution_count": 143,
     "metadata": {},
     "output_type": "execute_result"
    }
   ],
   "source": [
    "train_size = len(data)*0.55\n",
    "train_data, test_data = data[0:int(train_size)], data[int(train_size):]\n",
    "len(train_data), len(test_data)"
   ]
  },
  {
   "cell_type": "markdown",
   "metadata": {},
   "source": [
    "### Create Dataset"
   ]
  },
  {
   "cell_type": "code",
   "execution_count": 144,
   "metadata": {},
   "outputs": [],
   "source": [
    "def create_dataset(dataset, time_steps=1):\n",
    "    data_x, data_y = [], []\n",
    "    for i in range(len(dataset)-time_steps-1):\n",
    "        data_x.append(dataset[i:(i+time_steps)])\n",
    "        data_y.append(dataset[i+time_steps])\n",
    "    return np.array(data_x), np.array(data_y)"
   ]
  },
  {
   "cell_type": "code",
   "execution_count": 145,
   "metadata": {},
   "outputs": [
    {
     "name": "stdout",
     "output_type": "stream",
     "text": [
      "x_train shape: (79, 50, 1)\n",
      "y_train shape: (79, 1)\n",
      "x_test shape: (57, 50, 1)\n",
      "y_test shape: (57, 1)\n"
     ]
    }
   ],
   "source": [
    "time_steps = 50\n",
    "x_train, y_train = create_dataset(train_data, time_steps)\n",
    "x_test, y_test = create_dataset(test_data, time_steps)\n",
    "\n",
    "print(\"x_train shape:\", x_train.shape)\n",
    "print(\"y_train shape:\", y_train.shape)\n",
    "print(\"x_test shape:\", x_test.shape)\n",
    "print(\"y_test shape:\", y_test.shape)\n",
    "\n",
    "# Note: LSTM requires input shape to be (sample, timesteps, feature_size) in this case: (155, 10, 1)\n"
   ]
  },
  {
   "cell_type": "markdown",
   "metadata": {},
   "source": [
    "### LSTM Model Creation"
   ]
  },
  {
   "cell_type": "code",
   "execution_count": 146,
   "metadata": {},
   "outputs": [],
   "source": [
    "from tensorflow.keras.models import Sequential\n",
    "from tensorflow.keras.layers import Dense, LSTM, Dropout\n",
    "\n",
    "model = Sequential()\n",
    "model.add(LSTM(units=25, return_sequences=True, input_shape=(x_train.shape[1], x_train.shape[2])))\n",
    "model.add(LSTM(units=25, return_sequences=False))\n",
    "# model.add(LSTM(units=50))\n",
    "# model.add(Dropout(0.2))\n",
    "model.add(Dense(units=1), )\n",
    "model.compile(optimizer=\"adam\", loss=\"mean_squared_error\")"
   ]
  },
  {
   "cell_type": "code",
   "execution_count": 147,
   "metadata": {},
   "outputs": [
    {
     "name": "stdout",
     "output_type": "stream",
     "text": [
      "Model: \"sequential_4\"\n",
      "_________________________________________________________________\n",
      " Layer (type)                Output Shape              Param #   \n",
      "=================================================================\n",
      " lstm_9 (LSTM)               (None, 50, 25)            2700      \n",
      "                                                                 \n",
      " lstm_10 (LSTM)              (None, 25)                5100      \n",
      "                                                                 \n",
      " dense_4 (Dense)             (None, 1)                 26        \n",
      "                                                                 \n",
      "=================================================================\n",
      "Total params: 7,826\n",
      "Trainable params: 7,826\n",
      "Non-trainable params: 0\n",
      "_________________________________________________________________\n"
     ]
    }
   ],
   "source": [
    "model.summary()"
   ]
  },
  {
   "cell_type": "markdown",
   "metadata": {},
   "source": [
    "### LSTM Model Train"
   ]
  },
  {
   "cell_type": "code",
   "execution_count": 148,
   "metadata": {},
   "outputs": [],
   "source": [
    "# Tensorsboard callback\n",
    "import datetime"
   ]
  },
  {
   "cell_type": "code",
   "execution_count": 149,
   "metadata": {},
   "outputs": [
    {
     "name": "stdout",
     "output_type": "stream",
     "text": [
      "Epoch 1/100\n",
      "2/2 [==============================] - 6s 1s/step - loss: 0.4136 - val_loss: 0.3415\n",
      "Epoch 2/100\n",
      "2/2 [==============================] - 0s 186ms/step - loss: 0.3133 - val_loss: 0.2527\n",
      "Epoch 3/100\n",
      "2/2 [==============================] - 0s 188ms/step - loss: 0.2210 - val_loss: 0.1696\n",
      "Epoch 4/100\n",
      "2/2 [==============================] - 0s 158ms/step - loss: 0.1370 - val_loss: 0.0951\n",
      "Epoch 5/100\n",
      "2/2 [==============================] - 0s 120ms/step - loss: 0.0676 - val_loss: 0.0375\n",
      "Epoch 6/100\n",
      "2/2 [==============================] - 0s 114ms/step - loss: 0.0238 - val_loss: 0.0106\n",
      "Epoch 7/100\n",
      "2/2 [==============================] - 0s 116ms/step - loss: 0.0196 - val_loss: 0.0155\n",
      "Epoch 8/100\n",
      "2/2 [==============================] - 0s 114ms/step - loss: 0.0422 - val_loss: 0.0195\n",
      "Epoch 9/100\n",
      "2/2 [==============================] - 0s 113ms/step - loss: 0.0459 - val_loss: 0.0139\n",
      "Epoch 10/100\n",
      "2/2 [==============================] - 0s 124ms/step - loss: 0.0322 - val_loss: 0.0102\n",
      "Epoch 11/100\n",
      "2/2 [==============================] - 0s 131ms/step - loss: 0.0194 - val_loss: 0.0121\n",
      "Epoch 12/100\n",
      "2/2 [==============================] - 0s 118ms/step - loss: 0.0136 - val_loss: 0.0176\n",
      "Epoch 13/100\n",
      "2/2 [==============================] - 0s 114ms/step - loss: 0.0137 - val_loss: 0.0232\n",
      "Epoch 14/100\n",
      "2/2 [==============================] - 0s 122ms/step - loss: 0.0162 - val_loss: 0.0267\n",
      "Epoch 15/100\n",
      "2/2 [==============================] - 0s 119ms/step - loss: 0.0179 - val_loss: 0.0272\n",
      "Epoch 16/100\n",
      "2/2 [==============================] - 0s 124ms/step - loss: 0.0180 - val_loss: 0.0252\n",
      "Epoch 17/100\n",
      "2/2 [==============================] - 0s 127ms/step - loss: 0.0167 - val_loss: 0.0217\n",
      "Epoch 18/100\n",
      "2/2 [==============================] - 0s 124ms/step - loss: 0.0146 - val_loss: 0.0179\n",
      "Epoch 19/100\n",
      "2/2 [==============================] - 0s 137ms/step - loss: 0.0130 - val_loss: 0.0147\n",
      "Epoch 20/100\n",
      "2/2 [==============================] - 0s 130ms/step - loss: 0.0120 - val_loss: 0.0126\n",
      "Epoch 21/100\n",
      "2/2 [==============================] - 0s 136ms/step - loss: 0.0123 - val_loss: 0.0115\n",
      "Epoch 22/100\n",
      "2/2 [==============================] - 0s 135ms/step - loss: 0.0130 - val_loss: 0.0112\n",
      "Epoch 23/100\n",
      "2/2 [==============================] - 0s 119ms/step - loss: 0.0132 - val_loss: 0.0112\n",
      "Epoch 24/100\n",
      "2/2 [==============================] - 0s 134ms/step - loss: 0.0129 - val_loss: 0.0115\n",
      "Epoch 25/100\n",
      "2/2 [==============================] - 0s 123ms/step - loss: 0.0125 - val_loss: 0.0120\n",
      "Epoch 26/100\n",
      "2/2 [==============================] - 0s 126ms/step - loss: 0.0120 - val_loss: 0.0128\n",
      "Epoch 27/100\n",
      "2/2 [==============================] - 0s 125ms/step - loss: 0.0116 - val_loss: 0.0140\n",
      "Epoch 28/100\n",
      "2/2 [==============================] - 0s 121ms/step - loss: 0.0116 - val_loss: 0.0152\n",
      "Epoch 29/100\n",
      "2/2 [==============================] - 0s 123ms/step - loss: 0.0117 - val_loss: 0.0159\n",
      "Epoch 30/100\n",
      "2/2 [==============================] - 0s 125ms/step - loss: 0.0119 - val_loss: 0.0160\n",
      "Epoch 31/100\n",
      "2/2 [==============================] - 0s 138ms/step - loss: 0.0118 - val_loss: 0.0154\n",
      "Epoch 32/100\n",
      "2/2 [==============================] - 0s 128ms/step - loss: 0.0116 - val_loss: 0.0145\n",
      "Epoch 33/100\n",
      "2/2 [==============================] - 0s 131ms/step - loss: 0.0114 - val_loss: 0.0139\n",
      "Epoch 34/100\n",
      "2/2 [==============================] - 0s 129ms/step - loss: 0.0111 - val_loss: 0.0135\n",
      "Epoch 35/100\n",
      "2/2 [==============================] - 1s 438ms/step - loss: 0.0110 - val_loss: 0.0130\n",
      "Epoch 36/100\n",
      "2/2 [==============================] - 0s 124ms/step - loss: 0.0110 - val_loss: 0.0128\n",
      "Epoch 37/100\n",
      "2/2 [==============================] - 0s 163ms/step - loss: 0.0109 - val_loss: 0.0127\n",
      "Epoch 38/100\n",
      "2/2 [==============================] - 0s 130ms/step - loss: 0.0108 - val_loss: 0.0126\n",
      "Epoch 39/100\n",
      "2/2 [==============================] - 0s 127ms/step - loss: 0.0107 - val_loss: 0.0125\n",
      "Epoch 40/100\n",
      "2/2 [==============================] - 1s 438ms/step - loss: 0.0105 - val_loss: 0.0125\n",
      "Epoch 41/100\n",
      "2/2 [==============================] - 0s 121ms/step - loss: 0.0104 - val_loss: 0.0125\n",
      "Epoch 42/100\n",
      "2/2 [==============================] - 0s 130ms/step - loss: 0.0103 - val_loss: 0.0125\n",
      "Epoch 43/100\n",
      "2/2 [==============================] - 0s 131ms/step - loss: 0.0101 - val_loss: 0.0121\n",
      "Epoch 44/100\n",
      "2/2 [==============================] - 0s 127ms/step - loss: 0.0100 - val_loss: 0.0120\n",
      "Epoch 45/100\n",
      "2/2 [==============================] - 0s 122ms/step - loss: 0.0098 - val_loss: 0.0122\n",
      "Epoch 46/100\n",
      "2/2 [==============================] - 0s 138ms/step - loss: 0.0096 - val_loss: 0.0122\n",
      "Epoch 47/100\n",
      "2/2 [==============================] - 0s 127ms/step - loss: 0.0094 - val_loss: 0.0121\n",
      "Epoch 48/100\n",
      "2/2 [==============================] - 0s 126ms/step - loss: 0.0092 - val_loss: 0.0118\n",
      "Epoch 49/100\n",
      "2/2 [==============================] - 0s 121ms/step - loss: 0.0090 - val_loss: 0.0113\n",
      "Epoch 50/100\n",
      "2/2 [==============================] - 0s 123ms/step - loss: 0.0087 - val_loss: 0.0112\n",
      "Epoch 51/100\n",
      "2/2 [==============================] - 0s 117ms/step - loss: 0.0085 - val_loss: 0.0113\n",
      "Epoch 52/100\n",
      "2/2 [==============================] - 0s 111ms/step - loss: 0.0082 - val_loss: 0.0115\n",
      "Epoch 53/100\n",
      "2/2 [==============================] - 0s 157ms/step - loss: 0.0079 - val_loss: 0.0112\n",
      "Epoch 54/100\n",
      "2/2 [==============================] - 0s 117ms/step - loss: 0.0076 - val_loss: 0.0103\n",
      "Epoch 55/100\n",
      "2/2 [==============================] - 0s 130ms/step - loss: 0.0073 - val_loss: 0.0097\n",
      "Epoch 56/100\n",
      "2/2 [==============================] - 0s 110ms/step - loss: 0.0072 - val_loss: 0.0096\n",
      "Epoch 57/100\n",
      "2/2 [==============================] - 0s 138ms/step - loss: 0.0069 - val_loss: 0.0103\n",
      "Epoch 58/100\n",
      "2/2 [==============================] - 0s 111ms/step - loss: 0.0064 - val_loss: 0.0115\n",
      "Epoch 59/100\n",
      "2/2 [==============================] - 0s 129ms/step - loss: 0.0065 - val_loss: 0.0120\n",
      "Epoch 60/100\n",
      "2/2 [==============================] - 0s 129ms/step - loss: 0.0064 - val_loss: 0.0102\n",
      "Epoch 61/100\n",
      "2/2 [==============================] - 0s 137ms/step - loss: 0.0057 - val_loss: 0.0093\n",
      "Epoch 62/100\n",
      "2/2 [==============================] - 0s 124ms/step - loss: 0.0069 - val_loss: 0.0095\n",
      "Epoch 63/100\n",
      "2/2 [==============================] - 0s 129ms/step - loss: 0.0068 - val_loss: 0.0100\n",
      "Epoch 64/100\n",
      "2/2 [==============================] - 0s 133ms/step - loss: 0.0055 - val_loss: 0.0118\n",
      "Epoch 65/100\n",
      "2/2 [==============================] - 0s 128ms/step - loss: 0.0058 - val_loss: 0.0117\n",
      "Epoch 66/100\n",
      "2/2 [==============================] - 0s 114ms/step - loss: 0.0055 - val_loss: 0.0105\n",
      "Epoch 67/100\n",
      "2/2 [==============================] - 0s 116ms/step - loss: 0.0051 - val_loss: 0.0103\n",
      "Epoch 68/100\n",
      "2/2 [==============================] - 0s 123ms/step - loss: 0.0054 - val_loss: 0.0106\n",
      "Epoch 69/100\n",
      "2/2 [==============================] - 0s 159ms/step - loss: 0.0049 - val_loss: 0.0114\n",
      "Epoch 70/100\n",
      "2/2 [==============================] - 0s 106ms/step - loss: 0.0050 - val_loss: 0.0117\n",
      "Epoch 71/100\n",
      "2/2 [==============================] - 0s 128ms/step - loss: 0.0050 - val_loss: 0.0112\n",
      "Epoch 72/100\n",
      "2/2 [==============================] - 0s 120ms/step - loss: 0.0047 - val_loss: 0.0110\n",
      "Epoch 73/100\n",
      "2/2 [==============================] - 0s 123ms/step - loss: 0.0047 - val_loss: 0.0110\n",
      "Epoch 74/100\n",
      "2/2 [==============================] - 0s 135ms/step - loss: 0.0047 - val_loss: 0.0109\n",
      "Epoch 75/100\n",
      "2/2 [==============================] - 0s 127ms/step - loss: 0.0046 - val_loss: 0.0111\n",
      "Epoch 76/100\n",
      "2/2 [==============================] - 0s 159ms/step - loss: 0.0046 - val_loss: 0.0115\n",
      "Epoch 77/100\n",
      "2/2 [==============================] - 0s 127ms/step - loss: 0.0047 - val_loss: 0.0111\n",
      "Epoch 78/100\n",
      "2/2 [==============================] - 0s 117ms/step - loss: 0.0045 - val_loss: 0.0107\n",
      "Epoch 79/100\n",
      "2/2 [==============================] - 0s 122ms/step - loss: 0.0045 - val_loss: 0.0108\n",
      "Epoch 80/100\n",
      "2/2 [==============================] - 0s 118ms/step - loss: 0.0045 - val_loss: 0.0109\n",
      "Epoch 81/100\n",
      "2/2 [==============================] - 0s 114ms/step - loss: 0.0045 - val_loss: 0.0112\n",
      "Epoch 82/100\n",
      "2/2 [==============================] - 0s 126ms/step - loss: 0.0045 - val_loss: 0.0117\n",
      "Epoch 83/100\n",
      "2/2 [==============================] - 0s 130ms/step - loss: 0.0046 - val_loss: 0.0113\n",
      "Epoch 84/100\n",
      "2/2 [==============================] - 0s 144ms/step - loss: 0.0044 - val_loss: 0.0108\n",
      "Epoch 85/100\n",
      "2/2 [==============================] - 0s 128ms/step - loss: 0.0046 - val_loss: 0.0109\n",
      "Epoch 86/100\n",
      "2/2 [==============================] - 0s 130ms/step - loss: 0.0045 - val_loss: 0.0117\n",
      "Epoch 87/100\n",
      "2/2 [==============================] - 0s 124ms/step - loss: 0.0045 - val_loss: 0.0122\n",
      "Epoch 88/100\n",
      "2/2 [==============================] - 0s 126ms/step - loss: 0.0047 - val_loss: 0.0113\n",
      "Epoch 89/100\n",
      "2/2 [==============================] - 0s 128ms/step - loss: 0.0044 - val_loss: 0.0109\n",
      "Epoch 90/100\n",
      "2/2 [==============================] - 0s 138ms/step - loss: 0.0046 - val_loss: 0.0109\n",
      "Epoch 91/100\n",
      "2/2 [==============================] - 0s 120ms/step - loss: 0.0044 - val_loss: 0.0115\n",
      "Epoch 92/100\n",
      "2/2 [==============================] - 0s 150ms/step - loss: 0.0045 - val_loss: 0.0117\n",
      "Epoch 93/100\n",
      "2/2 [==============================] - 0s 111ms/step - loss: 0.0045 - val_loss: 0.0109\n",
      "Epoch 94/100\n",
      "2/2 [==============================] - 0s 127ms/step - loss: 0.0044 - val_loss: 0.0110\n",
      "Epoch 95/100\n",
      "2/2 [==============================] - 0s 117ms/step - loss: 0.0044 - val_loss: 0.0114\n",
      "Epoch 96/100\n",
      "2/2 [==============================] - 0s 119ms/step - loss: 0.0043 - val_loss: 0.0114\n",
      "Epoch 97/100\n",
      "2/2 [==============================] - 0s 117ms/step - loss: 0.0043 - val_loss: 0.0116\n",
      "Epoch 98/100\n",
      "2/2 [==============================] - 0s 127ms/step - loss: 0.0043 - val_loss: 0.0120\n",
      "Epoch 99/100\n",
      "2/2 [==============================] - 0s 119ms/step - loss: 0.0043 - val_loss: 0.0119\n",
      "Epoch 100/100\n",
      "2/2 [==============================] - 0s 121ms/step - loss: 0.0043 - val_loss: 0.0117\n"
     ]
    },
    {
     "data": {
      "text/plain": [
       "<keras.callbacks.History at 0x1865dab30d0>"
      ]
     },
     "execution_count": 149,
     "metadata": {},
     "output_type": "execute_result"
    }
   ],
   "source": [
    "model.fit(\n",
    "    x_train,\n",
    "    y_train, \n",
    "    epochs=100, \n",
    "    batch_size=64,\n",
    "    validation_data=(x_test, y_test),\n",
    "    callbacks=[tf.keras.callbacks.TensorBoard(log_dir=\"logs/{}\".format(datetime.datetime.now().strftime(\"%Y%m%d-%H%M%S\")))]\n",
    "    )"
   ]
  },
  {
   "cell_type": "code",
   "execution_count": 150,
   "metadata": {},
   "outputs": [
    {
     "name": "stdout",
     "output_type": "stream",
     "text": [
      "2/2 [==============================] - 0s 13ms/step - loss: 0.0117\n"
     ]
    },
    {
     "data": {
      "text/plain": [
       "0.011701949872076511"
      ]
     },
     "execution_count": 150,
     "metadata": {},
     "output_type": "execute_result"
    }
   ],
   "source": [
    "model.evaluate(x_test, y_test)"
   ]
  },
  {
   "cell_type": "markdown",
   "metadata": {},
   "source": [
    "### Prediction"
   ]
  },
  {
   "cell_type": "code",
   "execution_count": 151,
   "metadata": {},
   "outputs": [
    {
     "data": {
      "text/plain": [
       "array([0.5022202], dtype=float32)"
      ]
     },
     "execution_count": 151,
     "metadata": {},
     "output_type": "execute_result"
    }
   ],
   "source": [
    "model.predict(x_test)[2]"
   ]
  },
  {
   "cell_type": "code",
   "execution_count": 152,
   "metadata": {},
   "outputs": [
    {
     "data": {
      "text/plain": [
       "array([[0.50222015]], dtype=float32)"
      ]
     },
     "execution_count": 152,
     "metadata": {},
     "output_type": "execute_result"
    }
   ],
   "source": [
    "model.predict(x_test[2].reshape(1, -1, 1))"
   ]
  },
  {
   "cell_type": "code",
   "execution_count": 153,
   "metadata": {},
   "outputs": [
    {
     "data": {
      "text/plain": [
       "array([0.36418223])"
      ]
     },
     "execution_count": 153,
     "metadata": {},
     "output_type": "execute_result"
    }
   ],
   "source": [
    "y_test[2]"
   ]
  },
  {
   "cell_type": "markdown",
   "metadata": {},
   "source": [
    "### Tensorboard"
   ]
  },
  {
   "cell_type": "code",
   "execution_count": 154,
   "metadata": {},
   "outputs": [
    {
     "name": "stdout",
     "output_type": "stream",
     "text": [
      "The tensorboard extension is already loaded. To reload it, use:\n",
      "  %reload_ext tensorboard\n"
     ]
    }
   ],
   "source": [
    "%load_ext tensorboard"
   ]
  },
  {
   "cell_type": "code",
   "execution_count": 155,
   "metadata": {},
   "outputs": [
    {
     "data": {
      "text/plain": [
       "Reusing TensorBoard on port 6006 (pid 12916), started 0:45:36 ago. (Use '!kill 12916' to kill it.)"
      ]
     },
     "metadata": {},
     "output_type": "display_data"
    },
    {
     "data": {
      "text/html": [
       "\n",
       "      <iframe id=\"tensorboard-frame-b4c82be35a38c10\" width=\"100%\" height=\"800\" frameborder=\"0\">\n",
       "      </iframe>\n",
       "      <script>\n",
       "        (function() {\n",
       "          const frame = document.getElementById(\"tensorboard-frame-b4c82be35a38c10\");\n",
       "          const url = new URL(\"http://localhost\");\n",
       "          const port = 6006;\n",
       "          if (port) {\n",
       "            url.port = port;\n",
       "          }\n",
       "          frame.src = url;\n",
       "        })();\n",
       "      </script>\n",
       "    "
      ],
      "text/plain": [
       "<IPython.core.display.HTML object>"
      ]
     },
     "metadata": {},
     "output_type": "display_data"
    }
   ],
   "source": [
    "%tensorboard --logdir=logs/"
   ]
  },
  {
   "cell_type": "code",
   "execution_count": 156,
   "metadata": {},
   "outputs": [],
   "source": [
    "\n",
    "### Lets Do the prediction and check performance metrics\n",
    "train_predict=model.predict(x_train)\n",
    "test_predict=model.predict(x_test)"
   ]
  },
  {
   "cell_type": "code",
   "execution_count": 157,
   "metadata": {},
   "outputs": [],
   "source": [
    "##Transformback to original form\n",
    "train_predict=scaler.inverse_transform(train_predict)\n",
    "test_predict=scaler.inverse_transform(test_predict)"
   ]
  },
  {
   "cell_type": "code",
   "execution_count": 158,
   "metadata": {},
   "outputs": [
    {
     "data": {
      "text/plain": [
       "0.06600224764156648"
      ]
     },
     "execution_count": 158,
     "metadata": {},
     "output_type": "execute_result"
    }
   ],
   "source": [
    "### Calculate RMSE performance metrics\n",
    "import math\n",
    "from sklearn.metrics import mean_squared_error\n",
    "math.sqrt(mean_squared_error(y_train,train_predict))"
   ]
  },
  {
   "cell_type": "code",
   "execution_count": 159,
   "metadata": {},
   "outputs": [
    {
     "data": {
      "text/plain": [
       "0.10817555171686029"
      ]
     },
     "execution_count": 159,
     "metadata": {},
     "output_type": "execute_result"
    }
   ],
   "source": [
    "### Test Data RMSE\n",
    "math.sqrt(mean_squared_error(y_test,test_predict))"
   ]
  },
  {
   "cell_type": "code",
   "execution_count": 161,
   "metadata": {},
   "outputs": [
    {
     "data": {
      "image/png": "[encoded data removed]",
      "text/plain": [
       "<Figure size 864x432 with 1 Axes>"
      ]
     },
     "metadata": {},
     "output_type": "display_data"
    }
   ],
   "source": [
    "### Plotting \n",
    "# shift train predictions for plotting\n",
    "look_back=50\n",
    "trainPredictPlot = np.empty_like(data)\n",
    "trainPredictPlot[:, :] = np.nan\n",
    "trainPredictPlot[look_back:len(train_predict)+look_back, :] = train_predict\n",
    "# shift test predictions for plotting\n",
    "testPredictPlot = np.empty_like(data)\n",
    "testPredictPlot[:, :] = np.nan\n",
    "testPredictPlot[len(train_predict)+(look_back*2)+1:len(data)-1, :] = test_predict\n",
    "# plot baseline and predictions\n",
    "plt.figure(figsize=(12, 6))\n",
    "plt.plot(scaler.inverse_transform(data))\n",
    "plt.plot(trainPredictPlot, linewidth=2)\n",
    "plt.plot(testPredictPlot, linewidth=2)\n",
    "plt.legend(['Actual', 'Train', 'Test'], loc='upper left')\n",
    "plt.show()"
   ]
  },
  {
   "cell_type": "code",
   "execution_count": null,
   "metadata": {},
   "outputs": [],
   "source": []
  },
  {
   "cell_type": "code",
   "execution_count": null,
   "metadata": {},
   "outputs": [],
   "source": []
  }
 ],
 "metadata": {
  "interpreter": {
   "hash": "3858431499dcaaf4de29b8b352749eebe871787bd67cf3dfc1982c43a6256c9d"
  },
  "kernelspec": {
   "display_name": "Python 3.10.1 64-bit",
   "language": "python",
   "name": "python3"
  },
  "language_info": {
   "codemirror_mode": {
    "name": "ipython",
    "version": 3
   },
   "file_extension": ".py",
   "mimetype": "text/x-python",
   "name": "python",
   "nbconvert_exporter": "python",
   "pygments_lexer": "ipython3",
   "version": "3.10.1"
  },
  "orig_nbformat": 4
 },
 "nbformat": 4,
 "nbformat_minor": 2
}
