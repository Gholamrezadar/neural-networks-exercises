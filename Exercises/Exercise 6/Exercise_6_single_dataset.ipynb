{
 "cells": [
  {
   "cell_type": "code",
   "execution_count": 111,
   "metadata": {},
   "outputs": [],
   "source": [
    "import numpy as np\n",
    "import tensorflow as tf\n",
    "import matplotlib.pyplot as plt\n",
    "import seaborn as sns; sns.set()\n",
    "sns.set_style(\"dark\")\n",
    "import pandas as pd\n",
    "import glob\n",
    "import datetime\n"
   ]
  },
  {
   "cell_type": "markdown",
   "metadata": {},
   "source": [
    "### Loading Dataset"
   ]
  },
  {
   "cell_type": "code",
   "execution_count": 112,
   "metadata": {},
   "outputs": [
    {
     "name": "stdout",
     "output_type": "stream",
     "text": [
      "dataset\\IRX6XAFF0005.csv\n",
      "dataset\\IRX6XALS0002.csv\n",
      "dataset\\IRX6XS300003.csv\n",
      "dataset\\IRX6XSLC0000.csv\n",
      "dataset\\IRX6XSNT0009.csv\n",
      "dataset\\IRX6XTAL0001.csv\n",
      "dataset\\IRX6XTDP0004.csv\n",
      "dataset\\IRX6XTPI0009.csv\n",
      "dataset\\IRX6XTPI0009[2022-05-23-10-18-57].csv\n",
      "dataset\\IRX6XTPI0025.csv\n",
      "dataset\\IRX6XWAI0001.csv\n",
      "dataset\\IRX6XWTH0001.csv\n",
      "dataset\\IRXWXEXR0007.csv\n",
      "dataset\\IRXWXEXR0023.csv\n",
      "dataset\\IRXWXOCI0001.csv\n",
      "dataset\\IRXWXOCI0027.csv\n",
      "dataset\\IRXYXTPI0009.csv\n",
      "dataset\\IRXYXTPI0025.csv\n",
      "dataset\\IRXZXAGR0009.csv\n",
      "dataset\\IRXZXBNK0006.csv\n",
      "dataset\\IRXZXCMI0000.csv\n",
      "dataset\\IRXZXCML0005.csv\n",
      "dataset\\IRXZXCNS0007.csv\n",
      "dataset\\IRXZXENG0009.csv\n",
      "dataset\\IRXZXEXR0004.csv\n",
      "dataset\\IRXZXEXR0020.csv\n",
      "dataset\\IRXZXFIN0006.csv\n",
      "dataset\\IRXZXFOD0000.csv\n",
      "dataset\\IRXZXHTL0003.csv\n",
      "dataset\\IRXZXIND0008.csv\n",
      "dataset\\IRXZXINS0001.csv\n",
      "dataset\\IRXZXINV0006.csv\n",
      "dataset\\IRXZXITG0009.csv\n",
      "dataset\\IRXZXLSG0005.csv\n",
      "dataset\\IRXZXMIN0007.csv\n",
      "dataset\\IRXZXMML0003.csv\n",
      "dataset\\IRXZXMNF0000.csv\n",
      "dataset\\IRXZXMOT0003.csv\n",
      "dataset\\IRXZXMTL0006.csv\n",
      "dataset\\IRXZXNMM0001.csv\n",
      "dataset\\IRXZXOBM0003.csv\n",
      "dataset\\IRXZXOCI0008.csv\n",
      "dataset\\IRXZXOCI0024.csv\n",
      "dataset\\IRXZXOEW0008.csv\n",
      "dataset\\IRXZXOIL0007.csv\n",
      "dataset\\IRXZXOUT0003.csv\n",
      "dataset\\IRXZXPHM0006.csv\n",
      "dataset\\IRXZXRTL0001.csv\n",
      "dataset\\IRXZXSRV0000.csv\n",
      "dataset\\IRXZXTEX0002.csv\n",
      "dataset\\IRXZXTRI0006.csv\n",
      "dataset\\IRXZXWDI0007.csv\n"
     ]
    }
   ],
   "source": [
    "file_list = []\n",
    "for file in glob.glob(\"dataset\\\\*.csv\"):\n",
    "    print(file)\n",
    "    file_list.append(file)\n",
    "    # df = pd.read_csv(file)"
   ]
  },
  {
   "cell_type": "code",
   "execution_count": 113,
   "metadata": {},
   "outputs": [
    {
     "data": {
      "text/html": [
       "<div>\n",
       "<style scoped>\n",
       "    .dataframe tbody tr th:only-of-type {\n",
       "        vertical-align: middle;\n",
       "    }\n",
       "\n",
       "    .dataframe tbody tr th {\n",
       "        vertical-align: top;\n",
       "    }\n",
       "\n",
       "    .dataframe thead th {\n",
       "        text-align: right;\n",
       "    }\n",
       "</style>\n",
       "<table border=\"1\" class=\"dataframe\">\n",
       "  <thead>\n",
       "    <tr style=\"text-align: right;\">\n",
       "      <th></th>\n",
       "      <th>Date</th>\n",
       "      <th>&lt;OPEN&gt;</th>\n",
       "      <th>&lt;HIGH&gt;</th>\n",
       "      <th>&lt;LOW&gt;</th>\n",
       "      <th>&lt;CLOSE&gt;</th>\n",
       "      <th>&lt;VOL&gt;</th>\n",
       "      <th>&lt;OPENINT&gt;</th>\n",
       "      <th>&lt;OPENINT&gt;.1</th>\n",
       "      <th>&lt;OPENINT&gt;.2</th>\n",
       "    </tr>\n",
       "  </thead>\n",
       "  <tbody>\n",
       "    <tr>\n",
       "      <th>0</th>\n",
       "      <td>2008-12-06</td>\n",
       "      <td>9248.8</td>\n",
       "      <td>9248.8</td>\n",
       "      <td>9178.3</td>\n",
       "      <td>9178.3</td>\n",
       "      <td>8539624</td>\n",
       "      <td>1.855769e+10</td>\n",
       "      <td>1095</td>\n",
       "      <td>0.0</td>\n",
       "    </tr>\n",
       "    <tr>\n",
       "      <th>1</th>\n",
       "      <td>2008-12-07</td>\n",
       "      <td>9178.3</td>\n",
       "      <td>9178.3</td>\n",
       "      <td>9130.5</td>\n",
       "      <td>9130.5</td>\n",
       "      <td>11752353</td>\n",
       "      <td>2.051911e+10</td>\n",
       "      <td>1666</td>\n",
       "      <td>9178.3</td>\n",
       "    </tr>\n",
       "    <tr>\n",
       "      <th>2</th>\n",
       "      <td>2008-12-08</td>\n",
       "      <td>9102.7</td>\n",
       "      <td>9103.4</td>\n",
       "      <td>9089.2</td>\n",
       "      <td>9089.2</td>\n",
       "      <td>15299115</td>\n",
       "      <td>6.007124e+10</td>\n",
       "      <td>1873</td>\n",
       "      <td>9130.5</td>\n",
       "    </tr>\n",
       "    <tr>\n",
       "      <th>3</th>\n",
       "      <td>2008-12-10</td>\n",
       "      <td>9071.6</td>\n",
       "      <td>9071.6</td>\n",
       "      <td>9023.7</td>\n",
       "      <td>9023.7</td>\n",
       "      <td>15689653</td>\n",
       "      <td>3.258769e+10</td>\n",
       "      <td>1737</td>\n",
       "      <td>9089.2</td>\n",
       "    </tr>\n",
       "    <tr>\n",
       "      <th>4</th>\n",
       "      <td>2008-12-13</td>\n",
       "      <td>8973.3</td>\n",
       "      <td>8973.0</td>\n",
       "      <td>8973.3</td>\n",
       "      <td>8973.3</td>\n",
       "      <td>31428174</td>\n",
       "      <td>6.562290e+10</td>\n",
       "      <td>3108</td>\n",
       "      <td>9023.7</td>\n",
       "    </tr>\n",
       "  </tbody>\n",
       "</table>\n",
       "</div>"
      ],
      "text/plain": [
       "        Date  <OPEN>  <HIGH>   <LOW>  <CLOSE>     <VOL>     <OPENINT>  \\\n",
       "0 2008-12-06  9248.8  9248.8  9178.3   9178.3   8539624  1.855769e+10   \n",
       "1 2008-12-07  9178.3  9178.3  9130.5   9130.5  11752353  2.051911e+10   \n",
       "2 2008-12-08  9102.7  9103.4  9089.2   9089.2  15299115  6.007124e+10   \n",
       "3 2008-12-10  9071.6  9071.6  9023.7   9023.7  15689653  3.258769e+10   \n",
       "4 2008-12-13  8973.3  8973.0  8973.3   8973.3  31428174  6.562290e+10   \n",
       "\n",
       "   <OPENINT>.1  <OPENINT>.2  \n",
       "0         1095          0.0  \n",
       "1         1666       9178.3  \n",
       "2         1873       9130.5  \n",
       "3         1737       9089.2  \n",
       "4         3108       9023.7  "
      ]
     },
     "execution_count": 113,
     "metadata": {},
     "output_type": "execute_result"
    }
   ],
   "source": [
    "df = pd.read_csv(\"dataset/IRX6XTPI0009.csv\", encoding='utf-16')\n",
    "df.drop(columns=[\"<TICKER>\", \"<COl12>\", \"<COl13>\", \"<LAST>\"], inplace=True)\n",
    "df[\"<DTYYYYMMDD>\"] = pd.to_datetime(df[\"<DTYYYYMMDD>\"], format=\"%Y%m%d\")\n",
    "df.rename(columns={\"<DTYYYYMMDD>\": \"Date\"}, inplace=True)\n",
    "df.head()"
   ]
  },
  {
   "cell_type": "code",
   "execution_count": 114,
   "metadata": {},
   "outputs": [
    {
     "data": {
      "text/html": [
       "<div>\n",
       "<style scoped>\n",
       "    .dataframe tbody tr th:only-of-type {\n",
       "        vertical-align: middle;\n",
       "    }\n",
       "\n",
       "    .dataframe tbody tr th {\n",
       "        vertical-align: top;\n",
       "    }\n",
       "\n",
       "    .dataframe thead th {\n",
       "        text-align: right;\n",
       "    }\n",
       "</style>\n",
       "<table border=\"1\" class=\"dataframe\">\n",
       "  <thead>\n",
       "    <tr style=\"text-align: right;\">\n",
       "      <th></th>\n",
       "      <th>Date</th>\n",
       "      <th>&lt;OPEN&gt;</th>\n",
       "      <th>&lt;HIGH&gt;</th>\n",
       "      <th>&lt;LOW&gt;</th>\n",
       "      <th>&lt;CLOSE&gt;</th>\n",
       "      <th>&lt;VOL&gt;</th>\n",
       "      <th>&lt;OPENINT&gt;</th>\n",
       "      <th>&lt;OPENINT&gt;.1</th>\n",
       "      <th>&lt;OPENINT&gt;.2</th>\n",
       "    </tr>\n",
       "  </thead>\n",
       "  <tbody>\n",
       "    <tr>\n",
       "      <th>0</th>\n",
       "      <td>2021-05-23</td>\n",
       "      <td>1123500.0</td>\n",
       "      <td>1123500.0</td>\n",
       "      <td>1107900.3</td>\n",
       "      <td>1107900.3</td>\n",
       "      <td>2736872962</td>\n",
       "      <td>1.429308e+13</td>\n",
       "      <td>195077</td>\n",
       "      <td>4.429764e+10</td>\n",
       "    </tr>\n",
       "    <tr>\n",
       "      <th>1</th>\n",
       "      <td>2021-05-24</td>\n",
       "      <td>1105220.0</td>\n",
       "      <td>1105220.0</td>\n",
       "      <td>1095726.2</td>\n",
       "      <td>1095726.2</td>\n",
       "      <td>3100360796</td>\n",
       "      <td>1.610564e+13</td>\n",
       "      <td>252943</td>\n",
       "      <td>4.379279e+10</td>\n",
       "    </tr>\n",
       "    <tr>\n",
       "      <th>2</th>\n",
       "      <td>2021-05-25</td>\n",
       "      <td>1095800.0</td>\n",
       "      <td>1105850.0</td>\n",
       "      <td>1105446.0</td>\n",
       "      <td>1105446.0</td>\n",
       "      <td>3828842175</td>\n",
       "      <td>2.090582e+13</td>\n",
       "      <td>349959</td>\n",
       "      <td>4.413669e+10</td>\n",
       "    </tr>\n",
       "    <tr>\n",
       "      <th>3</th>\n",
       "      <td>2021-05-26</td>\n",
       "      <td>1106380.0</td>\n",
       "      <td>1110560.0</td>\n",
       "      <td>1109369.6</td>\n",
       "      <td>1109369.6</td>\n",
       "      <td>3187572389</td>\n",
       "      <td>1.646125e+13</td>\n",
       "      <td>389162</td>\n",
       "      <td>4.429966e+10</td>\n",
       "    </tr>\n",
       "    <tr>\n",
       "      <th>4</th>\n",
       "      <td>2021-05-29</td>\n",
       "      <td>1111520.0</td>\n",
       "      <td>1139620.0</td>\n",
       "      <td>1139480.9</td>\n",
       "      <td>1139480.9</td>\n",
       "      <td>5193610223</td>\n",
       "      <td>2.851750e+13</td>\n",
       "      <td>395488</td>\n",
       "      <td>4.558550e+10</td>\n",
       "    </tr>\n",
       "  </tbody>\n",
       "</table>\n",
       "</div>"
      ],
      "text/plain": [
       "        Date     <OPEN>     <HIGH>      <LOW>    <CLOSE>       <VOL>  \\\n",
       "0 2021-05-23  1123500.0  1123500.0  1107900.3  1107900.3  2736872962   \n",
       "1 2021-05-24  1105220.0  1105220.0  1095726.2  1095726.2  3100360796   \n",
       "2 2021-05-25  1095800.0  1105850.0  1105446.0  1105446.0  3828842175   \n",
       "3 2021-05-26  1106380.0  1110560.0  1109369.6  1109369.6  3187572389   \n",
       "4 2021-05-29  1111520.0  1139620.0  1139480.9  1139480.9  5193610223   \n",
       "\n",
       "      <OPENINT>  <OPENINT>.1   <OPENINT>.2  \n",
       "0  1.429308e+13       195077  4.429764e+10  \n",
       "1  1.610564e+13       252943  4.379279e+10  \n",
       "2  2.090582e+13       349959  4.413669e+10  \n",
       "3  1.646125e+13       389162  4.429966e+10  \n",
       "4  2.851750e+13       395488  4.558550e+10  "
      ]
     },
     "execution_count": 114,
     "metadata": {},
     "output_type": "execute_result"
    }
   ],
   "source": [
    "# Filter to last years data\n",
    "df = df[df[\"Date\"] >= \"2021-05-23\"]\n",
    "df.reset_index(inplace=True, drop=True)\n",
    "df.head()"
   ]
  },
  {
   "cell_type": "code",
   "execution_count": 115,
   "metadata": {},
   "outputs": [
    {
     "data": {
      "text/plain": [
       "<AxesSubplot:xlabel='Date'>"
      ]
     },
     "execution_count": 115,
     "metadata": {},
     "output_type": "execute_result"
    },
    {
     "data": {
      "image/png": "[encoded data removed]",
      "text/plain": [
       "<Figure size 864x432 with 1 Axes>"
      ]
     },
     "metadata": {},
     "output_type": "display_data"
    }
   ],
   "source": [
    "df.plot(x=\"Date\", y=\"<CLOSE>\", figsize=(12, 6))"
   ]
  },
  {
   "cell_type": "code",
   "execution_count": 116,
   "metadata": {},
   "outputs": [
    {
     "name": "stdout",
     "output_type": "stream",
     "text": [
      "<class 'pandas.core.frame.DataFrame'>\n",
      "RangeIndex: 238 entries, 0 to 237\n",
      "Data columns (total 9 columns):\n",
      " #   Column       Non-Null Count  Dtype         \n",
      "---  ------       --------------  -----         \n",
      " 0   Date         238 non-null    datetime64[ns]\n",
      " 1   <OPEN>       238 non-null    float64       \n",
      " 2   <HIGH>       238 non-null    float64       \n",
      " 3   <LOW>        238 non-null    float64       \n",
      " 4   <CLOSE>      238 non-null    float64       \n",
      " 5   <VOL>        238 non-null    int64         \n",
      " 6   <OPENINT>    238 non-null    float64       \n",
      " 7   <OPENINT>.1  238 non-null    int64         \n",
      " 8   <OPENINT>.2  238 non-null    float64       \n",
      "dtypes: datetime64[ns](1), float64(6), int64(2)\n",
      "memory usage: 16.9 KB\n"
     ]
    }
   ],
   "source": [
    "df.info()"
   ]
  },
  {
   "cell_type": "code",
   "execution_count": 117,
   "metadata": {},
   "outputs": [],
   "source": [
    "data = df[\"<CLOSE>\"].to_numpy()"
   ]
  },
  {
   "cell_type": "code",
   "execution_count": 118,
   "metadata": {},
   "outputs": [
    {
     "data": {
      "text/plain": [
       "[<matplotlib.lines.Line2D at 0x2287c018580>]"
      ]
     },
     "execution_count": 118,
     "metadata": {},
     "output_type": "execute_result"
    },
    {
     "data": {
      "image/png": "[encoded data removed]",
      "text/plain": [
       "<Figure size 432x288 with 1 Axes>"
      ]
     },
     "metadata": {},
     "output_type": "display_data"
    }
   ],
   "source": [
    "plt.plot(data)"
   ]
  },
  {
   "cell_type": "markdown",
   "metadata": {},
   "source": [
    "### Preprocessing"
   ]
  },
  {
   "cell_type": "code",
   "execution_count": 119,
   "metadata": {},
   "outputs": [],
   "source": [
    "from sklearn.preprocessing import MinMaxScaler\n",
    "scaler = MinMaxScaler(feature_range=(0, 1))\n",
    "data = scaler.fit_transform(data.reshape(-1, 1))\n"
   ]
  },
  {
   "cell_type": "code",
   "execution_count": 120,
   "metadata": {},
   "outputs": [],
   "source": [
    "# train_size = len(data)*0.70\n",
    "# Stratified train test split\n",
    "from sklearn.model_selection import train_test_split\n",
    "\n",
    "\n",
    "# train_data, test_data = data[0:int(train_size)], data[int(train_size):]\n",
    "# len(train_data), len(test_data)"
   ]
  },
  {
   "cell_type": "markdown",
   "metadata": {},
   "source": [
    "### Create Dataset"
   ]
  },
  {
   "cell_type": "code",
   "execution_count": 121,
   "metadata": {},
   "outputs": [],
   "source": [
    "def create_dataset(dataset, time_steps=1):\n",
    "    data_x, data_y = [], []\n",
    "    for i in range(len(dataset)-time_steps-1):\n",
    "        data_x.append(dataset[i:(i+time_steps)])\n",
    "\n",
    "        # check if the close price is higher than the previous day\n",
    "        if dataset[i+time_steps] > dataset[i+time_steps-1]:\n",
    "            data_y.append(1)\n",
    "        else:\n",
    "            data_y.append(0)\n",
    "            \n",
    "    return np.array(data_x), np.array(data_y).reshape(-1, 1)"
   ]
  },
  {
   "cell_type": "code",
   "execution_count": 122,
   "metadata": {},
   "outputs": [
    {
     "name": "stdout",
     "output_type": "stream",
     "text": [
      "x_data shape: (222, 15, 1)\n",
      "y_data shape: (222, 1)\n"
     ]
    }
   ],
   "source": [
    "time_steps = 15\n",
    "x_data, y_data = create_dataset(data, time_steps)\n",
    "\n",
    "print(\"x_data shape:\", x_data.shape)\n",
    "print(\"y_data shape:\", y_data.shape)\n",
    "\n",
    "# print(\"x_train shape:\", x_train.shape)\n",
    "# print(\"y_train shape:\", y_train.shape)\n",
    "# print(\"x_test shape:\", x_test.shape)\n",
    "# print(\"y_test shape:\", y_test.shape)\n",
    "\n",
    "# Note: LSTM requires input shape to be (sample, timesteps, feature_size) in this case: (155, 10, 1)\n"
   ]
  },
  {
   "cell_type": "code",
   "execution_count": 200,
   "metadata": {},
   "outputs": [
    {
     "name": "stdout",
     "output_type": "stream",
     "text": [
      "x_train shape: (155, 15, 1)\n",
      "y_train shape: (155, 1)\n",
      "x_test shape: (67, 15, 1)\n",
      "y_test shape: (67, 1)\n"
     ]
    }
   ],
   "source": [
    "from sklearn.model_selection import train_test_split\n",
    "\n",
    "x_train, x_test, y_train, y_test = train_test_split(x_data, y_data, test_size=0.3, stratify=y_data)\n",
    "\n",
    "print(\"x_train shape:\", x_train.shape)\n",
    "print(\"y_train shape:\", y_train.shape)\n",
    "print(\"x_test shape:\", x_test.shape)\n",
    "print(\"y_test shape:\", y_test.shape)\n"
   ]
  },
  {
   "cell_type": "code",
   "execution_count": null,
   "metadata": {},
   "outputs": [],
   "source": []
  },
  {
   "cell_type": "code",
   "execution_count": 201,
   "metadata": {},
   "outputs": [
    {
     "name": "stdout",
     "output_type": "stream",
     "text": [
      "y_data: (array([0, 1]), array([ 94, 128], dtype=int64))\n",
      "y_train: (array([0, 1]), array([66, 89], dtype=int64))\n",
      "y_test: (array([0, 1]), array([28, 39], dtype=int64))\n"
     ]
    }
   ],
   "source": [
    "print(\"y_data:\", np.unique(y_data, return_counts=True))\n",
    "print(\"y_train:\", np.unique(y_train, return_counts=True))\n",
    "print(\"y_test:\", np.unique(y_test, return_counts=True))"
   ]
  },
  {
   "cell_type": "code",
   "execution_count": 205,
   "metadata": {},
   "outputs": [
    {
     "data": {
      "text/plain": [
       "0.5765765765765766"
      ]
     },
     "execution_count": 205,
     "metadata": {},
     "output_type": "execute_result"
    }
   ],
   "source": [
    "128/(94+128)"
   ]
  },
  {
   "cell_type": "code",
   "execution_count": 206,
   "metadata": {},
   "outputs": [
    {
     "data": {
      "text/plain": [
       "0.5741935483870968"
      ]
     },
     "execution_count": 206,
     "metadata": {},
     "output_type": "execute_result"
    }
   ],
   "source": [
    "89/(66+89)"
   ]
  },
  {
   "cell_type": "code",
   "execution_count": 207,
   "metadata": {},
   "outputs": [
    {
     "data": {
      "text/plain": [
       "0.582089552238806"
      ]
     },
     "execution_count": 207,
     "metadata": {},
     "output_type": "execute_result"
    }
   ],
   "source": [
    "39/(28+39)"
   ]
  },
  {
   "cell_type": "code",
   "execution_count": 193,
   "metadata": {},
   "outputs": [
    {
     "name": "stdout",
     "output_type": "stream",
     "text": [
      "y_1: (array([0, 1]), array([ 75, 102], dtype=int64))\n",
      "y_2: (array([0, 1]), array([ 75, 102], dtype=int64))\n"
     ]
    }
   ],
   "source": [
    "# label_0_count = np.sum(y_data == 0)\n",
    "# label_1_count = np.sum(y_data == 1)\n",
    "# label_0_count_current = 0\n",
    "# for i in range(len(y_data)):\n",
    "#     if y_data[i] == 1:\n",
    "#         plt.plot(x_data[i], data[i], \"ro\")\n",
    "#     else:\n",
    "#         plt.plot(x_data[i], data[i], \"bo\")\n"
   ]
  },
  {
   "cell_type": "code",
   "execution_count": null,
   "metadata": {},
   "outputs": [],
   "source": []
  },
  {
   "cell_type": "markdown",
   "metadata": {},
   "source": [
    "### LSTM Model Creation"
   ]
  },
  {
   "cell_type": "code",
   "execution_count": 74,
   "metadata": {},
   "outputs": [
    {
     "name": "stdout",
     "output_type": "stream",
     "text": [
      "Model: \"sequential_16\"\n",
      "_________________________________________________________________\n",
      " Layer (type)                Output Shape              Param #   \n",
      "=================================================================\n",
      " lstm_24 (LSTM)              (None, 8)                 320       \n",
      "                                                                 \n",
      " dense_16 (Dense)            (None, 1)                 9         \n",
      "                                                                 \n",
      "=================================================================\n",
      "Total params: 329\n",
      "Trainable params: 329\n",
      "Non-trainable params: 0\n",
      "_________________________________________________________________\n"
     ]
    }
   ],
   "source": [
    "from tensorflow.keras.models import Sequential\n",
    "from tensorflow.keras.layers import Dense, LSTM, Dropout\n",
    "\n",
    "model = Sequential()\n",
    "model.add(LSTM(units=8, return_sequences=False, input_shape=(x_train.shape[1], x_train.shape[2])))\n",
    "# model.add(LSTM(units=50, return_sequences=False))\n",
    "# model.add(LSTM(units=50))\n",
    "# model.add(Dropout(0.05))\n",
    "model.add(Dense(units=1, activation=\"sigmoid\"))\n",
    "model.compile(optimizer=tf.keras.optimizers.Adam(learning_rate=0.0001), loss=\"binary_crossentropy\", metrics=[\"accuracy\"])\n",
    "model.summary()"
   ]
  },
  {
   "cell_type": "markdown",
   "metadata": {},
   "source": [
    "### LSTM Model Train"
   ]
  },
  {
   "cell_type": "code",
   "execution_count": 75,
   "metadata": {},
   "outputs": [
    {
     "name": "stdout",
     "output_type": "stream",
     "text": [
      "Epoch 1/100\n",
      "3/3 [==============================] - 3s 338ms/step - loss: 0.6949 - accuracy: 0.4533 - val_loss: 0.7028 - val_accuracy: 0.3393\n",
      "Epoch 2/100\n",
      "3/3 [==============================] - 0s 66ms/step - loss: 0.6948 - accuracy: 0.4533 - val_loss: 0.7025 - val_accuracy: 0.3393\n",
      "Epoch 3/100\n",
      "3/3 [==============================] - 0s 48ms/step - loss: 0.6947 - accuracy: 0.4533 - val_loss: 0.7022 - val_accuracy: 0.3393\n",
      "Epoch 4/100\n",
      "3/3 [==============================] - 0s 53ms/step - loss: 0.6946 - accuracy: 0.4533 - val_loss: 0.7019 - val_accuracy: 0.3393\n",
      "Epoch 5/100\n",
      "3/3 [==============================] - 0s 54ms/step - loss: 0.6946 - accuracy: 0.4467 - val_loss: 0.7016 - val_accuracy: 0.3393\n",
      "Epoch 6/100\n",
      "3/3 [==============================] - 0s 48ms/step - loss: 0.6945 - accuracy: 0.4533 - val_loss: 0.7013 - val_accuracy: 0.3393\n",
      "Epoch 7/100\n",
      "3/3 [==============================] - 0s 47ms/step - loss: 0.6944 - accuracy: 0.4600 - val_loss: 0.7010 - val_accuracy: 0.3393\n",
      "Epoch 8/100\n",
      "3/3 [==============================] - 0s 47ms/step - loss: 0.6943 - accuracy: 0.4667 - val_loss: 0.7007 - val_accuracy: 0.3393\n",
      "Epoch 9/100\n",
      "3/3 [==============================] - 0s 53ms/step - loss: 0.6943 - accuracy: 0.4667 - val_loss: 0.7004 - val_accuracy: 0.3393\n",
      "Epoch 10/100\n",
      "3/3 [==============================] - 0s 59ms/step - loss: 0.6942 - accuracy: 0.4733 - val_loss: 0.7002 - val_accuracy: 0.3393\n",
      "Epoch 11/100\n",
      "3/3 [==============================] - 0s 48ms/step - loss: 0.6941 - accuracy: 0.4733 - val_loss: 0.6999 - val_accuracy: 0.3393\n",
      "Epoch 12/100\n",
      "3/3 [==============================] - 0s 58ms/step - loss: 0.6941 - accuracy: 0.4733 - val_loss: 0.6996 - val_accuracy: 0.3393\n",
      "Epoch 13/100\n",
      "3/3 [==============================] - 0s 48ms/step - loss: 0.6940 - accuracy: 0.4733 - val_loss: 0.6993 - val_accuracy: 0.3393\n",
      "Epoch 14/100\n",
      "3/3 [==============================] - 0s 48ms/step - loss: 0.6939 - accuracy: 0.4733 - val_loss: 0.6991 - val_accuracy: 0.3393\n",
      "Epoch 15/100\n",
      "3/3 [==============================] - 0s 47ms/step - loss: 0.6939 - accuracy: 0.4733 - val_loss: 0.6988 - val_accuracy: 0.3393\n",
      "Epoch 16/100\n",
      "3/3 [==============================] - 0s 58ms/step - loss: 0.6938 - accuracy: 0.4733 - val_loss: 0.6987 - val_accuracy: 0.3393\n",
      "Epoch 17/100\n",
      "3/3 [==============================] - 0s 54ms/step - loss: 0.6938 - accuracy: 0.4733 - val_loss: 0.6985 - val_accuracy: 0.3393\n",
      "Epoch 18/100\n",
      "3/3 [==============================] - 0s 221ms/step - loss: 0.6937 - accuracy: 0.4867 - val_loss: 0.6983 - val_accuracy: 0.3393\n",
      "Epoch 19/100\n",
      "3/3 [==============================] - 0s 58ms/step - loss: 0.6936 - accuracy: 0.4867 - val_loss: 0.6981 - val_accuracy: 0.3571\n",
      "Epoch 20/100\n",
      "3/3 [==============================] - 0s 48ms/step - loss: 0.6936 - accuracy: 0.4800 - val_loss: 0.6980 - val_accuracy: 0.3929\n",
      "Epoch 21/100\n",
      "3/3 [==============================] - 0s 48ms/step - loss: 0.6936 - accuracy: 0.5067 - val_loss: 0.6977 - val_accuracy: 0.3571\n",
      "Epoch 22/100\n",
      "3/3 [==============================] - 0s 47ms/step - loss: 0.6935 - accuracy: 0.5067 - val_loss: 0.6975 - val_accuracy: 0.3750\n",
      "Epoch 23/100\n",
      "3/3 [==============================] - 0s 48ms/step - loss: 0.6935 - accuracy: 0.5267 - val_loss: 0.6973 - val_accuracy: 0.3750\n",
      "Epoch 24/100\n",
      "3/3 [==============================] - 0s 53ms/step - loss: 0.6934 - accuracy: 0.5267 - val_loss: 0.6971 - val_accuracy: 0.3750\n",
      "Epoch 25/100\n",
      "3/3 [==============================] - 0s 44ms/step - loss: 0.6933 - accuracy: 0.5333 - val_loss: 0.6969 - val_accuracy: 0.3929\n",
      "Epoch 26/100\n",
      "3/3 [==============================] - 0s 49ms/step - loss: 0.6933 - accuracy: 0.5333 - val_loss: 0.6966 - val_accuracy: 0.3929\n",
      "Epoch 27/100\n",
      "3/3 [==============================] - 0s 52ms/step - loss: 0.6932 - accuracy: 0.5400 - val_loss: 0.6964 - val_accuracy: 0.3929\n",
      "Epoch 28/100\n",
      "3/3 [==============================] - 0s 53ms/step - loss: 0.6932 - accuracy: 0.5400 - val_loss: 0.6962 - val_accuracy: 0.3750\n",
      "Epoch 29/100\n",
      "3/3 [==============================] - 0s 43ms/step - loss: 0.6931 - accuracy: 0.5400 - val_loss: 0.6960 - val_accuracy: 0.4286\n",
      "Epoch 30/100\n",
      "3/3 [==============================] - 0s 43ms/step - loss: 0.6931 - accuracy: 0.5333 - val_loss: 0.6958 - val_accuracy: 0.4464\n",
      "Epoch 31/100\n",
      "3/3 [==============================] - 0s 44ms/step - loss: 0.6930 - accuracy: 0.5200 - val_loss: 0.6957 - val_accuracy: 0.4286\n",
      "Epoch 32/100\n",
      "3/3 [==============================] - 0s 50ms/step - loss: 0.6930 - accuracy: 0.5200 - val_loss: 0.6955 - val_accuracy: 0.4464\n",
      "Epoch 33/100\n",
      "3/3 [==============================] - 0s 55ms/step - loss: 0.6930 - accuracy: 0.5000 - val_loss: 0.6953 - val_accuracy: 0.4464\n",
      "Epoch 34/100\n",
      "3/3 [==============================] - 0s 49ms/step - loss: 0.6929 - accuracy: 0.5000 - val_loss: 0.6951 - val_accuracy: 0.4464\n",
      "Epoch 35/100\n",
      "3/3 [==============================] - 0s 49ms/step - loss: 0.6929 - accuracy: 0.4933 - val_loss: 0.6949 - val_accuracy: 0.4464\n",
      "Epoch 36/100\n",
      "3/3 [==============================] - 0s 44ms/step - loss: 0.6928 - accuracy: 0.5000 - val_loss: 0.6948 - val_accuracy: 0.4643\n",
      "Epoch 37/100\n",
      "3/3 [==============================] - 0s 49ms/step - loss: 0.6928 - accuracy: 0.5067 - val_loss: 0.6946 - val_accuracy: 0.4643\n",
      "Epoch 38/100\n",
      "3/3 [==============================] - 0s 58ms/step - loss: 0.6928 - accuracy: 0.5133 - val_loss: 0.6945 - val_accuracy: 0.4643\n",
      "Epoch 39/100\n",
      "3/3 [==============================] - 0s 49ms/step - loss: 0.6927 - accuracy: 0.5067 - val_loss: 0.6943 - val_accuracy: 0.4643\n",
      "Epoch 40/100\n",
      "3/3 [==============================] - 0s 71ms/step - loss: 0.6927 - accuracy: 0.5133 - val_loss: 0.6942 - val_accuracy: 0.4821\n",
      "Epoch 41/100\n",
      "3/3 [==============================] - 0s 54ms/step - loss: 0.6927 - accuracy: 0.5000 - val_loss: 0.6940 - val_accuracy: 0.4821\n",
      "Epoch 42/100\n",
      "3/3 [==============================] - 0s 54ms/step - loss: 0.6926 - accuracy: 0.5133 - val_loss: 0.6938 - val_accuracy: 0.4821\n",
      "Epoch 43/100\n",
      "3/3 [==============================] - 0s 44ms/step - loss: 0.6926 - accuracy: 0.5000 - val_loss: 0.6936 - val_accuracy: 0.4643\n",
      "Epoch 44/100\n",
      "3/3 [==============================] - 0s 44ms/step - loss: 0.6925 - accuracy: 0.4800 - val_loss: 0.6935 - val_accuracy: 0.4821\n",
      "Epoch 45/100\n",
      "3/3 [==============================] - 0s 49ms/step - loss: 0.6925 - accuracy: 0.4933 - val_loss: 0.6933 - val_accuracy: 0.4821\n",
      "Epoch 46/100\n",
      "3/3 [==============================] - 0s 54ms/step - loss: 0.6925 - accuracy: 0.5000 - val_loss: 0.6932 - val_accuracy: 0.5000\n",
      "Epoch 47/100\n",
      "3/3 [==============================] - 0s 43ms/step - loss: 0.6924 - accuracy: 0.5200 - val_loss: 0.6929 - val_accuracy: 0.5000\n",
      "Epoch 48/100\n",
      "3/3 [==============================] - 0s 44ms/step - loss: 0.6924 - accuracy: 0.5467 - val_loss: 0.6927 - val_accuracy: 0.5000\n",
      "Epoch 49/100\n",
      "3/3 [==============================] - 0s 44ms/step - loss: 0.6924 - accuracy: 0.5533 - val_loss: 0.6924 - val_accuracy: 0.5179\n",
      "Epoch 50/100\n",
      "3/3 [==============================] - 0s 43ms/step - loss: 0.6923 - accuracy: 0.5533 - val_loss: 0.6922 - val_accuracy: 0.5179\n",
      "Epoch 51/100\n",
      "3/3 [==============================] - 0s 44ms/step - loss: 0.6922 - accuracy: 0.5467 - val_loss: 0.6920 - val_accuracy: 0.5357\n",
      "Epoch 52/100\n",
      "3/3 [==============================] - 0s 49ms/step - loss: 0.6922 - accuracy: 0.5333 - val_loss: 0.6919 - val_accuracy: 0.5357\n",
      "Epoch 53/100\n",
      "3/3 [==============================] - 0s 54ms/step - loss: 0.6921 - accuracy: 0.5267 - val_loss: 0.6917 - val_accuracy: 0.5357\n",
      "Epoch 54/100\n",
      "3/3 [==============================] - 0s 43ms/step - loss: 0.6921 - accuracy: 0.5333 - val_loss: 0.6915 - val_accuracy: 0.5893\n",
      "Epoch 55/100\n",
      "3/3 [==============================] - 0s 43ms/step - loss: 0.6921 - accuracy: 0.5400 - val_loss: 0.6913 - val_accuracy: 0.5893\n",
      "Epoch 56/100\n",
      "3/3 [==============================] - 0s 49ms/step - loss: 0.6920 - accuracy: 0.5533 - val_loss: 0.6911 - val_accuracy: 0.5893\n",
      "Epoch 57/100\n",
      "3/3 [==============================] - 0s 48ms/step - loss: 0.6920 - accuracy: 0.5400 - val_loss: 0.6910 - val_accuracy: 0.6071\n",
      "Epoch 58/100\n",
      "3/3 [==============================] - 0s 44ms/step - loss: 0.6920 - accuracy: 0.5467 - val_loss: 0.6908 - val_accuracy: 0.6071\n",
      "Epoch 59/100\n",
      "3/3 [==============================] - 0s 43ms/step - loss: 0.6919 - accuracy: 0.5400 - val_loss: 0.6907 - val_accuracy: 0.6071\n",
      "Epoch 60/100\n",
      "3/3 [==============================] - 0s 44ms/step - loss: 0.6919 - accuracy: 0.5467 - val_loss: 0.6905 - val_accuracy: 0.5893\n",
      "Epoch 61/100\n",
      "3/3 [==============================] - 0s 52ms/step - loss: 0.6919 - accuracy: 0.5467 - val_loss: 0.6903 - val_accuracy: 0.5714\n",
      "Epoch 62/100\n",
      "3/3 [==============================] - 0s 54ms/step - loss: 0.6918 - accuracy: 0.5533 - val_loss: 0.6901 - val_accuracy: 0.6071\n",
      "Epoch 63/100\n",
      "3/3 [==============================] - 0s 43ms/step - loss: 0.6918 - accuracy: 0.5400 - val_loss: 0.6900 - val_accuracy: 0.6071\n",
      "Epoch 64/100\n",
      "3/3 [==============================] - 0s 44ms/step - loss: 0.6918 - accuracy: 0.5467 - val_loss: 0.6898 - val_accuracy: 0.5893\n",
      "Epoch 65/100\n",
      "3/3 [==============================] - 0s 47ms/step - loss: 0.6917 - accuracy: 0.5533 - val_loss: 0.6897 - val_accuracy: 0.6071\n",
      "Epoch 66/100\n",
      "3/3 [==============================] - 0s 53ms/step - loss: 0.6917 - accuracy: 0.5533 - val_loss: 0.6895 - val_accuracy: 0.6429\n",
      "Epoch 67/100\n",
      "3/3 [==============================] - 0s 42ms/step - loss: 0.6917 - accuracy: 0.5533 - val_loss: 0.6894 - val_accuracy: 0.6429\n",
      "Epoch 68/100\n",
      "3/3 [==============================] - 0s 51ms/step - loss: 0.6917 - accuracy: 0.5467 - val_loss: 0.6893 - val_accuracy: 0.6607\n",
      "Epoch 69/100\n",
      "3/3 [==============================] - 0s 50ms/step - loss: 0.6916 - accuracy: 0.5533 - val_loss: 0.6892 - val_accuracy: 0.6607\n",
      "Epoch 70/100\n",
      "3/3 [==============================] - 0s 43ms/step - loss: 0.6916 - accuracy: 0.5600 - val_loss: 0.6891 - val_accuracy: 0.6786\n",
      "Epoch 71/100\n",
      "3/3 [==============================] - 0s 43ms/step - loss: 0.6916 - accuracy: 0.5533 - val_loss: 0.6889 - val_accuracy: 0.6786\n",
      "Epoch 72/100\n",
      "3/3 [==============================] - 0s 44ms/step - loss: 0.6916 - accuracy: 0.5667 - val_loss: 0.6888 - val_accuracy: 0.6607\n",
      "Epoch 73/100\n",
      "3/3 [==============================] - 0s 48ms/step - loss: 0.6915 - accuracy: 0.5667 - val_loss: 0.6887 - val_accuracy: 0.6607\n",
      "Epoch 74/100\n",
      "3/3 [==============================] - 0s 49ms/step - loss: 0.6915 - accuracy: 0.5600 - val_loss: 0.6885 - val_accuracy: 0.6786\n",
      "Epoch 75/100\n",
      "3/3 [==============================] - 0s 49ms/step - loss: 0.6915 - accuracy: 0.5533 - val_loss: 0.6884 - val_accuracy: 0.6786\n",
      "Epoch 76/100\n",
      "3/3 [==============================] - 0s 55ms/step - loss: 0.6914 - accuracy: 0.5467 - val_loss: 0.6882 - val_accuracy: 0.6607\n",
      "Epoch 77/100\n",
      "3/3 [==============================] - 0s 47ms/step - loss: 0.6914 - accuracy: 0.5467 - val_loss: 0.6879 - val_accuracy: 0.6786\n",
      "Epoch 78/100\n",
      "3/3 [==============================] - 0s 49ms/step - loss: 0.6914 - accuracy: 0.5467 - val_loss: 0.6877 - val_accuracy: 0.6964\n",
      "Epoch 79/100\n",
      "3/3 [==============================] - 0s 48ms/step - loss: 0.6913 - accuracy: 0.5467 - val_loss: 0.6876 - val_accuracy: 0.6964\n",
      "Epoch 80/100\n",
      "3/3 [==============================] - 0s 44ms/step - loss: 0.6913 - accuracy: 0.5467 - val_loss: 0.6874 - val_accuracy: 0.6786\n",
      "Epoch 81/100\n",
      "3/3 [==============================] - 0s 49ms/step - loss: 0.6913 - accuracy: 0.5467 - val_loss: 0.6873 - val_accuracy: 0.6786\n",
      "Epoch 82/100\n",
      "3/3 [==============================] - 0s 48ms/step - loss: 0.6912 - accuracy: 0.5467 - val_loss: 0.6872 - val_accuracy: 0.6786\n",
      "Epoch 83/100\n",
      "3/3 [==============================] - 0s 228ms/step - loss: 0.6912 - accuracy: 0.5467 - val_loss: 0.6871 - val_accuracy: 0.6607\n",
      "Epoch 84/100\n",
      "3/3 [==============================] - 0s 43ms/step - loss: 0.6912 - accuracy: 0.5467 - val_loss: 0.6871 - val_accuracy: 0.6607\n",
      "Epoch 85/100\n",
      "3/3 [==============================] - 0s 55ms/step - loss: 0.6912 - accuracy: 0.5467 - val_loss: 0.6870 - val_accuracy: 0.6607\n",
      "Epoch 86/100\n",
      "3/3 [==============================] - 0s 49ms/step - loss: 0.6912 - accuracy: 0.5467 - val_loss: 0.6869 - val_accuracy: 0.6607\n",
      "Epoch 87/100\n",
      "3/3 [==============================] - 0s 49ms/step - loss: 0.6912 - accuracy: 0.5467 - val_loss: 0.6868 - val_accuracy: 0.6607\n",
      "Epoch 88/100\n",
      "3/3 [==============================] - 0s 49ms/step - loss: 0.6911 - accuracy: 0.5467 - val_loss: 0.6866 - val_accuracy: 0.6607\n",
      "Epoch 89/100\n",
      "3/3 [==============================] - 0s 42ms/step - loss: 0.6911 - accuracy: 0.5467 - val_loss: 0.6864 - val_accuracy: 0.6607\n",
      "Epoch 90/100\n",
      "3/3 [==============================] - 0s 61ms/step - loss: 0.6911 - accuracy: 0.5467 - val_loss: 0.6863 - val_accuracy: 0.6607\n",
      "Epoch 91/100\n",
      "3/3 [==============================] - 0s 53ms/step - loss: 0.6910 - accuracy: 0.5467 - val_loss: 0.6861 - val_accuracy: 0.6607\n",
      "Epoch 92/100\n",
      "3/3 [==============================] - 0s 44ms/step - loss: 0.6910 - accuracy: 0.5467 - val_loss: 0.6860 - val_accuracy: 0.6607\n",
      "Epoch 93/100\n",
      "3/3 [==============================] - 0s 44ms/step - loss: 0.6910 - accuracy: 0.5467 - val_loss: 0.6859 - val_accuracy: 0.6607\n",
      "Epoch 94/100\n",
      "3/3 [==============================] - 0s 43ms/step - loss: 0.6910 - accuracy: 0.5467 - val_loss: 0.6858 - val_accuracy: 0.6607\n",
      "Epoch 95/100\n",
      "3/3 [==============================] - 0s 50ms/step - loss: 0.6910 - accuracy: 0.5467 - val_loss: 0.6856 - val_accuracy: 0.6607\n",
      "Epoch 96/100\n",
      "3/3 [==============================] - 0s 47ms/step - loss: 0.6909 - accuracy: 0.5467 - val_loss: 0.6855 - val_accuracy: 0.6607\n",
      "Epoch 97/100\n",
      "3/3 [==============================] - 0s 44ms/step - loss: 0.6909 - accuracy: 0.5467 - val_loss: 0.6853 - val_accuracy: 0.6607\n",
      "Epoch 98/100\n",
      "3/3 [==============================] - 0s 46ms/step - loss: 0.6909 - accuracy: 0.5467 - val_loss: 0.6851 - val_accuracy: 0.6607\n",
      "Epoch 99/100\n",
      "3/3 [==============================] - 0s 50ms/step - loss: 0.6909 - accuracy: 0.5467 - val_loss: 0.6849 - val_accuracy: 0.6607\n",
      "Epoch 100/100\n",
      "3/3 [==============================] - 0s 54ms/step - loss: 0.6908 - accuracy: 0.5467 - val_loss: 0.6847 - val_accuracy: 0.6607\n"
     ]
    },
    {
     "data": {
      "text/plain": [
       "<keras.callbacks.History at 0x22875819750>"
      ]
     },
     "execution_count": 75,
     "metadata": {},
     "output_type": "execute_result"
    }
   ],
   "source": [
    "model.fit(\n",
    "    x_train,\n",
    "    y_train, \n",
    "    epochs=100, \n",
    "    batch_size=64,\n",
    "    validation_data=(x_test, y_test),\n",
    "    callbacks=[tf.keras.callbacks.TensorBoard(log_dir=\"logs/{}\".format(datetime.datetime.now().strftime(\"%Y%m%d-%H%M%S\")))]\n",
    "    )"
   ]
  },
  {
   "cell_type": "code",
   "execution_count": 70,
   "metadata": {},
   "outputs": [
    {
     "name": "stdout",
     "output_type": "stream",
     "text": [
      "2/2 [==============================] - 0s 5ms/step - loss: 0.6975 - accuracy: 0.5179\n"
     ]
    },
    {
     "data": {
      "text/plain": [
       "[0.6975001096725464, 0.5178571343421936]"
      ]
     },
     "execution_count": 70,
     "metadata": {},
     "output_type": "execute_result"
    }
   ],
   "source": [
    "model.evaluate(x_test, y_test)"
   ]
  },
  {
   "cell_type": "code",
   "execution_count": 79,
   "metadata": {},
   "outputs": [
    {
     "data": {
      "text/plain": [
       "0.6607142857142857"
      ]
     },
     "execution_count": 79,
     "metadata": {},
     "output_type": "execute_result"
    }
   ],
   "source": []
  },
  {
   "cell_type": "code",
   "execution_count": 77,
   "metadata": {},
   "outputs": [
    {
     "data": {
      "text/plain": [
       "(array([0, 1]), array([19, 37], dtype=int64))"
      ]
     },
     "execution_count": 77,
     "metadata": {},
     "output_type": "execute_result"
    }
   ],
   "source": []
  },
  {
   "cell_type": "markdown",
   "metadata": {},
   "source": [
    "### Prediction"
   ]
  },
  {
   "cell_type": "code",
   "execution_count": 61,
   "metadata": {},
   "outputs": [
    {
     "data": {
      "text/plain": [
       "array([0.55784726], dtype=float32)"
      ]
     },
     "execution_count": 61,
     "metadata": {},
     "output_type": "execute_result"
    }
   ],
   "source": [
    "model.predict(x_test)[2]"
   ]
  },
  {
   "cell_type": "code",
   "execution_count": 63,
   "metadata": {},
   "outputs": [
    {
     "data": {
      "text/plain": [
       "array([[0.55784726]], dtype=float32)"
      ]
     },
     "execution_count": 63,
     "metadata": {},
     "output_type": "execute_result"
    }
   ],
   "source": [
    "model.predict(x_test[2].reshape(1, -1, 1))"
   ]
  },
  {
   "cell_type": "code",
   "execution_count": 81,
   "metadata": {},
   "outputs": [
    {
     "data": {
      "text/plain": [
       "array([1])"
      ]
     },
     "execution_count": 81,
     "metadata": {},
     "output_type": "execute_result"
    }
   ],
   "source": [
    "y_test[2]"
   ]
  },
  {
   "cell_type": "markdown",
   "metadata": {},
   "source": [
    "### Plot Confusion Matrix"
   ]
  },
  {
   "cell_type": "code",
   "execution_count": 83,
   "metadata": {},
   "outputs": [
    {
     "data": {
      "text/plain": [
       "array([0, 1, 1, 1, 0, 0, 1, 0, 1, 1, 1, 0, 1, 0, 1, 0, 1, 1, 1, 1, 1, 1,\n",
       "       0, 1, 1, 1, 1, 0, 0, 1, 1, 0, 1, 1, 1, 1, 1, 0, 0, 1, 1, 0, 1, 1,\n",
       "       1, 1, 1, 0, 0, 1, 1, 0, 1, 1, 0, 0])"
      ]
     },
     "execution_count": 83,
     "metadata": {},
     "output_type": "execute_result"
    }
   ],
   "source": [
    "y_test.squeeze()"
   ]
  },
  {
   "cell_type": "code",
   "execution_count": 94,
   "metadata": {},
   "outputs": [
    {
     "name": "stdout",
     "output_type": "stream",
     "text": [
      "45.9 ms ± 1.98 ms per loop (mean ± std. dev. of 7 runs, 10 loops each)\n"
     ]
    }
   ],
   "source": [
    "%%timeit\n",
    "(model.predict(x_test)>0.5)"
   ]
  },
  {
   "cell_type": "code",
   "execution_count": 110,
   "metadata": {},
   "outputs": [
    {
     "data": {
      "text/plain": [
       "(array([0, 1]), array([19, 37], dtype=int64))"
      ]
     },
     "execution_count": 110,
     "metadata": {},
     "output_type": "execute_result"
    }
   ],
   "source": [
    "np.unique(y_test, return_counts=True)"
   ]
  },
  {
   "cell_type": "code",
   "execution_count": 109,
   "metadata": {},
   "outputs": [
    {
     "data": {
      "image/png": "[encoded data removed]",
      "text/plain": [
       "<Figure size 660x440 with 2 Axes>"
      ]
     },
     "metadata": {},
     "output_type": "display_data"
    }
   ],
   "source": [
    "# Plot the confusion matrix\n",
    "from sklearn.metrics import ConfusionMatrixDisplay\n",
    "\n",
    "# Plot non-normalized confusion matrix\n",
    "\n",
    "disp = ConfusionMatrixDisplay.from_predictions(y_test.squeeze(), model.predict(x_test).squeeze()>0.5, display_labels=[0, 1], cmap=plt.cm.Blues,)\n",
    "disp.figure_.dpi = 110\n",
    "# disp.plot(include_values=True, xticks_rotation='vertical')\n",
    "\n",
    "plt.show()"
   ]
  },
  {
   "cell_type": "markdown",
   "metadata": {},
   "source": [
    "### Tensorboard"
   ]
  },
  {
   "cell_type": "code",
   "execution_count": 65,
   "metadata": {},
   "outputs": [],
   "source": [
    "%load_ext tensorboard"
   ]
  },
  {
   "cell_type": "code",
   "execution_count": 69,
   "metadata": {},
   "outputs": [
    {
     "name": "stdout",
     "output_type": "stream",
     "text": [
      "^C\n"
     ]
    }
   ],
   "source": [
    "%tensorboard --logdir=logs/"
   ]
  },
  {
   "cell_type": "code",
   "execution_count": 156,
   "metadata": {},
   "outputs": [],
   "source": [
    "\n",
    "### Lets Do the prediction and check performance metrics\n",
    "train_predict=model.predict(x_train)\n",
    "test_predict=model.predict(x_test)"
   ]
  },
  {
   "cell_type": "code",
   "execution_count": 157,
   "metadata": {},
   "outputs": [],
   "source": [
    "##Transformback to original form\n",
    "train_predict=scaler.inverse_transform(train_predict)\n",
    "test_predict=scaler.inverse_transform(test_predict)"
   ]
  }
 ],
 "metadata": {
  "interpreter": {
   "hash": "3858431499dcaaf4de29b8b352749eebe871787bd67cf3dfc1982c43a6256c9d"
  },
  "kernelspec": {
   "display_name": "Python 3.10.1 64-bit",
   "language": "python",
   "name": "python3"
  },
  "language_info": {
   "codemirror_mode": {
    "name": "ipython",
    "version": 3
   },
   "file_extension": ".py",
   "mimetype": "text/x-python",
   "name": "python",
   "nbconvert_exporter": "python",
   "pygments_lexer": "ipython3",
   "version": "3.10.1"
  },
  "orig_nbformat": 4
 },
 "nbformat": 4,
 "nbformat_minor": 2
}
