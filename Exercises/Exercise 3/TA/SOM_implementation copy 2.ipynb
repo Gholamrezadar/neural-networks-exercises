{
 "cells": [
  {
   "cell_type": "markdown",
   "metadata": {},
   "source": [
    "## Imports"
   ]
  },
  {
   "cell_type": "code",
   "execution_count": 86,
   "metadata": {},
   "outputs": [],
   "source": [
    "import numpy as np\n",
    "import matplotlib.pyplot as plt\n",
    "import seaborn as sns; sns.set()\n",
    "sns.set_style(\"dark\")\n",
    "import pandas\n",
    "\n",
    "np.random.seed(2)"
   ]
  },
  {
   "cell_type": "markdown",
   "metadata": {},
   "source": [
    "## SOM implementation"
   ]
  },
  {
   "cell_type": "code",
   "execution_count": 87,
   "metadata": {},
   "outputs": [],
   "source": [
    "def load_dataset(path):\n",
    "    df = pandas.read_csv(path, delimiter=\",\")\n",
    "    dataset = df.to_numpy()\n",
    "    X = (dataset[:, 1:]+1)/2\n",
    "    y = dataset[:, 0]\n",
    "\n",
    "    return X, y"
   ]
  },
  {
   "cell_type": "code",
   "execution_count": 88,
   "metadata": {},
   "outputs": [],
   "source": [
    "class SOM:\n",
    "    def __init__(self, map_size, lr=0.1):\n",
    "        \"\"\"\n",
    "        Args:\n",
    "            map_size : [map_w, map_h, f=16]\n",
    "        \"\"\"\n",
    "        self.map = np.random.random(size=(map_size[0], map_size[1], map_size[2]))\n",
    "        # self.map = np.zeros(shape=(map_size[0], map_size[1], map_size[2]))\n",
    "\n",
    "        self.lr0 = lr\n",
    "        self.lr = self.lr0\n",
    "\n",
    "        self.R0 = map_size[0] // 2\n",
    "        self.R = self.R0\n",
    "\n",
    "    def train(self, X, y, T=1000, error_threshold=10**-20):\n",
    "        # Loss history\n",
    "        Js = []\n",
    "        for t in range(T):\n",
    "            prev_map = self.map.copy()\n",
    "            # Shuffle X in every iteration\n",
    "            # shuffle_ind = np.arange(0, X.shape[0], 1)\n",
    "            # np.random.shuffle(shuffle_ind)\n",
    "            shuffle_ind = np.random.randint(0, X.shape[0], X.shape[0])\n",
    "            for i in range(len(X)):\n",
    "                x = X[shuffle_ind[i], :]\n",
    "                # Neuron with most compatibilty with x\n",
    "                winner = self.find_winner(x)\n",
    "                # Get all neurons in the neighborhood of winner\n",
    "                NS = self.get_NS(winner)\n",
    "                # Update weights of all neurons in the neighborhood of winner\n",
    "                self.update_weights(x, winner, NS, len(X)) \n",
    "\n",
    "            # Update learning rate and neighborhood radius (linear decay)\n",
    "            self.lr = self.lr0 * (1 - t / T)\n",
    "            self.R = self.R0 * (1 - t / T)\n",
    "\n",
    "\n",
    "            Js.append(np.linalg.norm(prev_map - self.map))\n",
    "\n",
    "            if t%100 == 0 or t == T-1:\n",
    "                print(f\"Iteration: {t}, Loss: {Js[-1]:.4f}, lr: {self.lr:.4f}, R: {self.R:.4f}\")\n",
    "                # self.visualize(X, y)\n",
    "            \n",
    "            if Js[-1] < error_threshold:\n",
    "                print(\"MIN CHANGE\")\n",
    "                break\n",
    "\n",
    "        return Js\n",
    "    \n",
    "    def find_winner(self, x):\n",
    "        rep_x = np.tile(x, (self.map.shape[0], self.map.shape[1], 1))\n",
    "        dists = np.sum((self.map - rep_x) ** 2, axis=2)\n",
    "        winner = np.unravel_index(np.argmin(dists, axis=None), shape=dists.shape)\n",
    "        return winner\n",
    "\n",
    "    def get_NS(self, winner):\n",
    "        # NS: Neighborhood strength\n",
    "        # if 1: winner\n",
    "        # if 1/2: distance 1 from winner\n",
    "        # if 1/3: distance 2 from winner\n",
    "        # if 1/(1+r): distance r from winner\n",
    "        # if 0: not neighbor\n",
    "        NS = np.zeros((self.map.shape[0], self.map.shape[1]))\n",
    "\n",
    "        # winner i,j\n",
    "        iw, jw = winner[0], winner[1]\n",
    "        \n",
    "        NS[iw, jw] = 1 # Winner\n",
    "        \n",
    "        # Rectangular neighborhood (Change this for hexagonal or circular neighborhood)\n",
    "        # for r in range(1, int(self.R)):\n",
    "        #     if iw - r >=  0:\n",
    "        #         NS[iw - r, jw] = 1/(1+r) # North\n",
    "        #     if iw + r < self.map.shape[0]:\n",
    "        #         NS[iw + r, jw] = 1/(1+r) # South\n",
    "        #     if jw - r >= 0:\n",
    "        #         NS[iw, jw - r] = 1/(1+r) # West\n",
    "        #     if jw + r < self.map.shape[1]:\n",
    "        #         NS[iw, jw + r] = 1/(1+r) # East\n",
    "\n",
    "        # for r in range(1, int(self.R)):\n",
    "        #     if iw - r >=  0:\n",
    "        #         NS[iw - r, jw] = 1/r # North\n",
    "        #     if iw + r < self.map.shape[0]-1:\n",
    "        #         NS[iw + r, jw] = 1/r # South\n",
    "        #     if jw - r > 0:\n",
    "        #         NS[iw, jw - r] = 1/r # West\n",
    "        #     if jw + r < self.map.shape[1]-1:\n",
    "        #         NS[iw, jw + r] = 1/r # East\n",
    "\n",
    "        # Circular neighborhood\n",
    "        R = int(self.R)\n",
    "        for ri in range(-R, R):\n",
    "            for rj in range(-R, R):\n",
    "                if 0 <= iw + ri < self.map.shape[0] and 0 <= jw + rj < self.map.shape[1]:\n",
    "                    NS[iw + ri, jw + rj] = 0 if np.sqrt(ri**2 + rj**2)>R else 1/(1+np.sqrt(ri**2 + rj**2))\n",
    "        \n",
    "        return NS\n",
    "\n",
    "    def update_weights(self, x, winner, n_strength, X_len):\n",
    "        # Note: n_map is already W*H we just need to make it W*H*f\n",
    "        NS = np.tile(n_strength, (self.map.shape[2], 1, 1)).transpose()\n",
    "        # another way:\n",
    "\n",
    "        # Neigborhood strength\n",
    "        # NS = np.repeat(n_strength[:, :, np.newaxis], self.map.shape[2], axis=2) # repeat f times in the last dimension\n",
    "\n",
    "        # Difference between inputs and neurons\n",
    "        rep_x = np.tile(x, (self.map.shape[0], self.map.shape[1], 1))\n",
    "        Delta = rep_x - self.map\n",
    "\n",
    "        # Update weights\n",
    "        self.map = self.map + (self.lr/X_len) * np.multiply(NS, Delta)\n",
    "\n",
    "    def visualize(self, X, y):\n",
    "        self.scores = np.zeros(shape=(self.map.shape[0], self.map.shape[1], 3))\n",
    "\n",
    "        for i in range(len(X)):\n",
    "            x = X[i, :]\n",
    "            winner = self.find_winner(x)\n",
    "            iw, jw = winner[0], winner[1]\n",
    "            if y[i] == 1: # Republican\n",
    "                self.scores[iw, jw] += np.array([1, 0, 0])\n",
    "            if y[i] == -1: # Democrat\n",
    "                self.scores[iw, jw] += np.array([0, 0, 1])\n",
    "            if y[i] == 0:\n",
    "                self.scores[iw, jw] += np.array([0, 1, 0])\n",
    "\n",
    "        plt.imshow(self.scores/np.max(self.scores))\n",
    "        plt.title(\"Map Vizualization\")\n",
    "        plt.show()\n",
    "\n",
    "        return self.scores\n",
    "    \n",
    "    def extract_features(self, x):\n",
    "        rep_x = np.tile(x, (self.map.shape[0], self.map.shape[1], 1))\n",
    "        dists = np.sum((self.map - rep_x) ** 2, axis=2)\n",
    "        return 1/(1+dists)"
   ]
  },
  {
   "cell_type": "markdown",
   "metadata": {},
   "source": [
    "## Main"
   ]
  },
  {
   "cell_type": "code",
   "execution_count": 89,
   "metadata": {},
   "outputs": [
    {
     "name": "stdout",
     "output_type": "stream",
     "text": [
      "Iteration: 0, Loss: 0.1481, lr: 0.1000, R: 4.0000\n",
      "Iteration: 100, Loss: 0.0340, lr: 0.0667, R: 2.6667\n",
      "Iteration: 200, Loss: 0.0068, lr: 0.0333, R: 1.3333\n",
      "Iteration: 299, Loss: 0.0001, lr: 0.0003, R: 0.0133\n"
     ]
    },
    {
     "data": {
      "image/png": "[encoded data removed]",
      "text/plain": [
       "<Figure size 432x288 with 1 Axes>"
      ]
     },
     "metadata": {},
     "output_type": "display_data"
    },
    {
     "data": {
      "image/png": "[encoded data removed]",
      "text/plain": [
       "<Figure size 432x288 with 1 Axes>"
      ]
     },
     "metadata": {},
     "output_type": "display_data"
    },
    {
     "data": {
      "image/png": "[encoded data removed]",
      "text/plain": [
       "<Figure size 432x288 with 1 Axes>"
      ]
     },
     "metadata": {},
     "output_type": "display_data"
    }
   ],
   "source": [
    "X, y = load_dataset(\"congress.csv\")\n",
    "som_net = SOM(map_size=(9,9,X.shape[1]))\n",
    "\n",
    "# Loss\n",
    "Js = som_net.train(X, y, T=300)\n",
    "plt.plot(Js)\n",
    "plt.title(\"Training Loss\")\n",
    "plt.xlabel(\"Iteration\")\n",
    "plt.ylabel(\"Loss\")\n",
    "plt.show()\n",
    "\n",
    "# Visualize\n",
    "scores = som_net.visualize(X, y)\n",
    "\n",
    "# Feature Extraction\n",
    "x = X[0, :]\n",
    "features = som_net.extract_features(x)\n",
    "plt.imshow(features)\n",
    "plt.title(\"Feature Extraction\")\n",
    "plt.show()\n"
   ]
  },
  {
   "cell_type": "markdown",
   "metadata": {},
   "source": [
    "## Tests"
   ]
  },
  {
   "cell_type": "code",
   "execution_count": 125,
   "metadata": {},
   "outputs": [
    {
     "data": {
      "text/plain": [
       "<matplotlib.image.AxesImage at 0x24a27706f80>"
      ]
     },
     "execution_count": 125,
     "metadata": {},
     "output_type": "execute_result"
    },
    {
     "data": {
      "image/png": "[encoded data removed]",
      "text/plain": [
       "<Figure size 432x288 with 1 Axes>"
      ]
     },
     "metadata": {},
     "output_type": "display_data"
    }
   ],
   "source": [
    "# testing log\n",
    "I = 1\n",
    "# plt.imshow((scores+I)/np.max((scores+I)))\n",
    "plt.imshow((np.log(scores+I))/np.max((np.log(scores+I))))\n"
   ]
  },
  {
   "cell_type": "code",
   "execution_count": 90,
   "metadata": {},
   "outputs": [
    {
     "data": {
      "text/plain": [
       "(1, 2)"
      ]
     },
     "execution_count": 90,
     "metadata": {},
     "output_type": "execute_result"
    }
   ],
   "source": [
    "# unravel_index test\n",
    "a = np.array([\n",
    "    [6, 2, 3],\n",
    "    [4, 5, 1]])\n",
    "np.unravel_index(np.argmin(a, axis=None), shape=a.shape)"
   ]
  },
  {
   "cell_type": "code",
   "execution_count": 91,
   "metadata": {},
   "outputs": [
    {
     "data": {
      "text/plain": [
       "array([734,  92,  35, 865, 680, 698, 802, 575, 596, 662, 508, 119, 915,\n",
       "       989, 372, 650, 956, 906, 350, 105])"
      ]
     },
     "execution_count": 91,
     "metadata": {},
     "output_type": "execute_result"
    }
   ],
   "source": [
    "# shuffle test\n",
    "inds = np.arange(0, 1000, 1)\n",
    "np.random.shuffle(inds)\n",
    "inds[:20]"
   ]
  },
  {
   "cell_type": "code",
   "execution_count": 92,
   "metadata": {},
   "outputs": [
    {
     "name": "stdout",
     "output_type": "stream",
     "text": [
      "(2, 3, 3)\n"
     ]
    },
    {
     "data": {
      "text/plain": [
       "array([[[1, 2, 3],\n",
       "        [1, 2, 3],\n",
       "        [1, 2, 3]],\n",
       "\n",
       "       [[1, 2, 3],\n",
       "        [1, 2, 3],\n",
       "        [1, 2, 3]]])"
      ]
     },
     "execution_count": 92,
     "metadata": {},
     "output_type": "execute_result"
    }
   ],
   "source": [
    "# np.tile test\n",
    "a = np.array([1, 2, 3])\n",
    "res = np.tile(a, (2, 3, 1))\n",
    "print(res.shape)\n",
    "res"
   ]
  },
  {
   "cell_type": "code",
   "execution_count": 93,
   "metadata": {},
   "outputs": [
    {
     "name": "stdout",
     "output_type": "stream",
     "text": [
      "(2, 2)\n"
     ]
    }
   ],
   "source": [
    "a = np.array([[1, 2], [1, 2]])\n",
    "print(a.shape)"
   ]
  }
 ],
 "metadata": {
  "interpreter": {
   "hash": "e1f78980d8402c2aa3bc5b076b37f3f79ff6b7409eee8995f6ccbb4aa05c332a"
  },
  "kernelspec": {
   "display_name": "Python 3.10.1 64-bit",
   "language": "python",
   "name": "python3"
  },
  "language_info": {
   "codemirror_mode": {
    "name": "ipython",
    "version": 3
   },
   "file_extension": ".py",
   "mimetype": "text/x-python",
   "name": "python",
   "nbconvert_exporter": "python",
   "pygments_lexer": "ipython3",
   "version": "3.10.1"
  },
  "orig_nbformat": 4
 },
 "nbformat": 4,
 "nbformat_minor": 2
}
