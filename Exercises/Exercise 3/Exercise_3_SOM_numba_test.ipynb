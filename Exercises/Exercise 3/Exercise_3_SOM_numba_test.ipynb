{
 "cells": [
  {
   "cell_type": "markdown",
   "metadata": {},
   "source": [
    "Gholamrezadar 2022 ..."
   ]
  },
  {
   "cell_type": "markdown",
   "metadata": {},
   "source": [
    "## Imports"
   ]
  },
  {
   "cell_type": "code",
   "execution_count": 2,
   "metadata": {},
   "outputs": [
    {
     "name": "stdout",
     "output_type": "stream",
     "text": [
      "[name: \"/device:CPU:0\"\n",
      "device_type: \"CPU\"\n",
      "memory_limit: 268435456\n",
      "locality {\n",
      "}\n",
      "incarnation: 13284671755122685700\n",
      "xla_global_id: -1\n",
      "]\n"
     ]
    }
   ],
   "source": [
    "import numpy as np\n",
    "import matplotlib.pyplot as plt\n",
    "import pandas as pd\n",
    "import seaborn as sns; sns.set()\n",
    "sns.set_style('dark')\n",
    "\n",
    "from tqdm.notebook import trange\n",
    "from tensorflow.python.client import device_lib \n",
    "print(device_lib.list_local_devices())\n",
    "\n",
    "np.random.seed(2)\n",
    "\n",
    "from numba import njit"
   ]
  },
  {
   "cell_type": "markdown",
   "metadata": {},
   "source": [
    "## 3 - Loading the data"
   ]
  },
  {
   "cell_type": "code",
   "execution_count": 3,
   "metadata": {},
   "outputs": [],
   "source": [
    "# Loading and parsing the data\n",
    "X_train_df = pd.read_csv('X_train.txt', delim_whitespace=True, header=None)\n",
    "X_test_df = pd.read_csv('X_test.txt', delim_whitespace=True, header=None)\n",
    "y_train_df = pd.read_csv('y_train.txt', delim_whitespace=True, header=None)\n",
    "y_test_df = pd.read_csv('y_test.txt', delim_whitespace=True, header=None)"
   ]
  },
  {
   "cell_type": "code",
   "execution_count": 4,
   "metadata": {},
   "outputs": [],
   "source": [
    "# Shuffle the data\n",
    "train_idx = np.random.permutation(X_train_df.index)\n",
    "X_train_df = X_train_df.reindex(train_idx)\n",
    "y_train_df = y_train_df.reindex(train_idx)\n",
    "\n",
    "test_idx = np.random.permutation(X_test_df.index)\n",
    "X_test_df = X_test_df.reindex(test_idx)\n",
    "y_test_df = y_test_df.reindex(test_idx)"
   ]
  },
  {
   "cell_type": "code",
   "execution_count": 5,
   "metadata": {},
   "outputs": [],
   "source": [
    "# Train, valid split\n",
    "split = 0.8\n",
    "\n",
    "X_train = X_train_df.iloc[ : int(len(X_train_df)*split),:].reset_index(drop=True)\n",
    "X_valid = X_train_df.iloc[int(len(X_train_df)*split) : ,:].reset_index(drop=True)\n",
    "\n",
    "y_train = y_train_df.iloc[ : int(len(y_train_df)*split)].reset_index(drop=True)\n",
    "y_valid = y_train_df.iloc[int(len(y_train_df)*split) : ].reset_index(drop=True)"
   ]
  },
  {
   "cell_type": "code",
   "execution_count": 6,
   "metadata": {},
   "outputs": [
    {
     "name": "stdout",
     "output_type": "stream",
     "text": [
      "X_train shape: (5881, 561)\n",
      "y_train shape: (5881,) \n",
      "\n",
      "X_valid shape: (1471, 561)\n",
      "y_valid shape: (1471,) \n",
      "\n",
      "X_test shape: (2947, 561)\n",
      "y_test shape: (2947,) \n",
      "\n"
     ]
    }
   ],
   "source": [
    "# Pandas to numpy\n",
    "X_train = X_train.to_numpy()\n",
    "y_train = y_train.to_numpy().flatten()\n",
    "\n",
    "X_valid = X_valid.to_numpy()\n",
    "y_valid = y_valid.to_numpy().flatten()\n",
    "\n",
    "X_test = X_test_df.to_numpy()\n",
    "y_test = y_test_df.to_numpy().flatten()\n",
    "\n",
    "print(f\"X_train shape: {X_train.shape}\")\n",
    "print(f\"y_train shape: {y_train.shape} \\n\")\n",
    "\n",
    "print(f\"X_valid shape: {X_valid.shape}\")\n",
    "print(f\"y_valid shape: {y_valid.shape} \\n\")\n",
    "\n",
    "print(f\"X_test shape: {X_test.shape}\")\n",
    "print(f\"y_test shape: {y_test.shape} \\n\")\n"
   ]
  },
  {
   "cell_type": "code",
   "execution_count": 7,
   "metadata": {},
   "outputs": [],
   "source": [
    "# Cleanup\n",
    "del X_train_df, X_test_df, y_train_df, y_test_df"
   ]
  },
  {
   "cell_type": "markdown",
   "metadata": {},
   "source": [
    "## 4 - MLP"
   ]
  },
  {
   "cell_type": "code",
   "execution_count": 8,
   "metadata": {},
   "outputs": [],
   "source": [
    "%load_ext tensorboard"
   ]
  },
  {
   "cell_type": "code",
   "execution_count": 9,
   "metadata": {},
   "outputs": [],
   "source": [
    "# import tensorflow as tf\n",
    "# from tensorflow.keras.models import Sequential\n",
    "# from tensorflow.keras.layers import Dense, Dropout\n",
    "\n",
    "# # We make a function to create the model so that its easy to recreate the model\n",
    "# # with different hyperparameters.\n",
    "# def create_model():\n",
    "#     model = Sequential([\n",
    "#         Dense(32, activation='relu', input_shape=(X.shape[1],)),\n",
    "#         Dense(32, activation='relu'),\n",
    "#         Dense(2, activation='softmax'),\n",
    "#     ])\n",
    "#     return model"
   ]
  },
  {
   "cell_type": "code",
   "execution_count": 10,
   "metadata": {},
   "outputs": [],
   "source": [
    "\n",
    "# tf.keras.utils.plot_model(\n",
    "#     create_model(), to_file='model.png', show_dtype=True,\n",
    "#     show_layer_names=True, rankdir='TB', expand_nested=True, dpi=120,\n",
    "#     layer_range=None\n",
    "# )\n"
   ]
  },
  {
   "cell_type": "code",
   "execution_count": 11,
   "metadata": {},
   "outputs": [],
   "source": [
    "\n",
    "# import datetime\n",
    "\n",
    "# # Create the model and compile it\n",
    "# model = create_model()\n",
    "# model.compile(optimizer='adam',\n",
    "#             loss='sparse_categorical_crossentropy',\n",
    "#             metrics=['accuracy'])\n",
    "# model.summary()\n"
   ]
  },
  {
   "cell_type": "code",
   "execution_count": 12,
   "metadata": {},
   "outputs": [],
   "source": [
    "\n",
    "# # Tenserboard\n",
    "# log_dir = \"logs/fit/\" + datetime.datetime.now().strftime(\"%Y%m%d-%H%M%S\")\n",
    "# tensorboard_callback = tf.keras.callbacks.TensorBoard(\n",
    "#     log_dir=log_dir, histogram_freq=1)\n"
   ]
  },
  {
   "cell_type": "code",
   "execution_count": 13,
   "metadata": {},
   "outputs": [],
   "source": [
    "\n",
    "# # Train the model\n",
    "# model.fit(x=X_train,\n",
    "#         y=y_train,\n",
    "#         epochs=150,\n",
    "#         validation_split=0.125,\n",
    "#         callbacks=[tensorboard_callback])\n"
   ]
  },
  {
   "cell_type": "code",
   "execution_count": 14,
   "metadata": {},
   "outputs": [],
   "source": [
    "\n",
    "# model.evaluate(X_test, y_test)\n"
   ]
  },
  {
   "cell_type": "code",
   "execution_count": 15,
   "metadata": {},
   "outputs": [],
   "source": [
    "\n",
    "# %tensorboard --logdir logs/fit"
   ]
  },
  {
   "cell_type": "markdown",
   "metadata": {},
   "source": [
    "## 5 - SOM"
   ]
  },
  {
   "cell_type": "code",
   "execution_count": 22,
   "metadata": {},
   "outputs": [],
   "source": [
    "@njit\n",
    "def find_winner_inner(rep_x, map):\n",
    "    dists = np.sum((map - rep_x) ** 2, axis=2)\n",
    "    winner = np.argmin(dists, axis=None)\n",
    "    return winner"
   ]
  },
  {
   "cell_type": "code",
   "execution_count": 23,
   "metadata": {},
   "outputs": [],
   "source": [
    "class SOM:\n",
    "    def __init__(self, map_size, lr=0.1):\n",
    "        \"\"\"\n",
    "        Args:\n",
    "            map_size : [map_w, map_h, f=561]\n",
    "        \"\"\"\n",
    "        self.map = np.random.random(size=(map_size[0], map_size[1], map_size[2]))\n",
    "\n",
    "        self.lr0 = lr\n",
    "        self.lr = self.lr0\n",
    "\n",
    "        self.R0 = map_size[0] // 2\n",
    "        self.R = self.R0\n",
    "\n",
    "        self.Js = []\n",
    "\n",
    "    def train(self, X, y, T=1000, error_threshold=10**-20, viz=False):\n",
    "        # Loss history\n",
    "        self.Js = []\n",
    "        for t in trange(T):\n",
    "            prev_map = self.map.copy()\n",
    "            # Shuffle X in every iteration\n",
    "            shuffle_ind = np.random.randint(0, X.shape[0], X.shape[0])\n",
    "            for i in range(len(X)):\n",
    "                x = X[shuffle_ind[i], :]\n",
    "                # Neuron with most compatibilty with x\n",
    "                winner = self.find_winner(x)\n",
    "                # Get all neurons in the neighborhood of winner\n",
    "                NS = self.get_NS(winner)\n",
    "                # Update weights of all neurons in the neighborhood of winner\n",
    "                self.update_weights(x, winner, NS, len(X)) \n",
    "\n",
    "            # Update learning rate and neighborhood radius (linear decay)\n",
    "            self.lr = self.lr0 * (1 - t / T)\n",
    "            self.R = self.R0 * (1 - t / T)\n",
    "\n",
    "\n",
    "            self.Js.append(np.linalg.norm(prev_map - self.map))\n",
    "\n",
    "            # if t%1 == 0 or t == T-1:\n",
    "            print(f\"Iteration: {t}, Loss: {self.Js[-1]:.4f}, lr: {self.lr:.4f}, R: {self.R:.4f}\")\n",
    "            \n",
    "            if viz:\n",
    "                self.visualize(X, y)\n",
    "            \n",
    "            if self.Js[-1] < error_threshold:\n",
    "                print(\"MIN CHANGE\")\n",
    "                break\n",
    "\n",
    "        return self.Js\n",
    "\n",
    "    def find_winner(self, x):\n",
    "        rep_x = np.tile(x, (self.map.shape[0], self.map.shape[1], 1))\n",
    "        winner = np.unravel_index(find_winner_inner(rep_x, self.map), shape=(self.map.shape[0], self.map.shape[1]))\n",
    "        return winner\n",
    "\n",
    "    def get_NS(self, winner):\n",
    "        # NS: Neighborhood strength\n",
    "        NS = np.zeros((self.map.shape[0], self.map.shape[1]))\n",
    "\n",
    "        # winner i,j\n",
    "        iw, jw = winner[0], winner[1]\n",
    "        \n",
    "        NS[iw, jw] = 1 # Winner\n",
    "\n",
    "        # Circular neighborhood\n",
    "        R = int(self.R)\n",
    "        for ri in range(-R, R):\n",
    "            for rj in range(-R, R):\n",
    "                if 0 <= iw + ri < self.map.shape[0] and 0 <= jw + rj < self.map.shape[1]:\n",
    "                    NS[iw + ri, jw + rj] = 0 if np.sqrt(ri**2 + rj**2)>R else 1/(1+np.sqrt(ri**2 + rj**2))\n",
    "        \n",
    "        return NS\n",
    "\n",
    "    def update_weights(self, x, winner, n_strength, X_len):\n",
    "        # Note: n_strength is already W*H we just need to make it W*H*f\n",
    "        NS = np.tile(n_strength, (self.map.shape[2], 1, 1)).transpose()\n",
    "\n",
    "        # Difference between inputs and neurons\n",
    "        rep_x = np.tile(x, (self.map.shape[0], self.map.shape[1], 1))\n",
    "        Delta = rep_x - self.map\n",
    "\n",
    "        # Update weights\n",
    "        self.map = self.map + (self.lr/X_len) * np.multiply(NS, Delta)\n",
    "\n",
    "    def visualize(self, X, y):\n",
    "        self.scores = np.zeros(shape=(self.map.shape[0], self.map.shape[1], 7)) # 6 classes + 1 dead\n",
    "        for i in range(len(X)):\n",
    "            x = X[i, :]\n",
    "            winner = self.find_winner(x)\n",
    "            iw, jw = winner[0], winner[1]\n",
    "            self.scores[iw, jw, y[i]] += 1\n",
    "        \n",
    "        top_class = np.argmax(self.scores, axis=2)\n",
    "        plt.imshow(top_class, cmap='twilight', vmin=0, vmax=7) #gnuplot, twilight, Set1, inferno\n",
    "        plt.show()\n",
    "        \n",
    "        return self.scores\n",
    "    \n",
    "    def plot_loss(self):\n",
    "        plt.plot(self.Js)\n",
    "        plt.title(\"Training Loss\")\n",
    "        plt.xlabel(\"Iteration\")\n",
    "        plt.ylabel(\"Loss\")\n",
    "        plt.show()\n",
    "    \n",
    "    def extract_features(self, x):\n",
    "        rep_x = np.tile(x, (self.map.shape[0], self.map.shape[1], 1))\n",
    "        dists = np.sum((self.map - rep_x) ** 2, axis=2)\n",
    "        return 1/(1+dists)"
   ]
  },
  {
   "cell_type": "code",
   "execution_count": 24,
   "metadata": {},
   "outputs": [
    {
     "data": {
      "application/vnd.jupyter.widget-view+json": {
       "model_id": "51737e5c1c1c496887614185c2d7989f",
       "version_major": 2,
       "version_minor": 0
      },
      "text/plain": [
       "  0%|          | 0/100 [00:00<?, ?it/s]"
      ]
     },
     "metadata": {},
     "output_type": "display_data"
    },
    {
     "name": "stdout",
     "output_type": "stream",
     "text": [
      "Iteration: 0, Loss: 15.5889, lr: 0.5000, R: 4.0000\n",
      "Iteration: 1, Loss: 13.5509, lr: 0.4950, R: 3.9600\n",
      "Iteration: 2, Loss: 10.7533, lr: 0.4900, R: 3.9200\n",
      "Iteration: 3, Loss: 9.5577, lr: 0.4850, R: 3.8800\n",
      "Iteration: 4, Loss: 8.3999, lr: 0.4800, R: 3.8400\n",
      "Iteration: 5, Loss: 7.4322, lr: 0.4750, R: 3.8000\n",
      "Iteration: 6, Loss: 6.4896, lr: 0.4700, R: 3.7600\n",
      "Iteration: 7, Loss: 5.8598, lr: 0.4650, R: 3.7200\n",
      "Iteration: 8, Loss: 5.2413, lr: 0.4600, R: 3.6800\n",
      "Iteration: 9, Loss: 4.7933, lr: 0.4550, R: 3.6400\n",
      "Iteration: 10, Loss: 4.4447, lr: 0.4500, R: 3.6000\n",
      "Iteration: 11, Loss: 4.0347, lr: 0.4450, R: 3.5600\n",
      "Iteration: 12, Loss: 3.7061, lr: 0.4400, R: 3.5200\n",
      "Iteration: 13, Loss: 3.5172, lr: 0.4350, R: 3.4800\n",
      "Iteration: 14, Loss: 3.3375, lr: 0.4300, R: 3.4400\n",
      "Iteration: 15, Loss: 3.1328, lr: 0.4250, R: 3.4000\n",
      "Iteration: 16, Loss: 2.9472, lr: 0.4200, R: 3.3600\n",
      "Iteration: 17, Loss: 2.7323, lr: 0.4150, R: 3.3200\n",
      "Iteration: 18, Loss: 2.5528, lr: 0.4100, R: 3.2800\n",
      "Iteration: 19, Loss: 2.4279, lr: 0.4050, R: 3.2400\n",
      "Iteration: 20, Loss: 2.3236, lr: 0.4000, R: 3.2000\n",
      "Iteration: 21, Loss: 2.2442, lr: 0.3950, R: 3.1600\n",
      "Iteration: 22, Loss: 2.1677, lr: 0.3900, R: 3.1200\n",
      "Iteration: 23, Loss: 2.1263, lr: 0.3850, R: 3.0800\n",
      "Iteration: 24, Loss: 2.0888, lr: 0.3800, R: 3.0400\n",
      "Iteration: 25, Loss: 2.1766, lr: 0.3750, R: 3.0000\n",
      "Iteration: 26, Loss: 2.1211, lr: 0.3700, R: 2.9600\n",
      "Iteration: 27, Loss: 1.4639, lr: 0.3650, R: 2.9200\n",
      "Iteration: 28, Loss: 1.4660, lr: 0.3600, R: 2.8800\n",
      "Iteration: 29, Loss: 1.4916, lr: 0.3550, R: 2.8400\n",
      "Iteration: 30, Loss: 1.4268, lr: 0.3500, R: 2.8000\n",
      "Iteration: 31, Loss: 1.3635, lr: 0.3450, R: 2.7600\n",
      "Iteration: 32, Loss: 1.3329, lr: 0.3400, R: 2.7200\n",
      "Iteration: 33, Loss: 1.3341, lr: 0.3350, R: 2.6800\n",
      "Iteration: 34, Loss: 1.3065, lr: 0.3300, R: 2.6400\n",
      "Iteration: 35, Loss: 1.2107, lr: 0.3250, R: 2.6000\n",
      "Iteration: 36, Loss: 1.1750, lr: 0.3200, R: 2.5600\n",
      "Iteration: 37, Loss: 1.1530, lr: 0.3150, R: 2.5200\n",
      "Iteration: 38, Loss: 1.1078, lr: 0.3100, R: 2.4800\n",
      "Iteration: 39, Loss: 1.0448, lr: 0.3050, R: 2.4400\n",
      "Iteration: 40, Loss: 1.0190, lr: 0.3000, R: 2.4000\n",
      "Iteration: 41, Loss: 0.9260, lr: 0.2950, R: 2.3600\n",
      "Iteration: 42, Loss: 0.9272, lr: 0.2900, R: 2.3200\n",
      "Iteration: 43, Loss: 0.9046, lr: 0.2850, R: 2.2800\n",
      "Iteration: 44, Loss: 0.8663, lr: 0.2800, R: 2.2400\n",
      "Iteration: 45, Loss: 0.8056, lr: 0.2750, R: 2.2000\n",
      "Iteration: 46, Loss: 0.8268, lr: 0.2700, R: 2.1600\n",
      "Iteration: 47, Loss: 0.7565, lr: 0.2650, R: 2.1200\n",
      "Iteration: 48, Loss: 0.7444, lr: 0.2600, R: 2.0800\n",
      "Iteration: 49, Loss: 0.6944, lr: 0.2550, R: 2.0400\n",
      "Iteration: 50, Loss: 0.6662, lr: 0.2500, R: 2.0000\n",
      "Iteration: 51, Loss: 0.6478, lr: 0.2450, R: 1.9600\n",
      "Iteration: 52, Loss: 0.3007, lr: 0.2400, R: 1.9200\n",
      "Iteration: 53, Loss: 0.2834, lr: 0.2350, R: 1.8800\n",
      "Iteration: 54, Loss: 0.2716, lr: 0.2300, R: 1.8400\n",
      "Iteration: 55, Loss: 0.2609, lr: 0.2250, R: 1.8000\n",
      "Iteration: 56, Loss: 0.2459, lr: 0.2200, R: 1.7600\n",
      "Iteration: 57, Loss: 0.2385, lr: 0.2150, R: 1.7200\n",
      "Iteration: 58, Loss: 0.2377, lr: 0.2100, R: 1.6800\n",
      "Iteration: 59, Loss: 0.2192, lr: 0.2050, R: 1.6400\n",
      "Iteration: 60, Loss: 0.2123, lr: 0.2000, R: 1.6000\n",
      "Iteration: 61, Loss: 0.2113, lr: 0.1950, R: 1.5600\n"
     ]
    },
    {
     "ename": "KeyboardInterrupt",
     "evalue": "",
     "output_type": "error",
     "traceback": [
      "\u001b[1;31m---------------------------------------------------------------------------\u001b[0m",
      "\u001b[1;31mKeyboardInterrupt\u001b[0m                         Traceback (most recent call last)",
      "\u001b[1;32mg:\\Arshad\\Amirkabir\\14002 Neural Networks\\Exercises\\Exercise 3\\Exercise_3_SOM_numba_test.ipynb Cell 22'\u001b[0m in \u001b[0;36m<module>\u001b[1;34m\u001b[0m\n\u001b[1;32m----> <a href='vscode-notebook-cell:/g%3A/Arshad/Amirkabir/14002%20Neural%20Networks/Exercises/Exercise%203/Exercise_3_SOM_numba_test.ipynb#ch0000020?line=0'>1</a>\u001b[0m get_ipython()\u001b[39m.\u001b[39;49mrun_cell_magic(\u001b[39m'\u001b[39;49m\u001b[39mprun\u001b[39;49m\u001b[39m'\u001b[39;49m, \u001b[39m'\u001b[39;49m\u001b[39m'\u001b[39;49m, \u001b[39m'\u001b[39;49m\u001b[39m\\n\u001b[39;49;00m\u001b[39mnp.random.seed(3)\u001b[39;49m\u001b[39m\\n\u001b[39;49;00m\u001b[39m\\n\u001b[39;49;00m\u001b[39msom_net = SOM(map_size=(9,9,X_valid.shape[1]), lr=0.5)\u001b[39;49m\u001b[39m\\n\u001b[39;49;00m\u001b[39m\\n\u001b[39;49;00m\u001b[39m# Loss\u001b[39;49m\u001b[39m\\n\u001b[39;49;00m\u001b[39mJs = som_net.train(X_valid, y_valid, T=100, viz=False)\u001b[39;49m\u001b[39m\\n\u001b[39;49;00m\u001b[39m\\n\u001b[39;49;00m\u001b[39msom_net.plot_loss()\u001b[39;49m\u001b[39m\\n\u001b[39;49;00m\u001b[39m\\n\u001b[39;49;00m\u001b[39m# Visualize\u001b[39;49m\u001b[39m\\n\u001b[39;49;00m\u001b[39mscores = som_net.visualize(X_valid, y_valid)\u001b[39;49m\u001b[39m\\n\u001b[39;49;00m\u001b[39m\\n\u001b[39;49;00m\u001b[39m# Feature Extraction\u001b[39;49m\u001b[39m\\n\u001b[39;49;00m\u001b[39m# x = X_train[0, :]\u001b[39;49m\u001b[39m\\n\u001b[39;49;00m\u001b[39m# features = som_net.extract_features(x)\u001b[39;49m\u001b[39m\\n\u001b[39;49;00m\u001b[39m# plt.imshow(features)\u001b[39;49m\u001b[39m\\n\u001b[39;49;00m\u001b[39m# plt.title(\u001b[39;49m\u001b[39m\"\u001b[39;49m\u001b[39mFeature Extraction\u001b[39;49m\u001b[39m\"\u001b[39;49m\u001b[39m)\u001b[39;49m\u001b[39m\\n\u001b[39;49;00m\u001b[39m# plt.show()\u001b[39;49m\u001b[39m\\n\u001b[39;49;00m\u001b[39m'\u001b[39;49m)\n",
      "File \u001b[1;32m~\\AppData\\Local\\Programs\\Python\\Python310\\lib\\site-packages\\IPython\\core\\interactiveshell.py:2257\u001b[0m, in \u001b[0;36mInteractiveShell.run_cell_magic\u001b[1;34m(self, magic_name, line, cell)\u001b[0m\n\u001b[0;32m   <a href='file:///c%3A/Users/GHD/AppData/Local/Programs/Python/Python310/lib/site-packages/IPython/core/interactiveshell.py?line=2254'>2255</a>\u001b[0m \u001b[39mwith\u001b[39;00m \u001b[39mself\u001b[39m\u001b[39m.\u001b[39mbuiltin_trap:\n\u001b[0;32m   <a href='file:///c%3A/Users/GHD/AppData/Local/Programs/Python/Python310/lib/site-packages/IPython/core/interactiveshell.py?line=2255'>2256</a>\u001b[0m     args \u001b[39m=\u001b[39m (magic_arg_s, cell)\n\u001b[1;32m-> <a href='file:///c%3A/Users/GHD/AppData/Local/Programs/Python/Python310/lib/site-packages/IPython/core/interactiveshell.py?line=2256'>2257</a>\u001b[0m     result \u001b[39m=\u001b[39m fn(\u001b[39m*\u001b[39margs, \u001b[39m*\u001b[39m\u001b[39m*\u001b[39mkwargs)\n\u001b[0;32m   <a href='file:///c%3A/Users/GHD/AppData/Local/Programs/Python/Python310/lib/site-packages/IPython/core/interactiveshell.py?line=2257'>2258</a>\u001b[0m \u001b[39mreturn\u001b[39;00m result\n",
      "File \u001b[1;32m~\\AppData\\Local\\Programs\\Python\\Python310\\lib\\site-packages\\IPython\\core\\magics\\execution.py:296\u001b[0m, in \u001b[0;36mExecutionMagics.prun\u001b[1;34m(self, parameter_s, cell)\u001b[0m\n\u001b[0;32m    <a href='file:///c%3A/Users/GHD/AppData/Local/Programs/Python/Python310/lib/site-packages/IPython/core/magics/execution.py?line=293'>294</a>\u001b[0m     arg_str \u001b[39m+\u001b[39m\u001b[39m=\u001b[39m \u001b[39m'\u001b[39m\u001b[39m\\n\u001b[39;00m\u001b[39m'\u001b[39m \u001b[39m+\u001b[39m cell\n\u001b[0;32m    <a href='file:///c%3A/Users/GHD/AppData/Local/Programs/Python/Python310/lib/site-packages/IPython/core/magics/execution.py?line=294'>295</a>\u001b[0m arg_str \u001b[39m=\u001b[39m \u001b[39mself\u001b[39m\u001b[39m.\u001b[39mshell\u001b[39m.\u001b[39mtransform_cell(arg_str)\n\u001b[1;32m--> <a href='file:///c%3A/Users/GHD/AppData/Local/Programs/Python/Python310/lib/site-packages/IPython/core/magics/execution.py?line=295'>296</a>\u001b[0m \u001b[39mreturn\u001b[39;00m \u001b[39mself\u001b[39;49m\u001b[39m.\u001b[39;49m_run_with_profiler(arg_str, opts, \u001b[39mself\u001b[39;49m\u001b[39m.\u001b[39;49mshell\u001b[39m.\u001b[39;49muser_ns)\n",
      "File \u001b[1;32m~\\AppData\\Local\\Programs\\Python\\Python310\\lib\\site-packages\\IPython\\core\\magics\\execution.py:318\u001b[0m, in \u001b[0;36mExecutionMagics._run_with_profiler\u001b[1;34m(self, code, opts, namespace)\u001b[0m\n\u001b[0;32m    <a href='file:///c%3A/Users/GHD/AppData/Local/Programs/Python/Python310/lib/site-packages/IPython/core/magics/execution.py?line=315'>316</a>\u001b[0m prof \u001b[39m=\u001b[39m profile\u001b[39m.\u001b[39mProfile()\n\u001b[0;32m    <a href='file:///c%3A/Users/GHD/AppData/Local/Programs/Python/Python310/lib/site-packages/IPython/core/magics/execution.py?line=316'>317</a>\u001b[0m \u001b[39mtry\u001b[39;00m:\n\u001b[1;32m--> <a href='file:///c%3A/Users/GHD/AppData/Local/Programs/Python/Python310/lib/site-packages/IPython/core/magics/execution.py?line=317'>318</a>\u001b[0m     prof \u001b[39m=\u001b[39m prof\u001b[39m.\u001b[39;49mrunctx(code, namespace, namespace)\n\u001b[0;32m    <a href='file:///c%3A/Users/GHD/AppData/Local/Programs/Python/Python310/lib/site-packages/IPython/core/magics/execution.py?line=318'>319</a>\u001b[0m     sys_exit \u001b[39m=\u001b[39m \u001b[39m'\u001b[39m\u001b[39m'\u001b[39m\n\u001b[0;32m    <a href='file:///c%3A/Users/GHD/AppData/Local/Programs/Python/Python310/lib/site-packages/IPython/core/magics/execution.py?line=319'>320</a>\u001b[0m \u001b[39mexcept\u001b[39;00m \u001b[39mSystemExit\u001b[39;00m:\n",
      "File \u001b[1;32m~\\AppData\\Local\\Programs\\Python\\Python310\\lib\\cProfile.py:100\u001b[0m, in \u001b[0;36mProfile.runctx\u001b[1;34m(self, cmd, globals, locals)\u001b[0m\n\u001b[0;32m     <a href='file:///c%3A/Users/GHD/AppData/Local/Programs/Python/Python310/lib/cProfile.py?line=97'>98</a>\u001b[0m \u001b[39mself\u001b[39m\u001b[39m.\u001b[39menable()\n\u001b[0;32m     <a href='file:///c%3A/Users/GHD/AppData/Local/Programs/Python/Python310/lib/cProfile.py?line=98'>99</a>\u001b[0m \u001b[39mtry\u001b[39;00m:\n\u001b[1;32m--> <a href='file:///c%3A/Users/GHD/AppData/Local/Programs/Python/Python310/lib/cProfile.py?line=99'>100</a>\u001b[0m     exec(cmd, \u001b[39mglobals\u001b[39;49m, \u001b[39mlocals\u001b[39;49m)\n\u001b[0;32m    <a href='file:///c%3A/Users/GHD/AppData/Local/Programs/Python/Python310/lib/cProfile.py?line=100'>101</a>\u001b[0m \u001b[39mfinally\u001b[39;00m:\n\u001b[0;32m    <a href='file:///c%3A/Users/GHD/AppData/Local/Programs/Python/Python310/lib/cProfile.py?line=101'>102</a>\u001b[0m     \u001b[39mself\u001b[39m\u001b[39m.\u001b[39mdisable()\n",
      "File \u001b[1;32m<string>:6\u001b[0m, in \u001b[0;36m<module>\u001b[1;34m\u001b[0m\n",
      "\u001b[1;32mg:\\Arshad\\Amirkabir\\14002 Neural Networks\\Exercises\\Exercise 3\\Exercise_3_SOM_numba_test.ipynb Cell 21'\u001b[0m in \u001b[0;36mSOM.train\u001b[1;34m(self, X, y, T, error_threshold, viz)\u001b[0m\n\u001b[0;32m     <a href='vscode-notebook-cell:/g%3A/Arshad/Amirkabir/14002%20Neural%20Networks/Exercises/Exercise%203/Exercise_3_SOM_numba_test.ipynb#ch0000019?line=28'>29</a>\u001b[0m     NS \u001b[39m=\u001b[39m \u001b[39mself\u001b[39m\u001b[39m.\u001b[39mget_NS(winner)\n\u001b[0;32m     <a href='vscode-notebook-cell:/g%3A/Arshad/Amirkabir/14002%20Neural%20Networks/Exercises/Exercise%203/Exercise_3_SOM_numba_test.ipynb#ch0000019?line=29'>30</a>\u001b[0m     \u001b[39m# Update weights of all neurons in the neighborhood of winner\u001b[39;00m\n\u001b[1;32m---> <a href='vscode-notebook-cell:/g%3A/Arshad/Amirkabir/14002%20Neural%20Networks/Exercises/Exercise%203/Exercise_3_SOM_numba_test.ipynb#ch0000019?line=30'>31</a>\u001b[0m     \u001b[39mself\u001b[39;49m\u001b[39m.\u001b[39;49mupdate_weights(x, winner, NS, \u001b[39mlen\u001b[39;49m(X)) \n\u001b[0;32m     <a href='vscode-notebook-cell:/g%3A/Arshad/Amirkabir/14002%20Neural%20Networks/Exercises/Exercise%203/Exercise_3_SOM_numba_test.ipynb#ch0000019?line=32'>33</a>\u001b[0m \u001b[39m# Update learning rate and neighborhood radius (linear decay)\u001b[39;00m\n\u001b[0;32m     <a href='vscode-notebook-cell:/g%3A/Arshad/Amirkabir/14002%20Neural%20Networks/Exercises/Exercise%203/Exercise_3_SOM_numba_test.ipynb#ch0000019?line=33'>34</a>\u001b[0m \u001b[39mself\u001b[39m\u001b[39m.\u001b[39mlr \u001b[39m=\u001b[39m \u001b[39mself\u001b[39m\u001b[39m.\u001b[39mlr0 \u001b[39m*\u001b[39m (\u001b[39m1\u001b[39m \u001b[39m-\u001b[39m t \u001b[39m/\u001b[39m T)\n",
      "\u001b[1;32mg:\\Arshad\\Amirkabir\\14002 Neural Networks\\Exercises\\Exercise 3\\Exercise_3_SOM_numba_test.ipynb Cell 21'\u001b[0m in \u001b[0;36mSOM.update_weights\u001b[1;34m(self, x, winner, n_strength, X_len)\u001b[0m\n\u001b[0;32m     <a href='vscode-notebook-cell:/g%3A/Arshad/Amirkabir/14002%20Neural%20Networks/Exercises/Exercise%203/Exercise_3_SOM_numba_test.ipynb#ch0000019?line=80'>81</a>\u001b[0m Delta \u001b[39m=\u001b[39m rep_x \u001b[39m-\u001b[39m \u001b[39mself\u001b[39m\u001b[39m.\u001b[39mmap\n\u001b[0;32m     <a href='vscode-notebook-cell:/g%3A/Arshad/Amirkabir/14002%20Neural%20Networks/Exercises/Exercise%203/Exercise_3_SOM_numba_test.ipynb#ch0000019?line=82'>83</a>\u001b[0m \u001b[39m# Update weights\u001b[39;00m\n\u001b[1;32m---> <a href='vscode-notebook-cell:/g%3A/Arshad/Amirkabir/14002%20Neural%20Networks/Exercises/Exercise%203/Exercise_3_SOM_numba_test.ipynb#ch0000019?line=83'>84</a>\u001b[0m \u001b[39mself\u001b[39m\u001b[39m.\u001b[39mmap \u001b[39m=\u001b[39m \u001b[39mself\u001b[39m\u001b[39m.\u001b[39mmap \u001b[39m+\u001b[39m (\u001b[39mself\u001b[39m\u001b[39m.\u001b[39mlr\u001b[39m/\u001b[39mX_len) \u001b[39m*\u001b[39m np\u001b[39m.\u001b[39;49mmultiply(NS, Delta)\n",
      "\u001b[1;31mKeyboardInterrupt\u001b[0m: "
     ]
    }
   ],
   "source": [
    "%%prun\n",
    "\n",
    "np.random.seed(3)\n",
    "\n",
    "som_net = SOM(map_size=(9,9,X_valid.shape[1]), lr=0.5)\n",
    "\n",
    "# Loss\n",
    "Js = som_net.train(X_valid, y_valid, T=100, viz=False)\n",
    "\n",
    "som_net.plot_loss()\n",
    "\n",
    "# Visualize\n",
    "scores = som_net.visualize(X_valid, y_valid)\n",
    "\n",
    "# Feature Extraction\n",
    "# x = X_train[0, :]\n",
    "# features = som_net.extract_features(x)\n",
    "# plt.imshow(features)\n",
    "# plt.title(\"Feature Extraction\")\n",
    "# plt.show()\n"
   ]
  },
  {
   "cell_type": "code",
   "execution_count": null,
   "metadata": {},
   "outputs": [
    {
     "data": {
      "image/png": "[encoded data removed]",
      "text/plain": [
       "<Figure size 432x288 with 1 Axes>"
      ]
     },
     "metadata": {},
     "output_type": "display_data"
    },
    {
     "name": "stdout",
     "output_type": "stream",
     "text": [
      " "
     ]
    },
    {
     "name": "stdout",
     "output_type": "stream",
     "text": [
      "         247702 function calls (243107 primitive calls) in 0.489 seconds\n",
      "\n",
      "   Ordered by: internal time\n",
      "   List reduced from 1291 to 129 due to restriction <0.1>\n",
      "\n",
      "   ncalls  tottime  percall  cumtime  percall filename:lineno(function)\n",
      "     1471    0.101    0.000    0.254    0.000 4134594492.py:50(find_winner)\n",
      "     4590    0.064    0.000    0.064    0.000 {method 'reduce' of 'numpy.ufunc' objects}\n",
      "     2942    0.036    0.000    0.036    0.000 {method 'repeat' of 'numpy.ndarray' objects}\n",
      "9864/9382    0.016    0.000    0.175    0.000 {built-in method numpy.core._multiarray_umath.implement_array_function}\n",
      "     1471    0.015    0.000    0.060    0.000 shape_base.py:1171(tile)\n",
      "     3599    0.008    0.000    0.073    0.000 fromnumeric.py:69(_wrapreduction)\n",
      "        1    0.007    0.007    0.489    0.489 4134594492.py:85(visualize)\n",
      "8219/5813    0.006    0.000    0.009    0.000 artist.py:290(stale)\n",
      "       70    0.005    0.000    0.005    0.000 {method 'set_text' of 'matplotlib.ft2font.FT2Font' objects}\n",
      "     5334    0.005    0.000    0.005    0.000 {method 'reshape' of 'numpy.ndarray' objects}\n",
      "     5913    0.004    0.000    0.005    0.000 __init__.py:653(__getitem__)\n",
      "     1471    0.004    0.000    0.066    0.000 fromnumeric.py:2123(sum)\n",
      "     8566    0.003    0.000    0.011    0.000 {built-in method builtins.getattr}\n",
      "     2530    0.003    0.000    0.003    0.000 {built-in method numpy.array}\n",
      "        1    0.003    0.003    0.003    0.003 {method 'encode' of 'ImagingEncoder' objects}\n",
      "       88    0.003    0.000    0.029    0.000 ticker.py:2052(_raw_ticks)\n",
      "      314    0.003    0.000    0.041    0.000 text.py:872(get_window_extent)\n",
      "     1471    0.003    0.000    0.003    0.000 {method 'argmin' of 'numpy.ndarray' objects}\n",
      "      732    0.003    0.000    0.006    0.000 transforms.py:767(__init__)\n",
      "        4    0.003    0.001    0.003    0.001 {built-in method matplotlib._image.resample}\n",
      "     1364    0.003    0.000    0.004    0.000 __init__.py:2014(_setattr_cm)\n",
      "     2121    0.003    0.000    0.015    0.000 fromnumeric.py:51(_wrapfunc)\n",
      "     1796    0.002    0.000    0.002    0.000 {built-in method numpy.asarray}\n",
      "     1471    0.002    0.000    0.070    0.000 <__array_function__ internals>:2(sum)\n",
      "      347    0.002    0.000    0.010    0.000 artist.py:1046(update)\n",
      "       44    0.002    0.000    0.098    0.002 axis.py:1040(_update_ticks)\n",
      "     3599    0.002    0.000    0.002    0.000 fromnumeric.py:70(<dictcomp>)\n",
      "      412    0.002    0.000    0.004    0.000 __init__.py:1691(normalize_kwargs)\n",
      "     8573    0.002    0.000    0.002    0.000 {method 'items' of 'dict' objects}\n",
      "      288    0.002    0.000    0.017    0.000 text.py:290(_get_layout)\n",
      "      260    0.002    0.000    0.004    0.000 transforms.py:637(translated)\n",
      "     8339    0.002    0.000    0.003    0.000 {built-in method builtins.isinstance}\n",
      "       88    0.002    0.000    0.008    0.000 ticker.py:787(_set_format)\n",
      "      546    0.002    0.000    0.003    0.000 font_manager.py:710(__hash__)\n",
      "       90    0.002    0.000    0.002    0.000 _methods.py:106(_clip_dep_invoke_with_casting)\n",
      "     1471    0.002    0.000    0.010    0.000 <__array_function__ internals>:2(argmin)\n",
      "  482/416    0.002    0.000    0.007    0.000 transforms.py:2441(get_affine)\n",
      "      226    0.002    0.000    0.008    0.000 font_manager.py:658(__init__)\n",
      "     5884    0.002    0.000    0.002    0.000 shape_base.py:1253(<genexpr>)\n",
      "     1472    0.002    0.000    0.010    0.000 <__array_function__ internals>:2(unravel_index)\n",
      "      818    0.002    0.000    0.003    0.000 __init__.py:872(get_siblings)\n",
      "     1437    0.002    0.000    0.003    0.000 transforms.py:1783(__init__)\n",
      "     1471    0.002    0.000    0.063    0.000 <__array_function__ internals>:2(tile)\n",
      "     1476    0.002    0.000    0.002    0.000 {method 'copy' of 'numpy.ndarray' objects}\n",
      "      264    0.002    0.000    0.002    0.000 {method 'round' of 'numpy.ndarray' objects}\n",
      "     1471    0.002    0.000    0.007    0.000 fromnumeric.py:1202(argmin)\n",
      "     2387    0.002    0.000    0.002    0.000 transforms.py:107(__init__)\n",
      "     8221    0.002    0.000    0.002    0.000 artist.py:832(get_animated)\n",
      "      348    0.001    0.000    0.001    0.000 transforms.py:2919(_interval_contains_close)\n",
      "      405    0.001    0.000    0.013    0.000 transforms.py:1480(transform)\n",
      "      384    0.001    0.000    0.005    0.000 _base.py:768(<dictcomp>)\n",
      "       60    0.001    0.000    0.010    0.000 lines.py:276(__init__)\n",
      "      728    0.001    0.000    0.001    0.000 contextlib.py:102(__init__)\n",
      "      587    0.001    0.000    0.003    0.000 transforms.py:1900(__init__)\n",
      "     1271    0.001    0.000    0.004    0.000 artist.py:81(_stale_axes_callback)\n",
      "     5917    0.001    0.000    0.001    0.000 {function RcParams.__getitem__ at 0x0000014CCE8F9FC0}\n",
      "       88    0.001    0.000    0.004    0.000 ticker.py:753(_set_order_of_magnitude)\n",
      "       92    0.001    0.000    0.002    0.000 transforms.py:2839(nonsingular)\n",
      "       88    0.001    0.000    0.004    0.000 ticker.py:714(_compute_offset)\n",
      "      954    0.001    0.000    0.006    0.000 fromnumeric.py:2763(amin)\n",
      "      138    0.001    0.000    0.002    0.000 artist.py:149(__init__)\n",
      "      286    0.001    0.000    0.001    0.000 transforms.py:207(set_children)\n",
      "      295    0.001    0.000    0.005    0.000 fromnumeric.py:38(_wrapit)\n",
      "  837/835    0.001    0.000    0.001    0.000 __init__.py:276(process)\n",
      "1585/1461    0.001    0.000    0.009    0.000 {built-in method builtins.next}\n",
      "       68    0.001    0.000    0.014    0.000 axis.py:2261(get_tick_space)\n",
      "      412    0.001    0.000    0.001    0.000 __init__.py:1730(<dictcomp>)\n",
      "      959    0.001    0.000    0.005    0.000 fromnumeric.py:2638(amax)\n",
      "     1030    0.001    0.000    0.001    0.000 {built-in method numpy.asanyarray}\n",
      "     1162    0.001    0.000    0.001    0.000 __init__.py:101(check_in_list)\n",
      "       70    0.001    0.000    0.009    0.000 text.py:671(draw)\n",
      "     2942    0.001    0.000    0.001    0.000 shape_base.py:1243(<genexpr>)\n",
      "      180    0.001    0.000    0.002    0.000 _methods.py:91(_clip_dep_is_scalar_nan)\n",
      "      551    0.001    0.000    0.001    0.000 {built-in method matplotlib._path.affine_transform}\n",
      "      551    0.001    0.000    0.002    0.000 transforms.py:1862(transform_affine)\n",
      "      228    0.001    0.000    0.001    0.000 font_manager.py:826(set_weight)\n",
      "     4699    0.001    0.000    0.001    0.000 artist.py:266(axes)\n",
      "     1234    0.001    0.000    0.001    0.000 {built-in method builtins.any}\n",
      "       88    0.001    0.000    0.001    0.000 ticker.py:1879(scale_range)\n",
      "      185    0.001    0.000    0.004    0.000 transforms.py:1791(__eq__)\n",
      "  728/697    0.001    0.000    0.005    0.000 contextlib.py:139(__exit__)\n",
      "      602    0.001    0.000    0.002    0.000 text.py:826(get_unitless_position)\n",
      "      384    0.001    0.000    0.006    0.000 _base.py:765(_unstale_viewLim)\n",
      "      288    0.001    0.000    0.004    0.000 text.py:275(_get_layout_cache_key)\n",
      "     1527    0.001    0.000    0.001    0.000 {built-in method builtins.all}\n",
      "      820    0.001    0.000    0.001    0.000 __init__.py:823(clean)\n",
      "       20    0.001    0.000    0.023    0.001 axis.py:57(__init__)\n",
      "      246    0.001    0.000    0.004    0.000 axis.py:453(update_position)\n",
      "     2622    0.001    0.000    0.001    0.000 transforms.py:1052(get_points)\n",
      "      954    0.001    0.000    0.008    0.000 <__array_function__ internals>:2(amin)\n",
      "       94    0.001    0.000    0.005    0.000 transforms.py:487(transformed)\n",
      "      348    0.001    0.000    0.002    0.000 ticker.py:577(__call__)\n",
      "     1135    0.001    0.000    0.001    0.000 figure.py:46(_stale_figure_callback)\n",
      "      959    0.001    0.000    0.007    0.000 <__array_function__ internals>:2(amax)\n",
      "      246    0.001    0.000    0.001    0.000 {built-in method builtins.sorted}\n",
      "3415/3408    0.001    0.000    0.001    0.000 {built-in method builtins.len}\n",
      "      728    0.001    0.000    0.002    0.000 contextlib.py:279(helper)\n",
      "      822    0.001    0.000    0.002    0.000 artist.py:405(pchanged)\n",
      "  381/162    0.001    0.000    0.001    0.000 transforms.py:180(_invalidate_internal)\n",
      "      142    0.001    0.000    0.002    0.000 markers.py:295(_set_marker)\n",
      "       72    0.001    0.000    0.018    0.000 transforms.py:662(union)\n",
      "      399    0.001    0.000    0.004    0.000 transforms.py:326(xmin)\n",
      "      858    0.001    0.000    0.001    0.000 lines.py:1222(set_xdata)\n",
      "        2    0.001    0.000    0.001    0.000 {method 'take' of 'numpy.ndarray' objects}\n",
      "    212/2    0.001    0.000    0.121    0.060 artist.py:32(draw_wrapper)\n",
      " 1072/612    0.001    0.000    0.003    0.000 {built-in method builtins.hash}\n",
      "      532    0.001    0.000    0.002    0.000 <__array_function__ internals>:2(dot)\n",
      "     1221    0.001    0.000    0.001    0.000 {built-in method builtins.setattr}\n",
      "      185    0.001    0.000    0.002    0.000 transforms.py:2351(__init__)\n",
      "      175    0.001    0.000    0.007    0.000 text.py:162(update)\n",
      "       15    0.001    0.000    0.001    0.000 {method 'acquire' of '_thread.lock' objects}\n",
      "  728/697    0.001    0.000    0.006    0.000 contextlib.py:130(__enter__)\n",
      "  795/395    0.001    0.000    0.001    0.000 transforms.py:2409(<lambda>)\n",
      "      399    0.001    0.000    0.003    0.000 transforms.py:336(xmax)\n",
      "       88    0.001    0.000    0.006    0.000 transforms.py:1426(__sub__)\n",
      "      416    0.001    0.000    0.003    0.000 transforms.py:341(ymax)\n",
      "      226    0.001    0.000    0.001    0.000 font_manager.py:844(set_stretch)\n",
      "      405    0.001    0.000    0.009    0.000 transforms.py:2417(transform_affine)\n",
      "     2711    0.001    0.000    0.001    0.000 {method 'get' of 'dict' objects}\n",
      "      411    0.001    0.000    0.003    0.000 transforms.py:331(ymin)\n",
      "       44    0.001    0.000    0.019    0.000 axis.py:1279(get_minorticklocs)\n",
      "        2    0.001    0.000    0.009    0.005 image.py:310(_make_image)\n",
      "      205    0.001    0.000    0.005    0.000 transforms.py:822(from_extents)\n",
      "       86    0.001    0.000    0.003    0.000 font_manager.py:1248(findfont)\n",
      "      348    0.000    0.000    0.001    0.000 ticker.py:542(_format_maybe_minus_and_locale)\n",
      "     1471    0.000    0.000    0.000    0.000 fromnumeric.py:2118(_sum_dispatcher)\n",
      "     1536    0.000    0.000    0.000    0.000 _base.py:769(<genexpr>)\n",
      "      122    0.000    0.000    0.002    0.000 axis.py:514(update_position)\n",
      "       70    0.000    0.000    0.001    0.000 artist.py:1138(update_from)"
     ]
    }
   ],
   "source": [
    "scores = som_net.visualize(X_valid, y_valid)"
   ]
  },
  {
   "cell_type": "code",
   "execution_count": null,
   "metadata": {},
   "outputs": [],
   "source": []
  },
  {
   "cell_type": "code",
   "execution_count": null,
   "metadata": {},
   "outputs": [
    {
     "data": {
      "text/plain": [
       "array([[[  0.,   0.,   0.,   2.,   0.,   0.,   0.],\n",
       "        [  0., 182.,  81.,  70., 122., 120., 156.]],\n",
       "\n",
       "       [[  0.,  66., 121., 134., 147., 163., 107.],\n",
       "        [  0.,   0.,   0.,   0.,   0.,   0.,   0.]]])"
      ]
     },
     "execution_count": 142,
     "metadata": {},
     "output_type": "execute_result"
    }
   ],
   "source": [
    "np.max(scores, axis=2)\n",
    "scores[:2, :2]"
   ]
  },
  {
   "cell_type": "code",
   "execution_count": null,
   "metadata": {},
   "outputs": [],
   "source": [
    "# new_scores = np.where(np.max(scores, axis=2)==0, 6, np.argmax(scores, axis=2))\n",
    "# new_scores"
   ]
  },
  {
   "cell_type": "code",
   "execution_count": null,
   "metadata": {},
   "outputs": [],
   "source": [
    "# plt.imshow(new_scores, cmap='twilight', vmin=0, vmax=7) #gnuplot, twilight, Set1, inferno"
   ]
  },
  {
   "cell_type": "code",
   "execution_count": null,
   "metadata": {},
   "outputs": [
    {
     "data": {
      "text/plain": [
       "<matplotlib.image.AxesImage at 0x14cf3132fb0>"
      ]
     },
     "execution_count": 139,
     "metadata": {},
     "output_type": "execute_result"
    },
    {
     "data": {
      "image/png": "[encoded data removed]",
      "text/plain": [
       "<Figure size 432x288 with 1 Axes>"
      ]
     },
     "metadata": {},
     "output_type": "display_data"
    }
   ],
   "source": [
    "top_class = np.argmax(scores, axis=2)\n",
    "# top_class[0,0] = 0\n",
    "# top_class[0,1] = 1\n",
    "# top_class[0,2] = 2\n",
    "# top_class[0,3] = 3\n",
    "# top_class[0,4] = 4\n",
    "# top_class[0,5] = 5\n",
    "# top_class[0,6] = 6\n",
    "plt.imshow(top_class, cmap='twilight', vmin=0, vmax=7) #gnuplot, twilight, Set1, inferno"
   ]
  },
  {
   "cell_type": "code",
   "execution_count": null,
   "metadata": {},
   "outputs": [
    {
     "data": {
      "text/plain": [
       "array([[0, 1, 2, 3, 4, 5, 6, 0, 0],\n",
       "       [5, 0, 0, 0, 0, 0, 0, 0, 0],\n",
       "       [0, 0, 0, 0, 0, 0, 0, 0, 0],\n",
       "       [0, 0, 0, 0, 0, 0, 0, 0, 0],\n",
       "       [0, 0, 0, 0, 0, 0, 0, 0, 0],\n",
       "       [0, 0, 0, 0, 0, 0, 0, 0, 0],\n",
       "       [0, 0, 0, 0, 0, 0, 0, 0, 0],\n",
       "       [0, 0, 0, 0, 0, 0, 0, 0, 0],\n",
       "       [0, 0, 0, 0, 0, 0, 0, 0, 0]], dtype=int64)"
      ]
     },
     "execution_count": 135,
     "metadata": {},
     "output_type": "execute_result"
    }
   ],
   "source": [
    "top_class"
   ]
  },
  {
   "cell_type": "markdown",
   "metadata": {},
   "source": [
    "## 6 - MLP with SOM extracted features"
   ]
  },
  {
   "cell_type": "code",
   "execution_count": null,
   "metadata": {},
   "outputs": [],
   "source": []
  }
 ],
 "metadata": {
  "interpreter": {
   "hash": "e1f78980d8402c2aa3bc5b076b37f3f79ff6b7409eee8995f6ccbb4aa05c332a"
  },
  "kernelspec": {
   "display_name": "Python 3.10.1 64-bit",
   "language": "python",
   "name": "python3"
  },
  "language_info": {
   "codemirror_mode": {
    "name": "ipython",
    "version": 3
   },
   "file_extension": ".py",
   "mimetype": "text/x-python",
   "name": "python",
   "nbconvert_exporter": "python",
   "pygments_lexer": "ipython3",
   "version": "3.10.1"
  },
  "orig_nbformat": 4
 },
 "nbformat": 4,
 "nbformat_minor": 2
}
