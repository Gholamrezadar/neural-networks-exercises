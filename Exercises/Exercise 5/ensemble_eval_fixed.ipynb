{
 "cells": [
  {
   "cell_type": "markdown",
   "metadata": {},
   "source": [
    "# Neural Network Exercise 5 (Elman & Jordan Networks)\n",
    "\n",
    "Amirkabir University of Technology\n",
    "\n",
    "Dr. Safabakhsh\n",
    "\n",
    "By Gholamreza Dar 400131018\n",
    "\n",
    "Spring 2022"
   ]
  },
  {
   "cell_type": "markdown",
   "metadata": {},
   "source": [
    "## Imports"
   ]
  },
  {
   "cell_type": "code",
   "execution_count": 86,
   "metadata": {},
   "outputs": [],
   "source": [
    "import os\n",
    "import datetime\n",
    "\n",
    "import numpy as np\n",
    "import tensorflow as tf\n",
    "from sklearn.model_selection import train_test_split"
   ]
  },
  {
   "cell_type": "markdown",
   "metadata": {},
   "source": [
    "## Functions"
   ]
  },
  {
   "cell_type": "markdown",
   "metadata": {},
   "source": [
    "### Data loading"
   ]
  },
  {
   "cell_type": "code",
   "execution_count": 87,
   "metadata": {},
   "outputs": [],
   "source": [
    "def convert_label_to_binary(label):\n",
    "    if label == 'normal' or label == 'ok':\n",
    "        return 1\n",
    "    else:\n",
    "        return 0"
   ]
  },
  {
   "cell_type": "code",
   "execution_count": 88,
   "metadata": {},
   "outputs": [],
   "source": [
    "def extract_data(file_path):\n",
    "    '''Parse the data from 'file_path' and store the number lines in the segment list and the label lines in the labels list'''\n",
    "    segments = []\n",
    "    labels = []\n",
    "\n",
    "    with open(file_path, 'r') as f:\n",
    "        for line in f.readlines():\n",
    "            # Number line\n",
    "            if line.startswith(\"\\t\"):\n",
    "                segments.append(list(map(int, line.split())))\n",
    "            # Whitespace\n",
    "            elif line.startswith(\"\\n\"):\n",
    "                pass\n",
    "            # Label line\n",
    "            else:\n",
    "                labels.append(convert_label_to_binary(line[:-1]))\n",
    "\n",
    "    return segments, labels\n"
   ]
  },
  {
   "cell_type": "code",
   "execution_count": 89,
   "metadata": {},
   "outputs": [],
   "source": [
    "def load_data():\n",
    "    '''Load the data from all 5 files and return a (463, 15, 6) numpy array and labels as a (463,) numpy array'''\n",
    "\n",
    "    base_dir = \"data\"\n",
    "    file_names = [\"lp1.data\", \"lp2.data\", \"lp3.data\", \"lp4.data\", \"lp5.data\"]\n",
    "    \n",
    "    X = []\n",
    "    y = []\n",
    "\n",
    "    # Loop through the files and extract the data and concatenate them\n",
    "    for file_name in file_names:\n",
    "        segments, labels = extract_data(os.path.join(base_dir, file_name))\n",
    "        X += segments\n",
    "        y += labels\n",
    "    \n",
    "    # Convert lists to numpy array and reshape them\n",
    "    X = np.array(X)\n",
    "    X = X.reshape(-1, 15, 6).astype(np.float32)\n",
    "    y = np.array(y).astype(np.float32)\n",
    "    \n",
    "    return X, y"
   ]
  },
  {
   "cell_type": "markdown",
   "metadata": {},
   "source": [
    "### Elman network"
   ]
  },
  {
   "cell_type": "code",
   "execution_count": 90,
   "metadata": {},
   "outputs": [],
   "source": [
    "class ElmanModel(tf.keras.Model):\n",
    "    def __init__(self, input_dim, hidden_units, feature_size, n_classes):\n",
    "        super(ElmanModel, self).__init__()\n",
    "        self.hidden_units = hidden_units\n",
    "        self.feature_size = feature_size\n",
    "        self.input_dim = input_dim\n",
    "        self.n_classes = n_classes\n",
    "\n",
    "        self.W = self.add_weight(shape=(self.hidden_units, self.feature_size), initializer='random_normal', trainable=True)\n",
    "        self.U = self.add_weight(shape=(self.hidden_units, self.hidden_units), initializer='random_normal', trainable=True)\n",
    "        self.b = self.add_weight(shape=(self.hidden_units,), initializer='random_normal', trainable=True)\n",
    "\n",
    "        self.W_y = self.add_weight(shape=(self.n_classes, self.hidden_units), initializer='random_normal', trainable=True)\n",
    "        self.b_y = self.add_weight(shape=(self.n_classes,), initializer='random_normal', trainable=True)\n",
    "\n",
    "    def call(self, x):\n",
    "        state_t = tf.zeros(self.hidden_units)\n",
    "        for i in range(self.input_dim):\n",
    "            state_t = tf.keras.activations.tanh(tf.matmul(self.W, tf.reshape(x[0][i], (self.feature_size, 1))) + tf.matmul(self.U, tf.reshape(state_t, (self.hidden_units,1))) + tf.reshape(self.b, (self.hidden_units, 1)))\n",
    "\n",
    "        y = tf.keras.activations.sigmoid(tf.matmul(self.W_y, tf.reshape(state_t, (self.hidden_units,1))) + tf.reshape(self.b_y, (self.n_classes,1)))\n",
    "        return y\n",
    "\n",
    "    # def evaluate(self, x, y, **kwargs):\n",
    "    #     y_pred = self(x)\n",
    "    #     return tf.keras.metrics.binary_accuracy(y, y_pred)"
   ]
  },
  {
   "cell_type": "markdown",
   "metadata": {},
   "source": [
    "### Jordan Network"
   ]
  },
  {
   "cell_type": "code",
   "execution_count": 112,
   "metadata": {},
   "outputs": [],
   "source": [
    "class JordanModel(tf.keras.Model):\n",
    "    def __init__(self, input_dim, hidden_units, feature_size, n_classes):\n",
    "        super(JordanModel, self).__init__()\n",
    "        self.hidden_units = hidden_units\n",
    "        self.feature_size = feature_size\n",
    "        self.input_dim = input_dim\n",
    "        self.n_classes = n_classes\n",
    "\n",
    "        self.W = self.add_weight(shape=(self.hidden_units, self.feature_size), initializer='random_normal', trainable=True)\n",
    "        self.U = self.add_weight(shape=(self.hidden_units, self.hidden_units), initializer='random_normal', trainable=True)\n",
    "        self.b = self.add_weight(shape=(self.hidden_units,), initializer='random_normal', trainable=True)\n",
    "\n",
    "        self.W_y_intermediate = self.add_weight(shape=(self.hidden_units, self.hidden_units), initializer='random_normal', trainable=True)\n",
    "        self.b_y_intermediate = self.add_weight(shape=(self.hidden_units,), initializer='random_normal', trainable=True)\n",
    "\n",
    "        self.W_y = self.add_weight(shape=(self.n_classes, self.hidden_units), initializer='random_normal', trainable=True)\n",
    "        self.b_y = self.add_weight(shape=(self.n_classes,), initializer='random_normal', trainable=True)\n",
    "\n",
    "    def call(self, x):\n",
    "        state_t = tf.zeros(self.hidden_units)\n",
    "        for i in range(self.input_dim):\n",
    "            hidden = tf.keras.activations.tanh(tf.matmul(self.W, tf.reshape(x[0][i], (self.feature_size, 1))) + tf.matmul(self.U, tf.reshape(state_t, (self.hidden_units,1))) + tf.reshape(self.b, (self.hidden_units, 1)))\n",
    "            y_intermediate = tf.keras.activations.tanh(tf.matmul(self.W_y_intermediate, tf.reshape(hidden, (self.hidden_units,1))) + tf.reshape(self.b_y_intermediate, (self.hidden_units,1)))\n",
    "            state_t = y_intermediate\n",
    "        y = tf.keras.activations.sigmoid(tf.matmul(self.W_y, tf.reshape(state_t, (self.hidden_units,1))) + tf.reshape(self.b_y, (self.n_classes,1)))\n",
    "\n",
    "        return y\n",
    "    \n",
    "    # def evaluate(self, x, y):\n",
    "    #     y_pred = self(x)\n",
    "    #     return tf.keras.metrics.binary_accuracy(y, y_pred)"
   ]
  },
  {
   "cell_type": "markdown",
   "metadata": {},
   "source": [
    "### Experiment functions"
   ]
  },
  {
   "cell_type": "code",
   "execution_count": 92,
   "metadata": {},
   "outputs": [],
   "source": [
    "def train_elman(hidden_count, epochs=30, n_classes=1, lr=1e-3):\n",
    "    elman_nn = ElmanModel(input_dim=15, hidden_units=hidden_count, feature_size=6, n_classes=n_classes)\n",
    "\n",
    "    elman_nn.compile(optimizer=tf.keras.optimizers.Adam(lr),\n",
    "                    loss='binary_crossentropy',\n",
    "                    metrics=['acc'])\n",
    "    elman_nn.fit(\n",
    "        X_train,\n",
    "        y_train,\n",
    "        batch_size=1,\n",
    "        epochs=epochs,\n",
    "        validation_data=(X_validation, y_validation),\n",
    "        callbacks=[tf.keras.callbacks.TensorBoard(log_dir='logs/elman-{}'.format(datetime.datetime.now().strftime(\"%Y%m%d-%H%M%S\")))])\n",
    "    \n",
    "    test_score = evaluate_model(elman_nn, X_test, y_test)\n",
    "\n",
    "    return elman_nn, test_score"
   ]
  },
  {
   "cell_type": "code",
   "execution_count": 93,
   "metadata": {},
   "outputs": [],
   "source": [
    "def train_jordan(hidden_count, epochs=30, n_classes=1, lr=1e-3):\n",
    "    jordan_nn = JordanModel(input_dim=15, hidden_units=hidden_count, feature_size=6, n_classes=n_classes)\n",
    "\n",
    "    jordan_nn.compile(optimizer=tf.keras.optimizers.Adam(lr),\n",
    "                    loss='binary_crossentropy',\n",
    "                    metrics=['acc'])\n",
    "    jordan_nn.fit(\n",
    "        X_train,\n",
    "        y_train,\n",
    "        batch_size=1,\n",
    "        epochs=epochs,\n",
    "        validation_data=(X_validation, y_validation),\n",
    "        callbacks=[tf.keras.callbacks.TensorBoard(log_dir='logs/jordan-{}'.format(datetime.datetime.now().strftime(\"%Y%m%d-%H%M%S\")))])\n",
    "    \n",
    "    test_score = evaluate_model(jordan_nn, X_test, y_test)\n",
    "\n",
    "    return jordan_nn, test_score"
   ]
  },
  {
   "cell_type": "code",
   "execution_count": 94,
   "metadata": {},
   "outputs": [],
   "source": [
    "import sklearn.metrics as metrics\n",
    "\n",
    "def evaluate_model(model, X, y):\n",
    "    y_preds = []\n",
    "    for data in X:\n",
    "        y_pred = model(np.array([data]))\n",
    "        y_pred = 1 if np.array(y_pred)[0] > 0.5 else 0\n",
    "        y_preds.append(y_pred)\n",
    "    \n",
    "    return metrics.accuracy_score(y, y_preds)"
   ]
  },
  {
   "cell_type": "markdown",
   "metadata": {},
   "source": [
    "### Ensemble Functions"
   ]
  },
  {
   "cell_type": "code",
   "execution_count": 95,
   "metadata": {},
   "outputs": [],
   "source": [
    "def create_elman_submodels(hidden_count_list=[10, 25, 50]):\n",
    "    '''Create a list of Elman submodels'''\n",
    "    \n",
    "    submodels = []\n",
    "    for hidden_count in hidden_count_list:\n",
    "        # Create a submodel\n",
    "        elman_submodel = ElmanModel(input_dim=15, hidden_units=hidden_count, feature_size=6, n_classes=2)\n",
    "        elman_submodel.compile(optimizer=tf.keras.optimizers.Adam(1e-3), loss='binary_crossentropy', metrics=['acc'])\n",
    "        \n",
    "        # Input layer is needed for the ensemble\n",
    "        input_layer = tf.keras.Input(shape=(15,6,))\n",
    "        submodel = tf.keras.Model(inputs=input_layer, outputs=elman_submodel(input_layer))\n",
    "\n",
    "        submodels.append(submodel)\n",
    "\n",
    "    return submodels"
   ]
  },
  {
   "cell_type": "code",
   "execution_count": 96,
   "metadata": {},
   "outputs": [],
   "source": [
    "def create_jordan_submodels(hidden_count_list=[10, 25, 50]):\n",
    "    '''Create a list of Jordan submodels'''\n",
    "    \n",
    "    submodels = []\n",
    "    for hidden_count in hidden_count_list:\n",
    "        # Create a submodel\n",
    "        jordan_submodel = JordanModel(input_dim=15, hidden_units=hidden_count, feature_size=6, n_classes=2)\n",
    "        jordan_submodel.compile(optimizer=tf.keras.optimizers.Adam(1e-3), loss='binary_crossentropy', metrics=['acc'])\n",
    "        \n",
    "        # Input layer is needed for the ensemble\n",
    "        input_layer = tf.keras.Input(shape=(15,6,))\n",
    "        submodel = tf.keras.Model(inputs=input_layer, outputs=jordan_submodel(input_layer))\n",
    "\n",
    "        submodels.append(submodel)\n",
    "\n",
    "    return submodels"
   ]
  },
  {
   "cell_type": "code",
   "execution_count": 97,
   "metadata": {},
   "outputs": [],
   "source": [
    "def create_ensemble_model(sub_models, active_index=None):\n",
    "    '''This function takes a list of sub-models and returns an ensemble of them.\n",
    "    Works with elman and jordan sub-models(and any combination of them).'''\n",
    "\n",
    "    # We have to rename the layers to avoid duplicate layer names in the ensemble model\n",
    "    for i, sub_model in enumerate(sub_models):\n",
    "        for layer in sub_model.layers:\n",
    "            layer._name = f'ensemble_{i+1}_{layer.name}'\n",
    "\n",
    "    # Freeze every submodel except for the 'active_index' one(if 'active_index' is set)\n",
    "    # if active_index is not None:\n",
    "    #     for i, sub_model in enumerate(sub_models):\n",
    "    #         if i != active_index:\n",
    "    #             for layer in sub_model.layers:\n",
    "    #                 layer.trainable = False\n",
    "    #         else:\n",
    "    #             for layer in sub_model.layers:\n",
    "    #                 layer.trainable = True\n",
    "        \n",
    "    # Create the ensemble model\n",
    "    inputs = [sub_model.input for sub_model in sub_models]\n",
    "    outputs = [sub_model.output for sub_model in sub_models]\n",
    "    concat = tf.keras.layers.Concatenate()(outputs)\n",
    "    ensemble_output = tf.keras.layers.Dense(1, activation='sigmoid')(concat)\n",
    "    ensemble_output = tf.keras.layers.Flatten()(ensemble_output)\n",
    "    ensemble_model = tf.keras.Model(inputs=inputs, outputs=ensemble_output)\n",
    "\n",
    "    # Compile the ensemble model\n",
    "    ensemble_model.compile(optimizer=tf.keras.optimizers.Adam(1e-3), loss='binary_crossentropy', metrics=['acc'])\n",
    "\n",
    "    return ensemble_model"
   ]
  },
  {
   "cell_type": "code",
   "execution_count": 121,
   "metadata": {},
   "outputs": [],
   "source": [
    "def freeze_unfreeze_submodels(active_index, ensemble_model):\n",
    "    for i in range(len(ensemble_model.layers)):\n",
    "        # print(i, ensemble_model.layers[i].name)\n",
    "        if ensemble_model.layers[i].name.startswith(f\"ensemble_{active_index}\"):\n",
    "            ensemble_model.layers[i].trainable = True\n",
    "        elif ensemble_model.layers[i].name.startswith(f\"ensemble_\"):\n",
    "            ensemble_model.layers[i].trainable = False"
   ]
  },
  {
   "cell_type": "code",
   "execution_count": 122,
   "metadata": {},
   "outputs": [
    {
     "name": "stdout",
     "output_type": "stream",
     "text": [
      "0 ensemble_1_input_5\n",
      "1 ensemble_2_input_6\n",
      "2 ensemble_3_input_7\n",
      "3 ensemble_4_input_8\n",
      "4 ensemble_1_elman_model_13\n",
      "5 ensemble_2_elman_model_14\n",
      "6 ensemble_3_elman_model_15\n",
      "7 ensemble_4_elman_model_16\n",
      "8 concatenate_1\n",
      "9 dense_1\n",
      "10 flatten_1\n"
     ]
    }
   ],
   "source": [
    "freeze_unfreeze_submodels(0, elman_only_ensemble)"
   ]
  },
  {
   "cell_type": "code",
   "execution_count": 131,
   "metadata": {},
   "outputs": [],
   "source": [
    "import sklearn.metrics as metrics\n",
    "def evaluate_ensemble(model, X, y):\n",
    "    '''Evaluates the ensemble model on the test set.'''\n",
    "    \n",
    "    y_preds = []\n",
    "    for data in X:\n",
    "        replicate_data = [tf.convert_to_tensor(np.array([data])) for _ in range(len(model.input))]\n",
    "        y_pred = model(replicate_data)[0][0]\n",
    "        y_pred = 1 if np.array(y_pred) > 0.5 else 0\n",
    "        y_preds.append(y_pred)\n",
    "    \n",
    "    return metrics.accuracy_score(y, y_preds)"
   ]
  },
  {
   "cell_type": "markdown",
   "metadata": {},
   "source": [
    "### Ensemble Experiment Functions\n"
   ]
  },
  {
   "cell_type": "code",
   "execution_count": 99,
   "metadata": {},
   "outputs": [],
   "source": [
    "def elman_only_ensemble_experiment(hidden_count_list=[10, 25, 50]):\n",
    "    '''Creates elman sub-models, makes an ensemble out of them,\n",
    "    trains the ensemble, reports test accuracy and returns the model.'''\n",
    "\n",
    "    # Create the sub-models\n",
    "    elman_submodels = create_elman_submodels(hidden_count_list)\n",
    "\n",
    "    # Create the ensemble model\n",
    "    ensemble_model = create_ensemble_model(elman_submodels)\n",
    "\n",
    "    # Copy X_train and X_validation for all of the sub-models\n",
    "    X_train_ensemble = [X_train for i in range(len(elman_submodels))]\n",
    "    X_validation_ensemble = [X_validation for i in range(len(elman_submodels))]\n",
    "    X_test_ensemble = [X_test for i in range(len(elman_submodels))]\n",
    "    \n",
    "    # Train the ensemble model\n",
    "    ensemble_model.fit(\n",
    "        X_train_ensemble,\n",
    "        y_train,\n",
    "        batch_size=1,\n",
    "        epochs=30,\n",
    "        validation_data=(X_validation_ensemble, y_validation),\n",
    "        callbacks=[tf.keras.callbacks.TensorBoard(log_dir='logs/elman_only_ensemble-{}'.format(datetime.datetime.now().strftime(\"%Y%m%d-%H%M%S\")))])\n",
    "\n",
    "    # Report test accuracy\n",
    "    test_accuracy = evaluate_ensemble(ensemble_model, X_test, y_test)\n",
    "    \n",
    "\n",
    "    return ensemble_model, test_accuracy"
   ]
  },
  {
   "cell_type": "code",
   "execution_count": 100,
   "metadata": {},
   "outputs": [],
   "source": [
    "def jordan_only_ensemble_experiment(hidden_count_list=[10, 25, 50]):\n",
    "    '''Creates jordan sub-models, makes an ensemble out of them,\n",
    "    trains the ensemble, reports test accuracy and returns the model.'''\n",
    "\n",
    "    # Create the sub-models\n",
    "    jordan_submodels = create_jordan_submodels(hidden_count_list)\n",
    "\n",
    "    # Create the ensemble model\n",
    "    ensemble_model = create_ensemble_model(jordan_submodels)\n",
    "\n",
    "    # Copy X_train and X_validation for all of the sub-models\n",
    "    X_train_ensemble = [X_train for i in range(len(jordan_submodels))]\n",
    "    X_validation_ensemble = [X_validation for i in range(len(jordan_submodels))]\n",
    "    X_test_ensemble = [X_test for i in range(len(jordan_submodels))]\n",
    "    \n",
    "    # Train the ensemble model\n",
    "    ensemble_model.fit(\n",
    "        X_train_ensemble,\n",
    "        y_train,\n",
    "        batch_size=1,\n",
    "        epochs=30,\n",
    "        validation_data=(X_validation_ensemble, y_validation),\n",
    "        callbacks=[tf.keras.callbacks.TensorBoard(log_dir='logs/jordan_only_ensemble-{}'.format(datetime.datetime.now().strftime(\"%Y%m%d-%H%M%S\")))])\n",
    "\n",
    "    # Report test accuracy\n",
    "    test_accuracy = evaluate_ensemble(ensemble_model, X_test, y_test)\n",
    "\n",
    "    return ensemble_model, test_accuracy"
   ]
  },
  {
   "cell_type": "code",
   "execution_count": 101,
   "metadata": {},
   "outputs": [],
   "source": [
    "# X_train_list = []\n",
    "# X_train_fixed = X_train[:-(X_train.shape[0]%6)]\n",
    "# for i in range(6):\n",
    "#     X_train_current = X_train_fixed[int(i*X_train_fixed.shape[0]/6):int((i+1)*X_train_fixed.shape[0]/6)]\n",
    "#     X_train_list.append(X_train_current)\n",
    "\n",
    "# len(X_train_list[3])"
   ]
  },
  {
   "cell_type": "code",
   "execution_count": 102,
   "metadata": {},
   "outputs": [],
   "source": [
    "def endgame_ensemble_experiment(elman_hidden_count_list=[10, 25, 50], jordan_hidden_count_list=[10, 25, 50]):\n",
    "    '''Creates elman and jordan sub-models, makes an ensemble out of them,\n",
    "    trains the ensemble, reports test accuracy and returns the model.'''\n",
    "\n",
    "    # Create the sub-models\n",
    "    elman_submodels = []\n",
    "    if len(elman_hidden_count_list)>0:\n",
    "        elman_submodels = create_elman_submodels(elman_hidden_count_list)\n",
    "\n",
    "    jordan_submodels = []\n",
    "    if len(jordan_hidden_count_list)>0:\n",
    "        jordan_submodels = create_jordan_submodels(jordan_hidden_count_list)\n",
    "\n",
    "    # Total count of sub-models\n",
    "    total_submodels = len(elman_submodels) + len(jordan_submodels)\n",
    "\n",
    "    # Split X_train for each sub-model\n",
    "    X_train_list = []\n",
    "    X_train_fixed = X_train[:-(X_train.shape[0]%6)]\n",
    "    for i in range(6):\n",
    "        X_train_current = X_train_fixed[int(i*X_train_fixed.shape[0]/6):int((i+1)*X_train_fixed.shape[0]/6)]\n",
    "        X_train_list.append(X_train_current)\n",
    "\n",
    "    # Choose X_train and copy X_validation for all of the sub-models\n",
    "    X_train_ensemble = [X_train_list[i] for i in range(total_submodels)]\n",
    "    X_validation_ensemble = [X_validation for i in range(total_submodels)]\n",
    "    X_test_ensemble = [X_test for i in range(total_submodels)]\n",
    "    \n",
    "    ensemble_model = create_ensemble_model(elman_submodels + jordan_submodels)\n",
    "\n",
    "    # Train the ensemble model\n",
    "    ensemble_model.fit(\n",
    "        X_train_ensemble,\n",
    "        y_train,\n",
    "        batch_size=1,\n",
    "        epochs=30,\n",
    "        validation_data=(X_validation_ensemble, y_validation),\n",
    "        callbacks=[tf.keras.callbacks.TensorBoard(log_dir='logs/endgame_ensemble-{}'.format(datetime.datetime.now().strftime(\"%Y%m%d-%H%M%S\")))])\n",
    "\n",
    "    # Report test accuracy\n",
    "    test_accuracy = evaluate_ensemble(ensemble_model, X_test, y_test)\n",
    "\n",
    "    return ensemble_model, test_accuracy"
   ]
  },
  {
   "cell_type": "markdown",
   "metadata": {},
   "source": [
    "## Main"
   ]
  },
  {
   "cell_type": "markdown",
   "metadata": {},
   "source": [
    "### Loading the data"
   ]
  },
  {
   "cell_type": "code",
   "execution_count": 103,
   "metadata": {},
   "outputs": [
    {
     "name": "stdout",
     "output_type": "stream",
     "text": [
      "X.shape: (463, 15, 6)\n",
      "X.dtype: float32\n",
      "y.shape: (463,)\n",
      "y.dtype: float32\n"
     ]
    }
   ],
   "source": [
    "X, y = load_data()\n",
    "print(\"X.shape:\", X.shape)\n",
    "print(\"X.dtype:\", X.dtype)\n",
    "print(\"y.shape:\", y.shape)\n",
    "print(\"y.dtype:\", y.dtype)"
   ]
  },
  {
   "cell_type": "markdown",
   "metadata": {},
   "source": [
    "### Train, Test, validation split"
   ]
  },
  {
   "cell_type": "code",
   "execution_count": 104,
   "metadata": {},
   "outputs": [],
   "source": [
    "X_train, X_test, y_train, y_test = train_test_split(X, y, test_size=0.2, random_state=1)\n",
    "X_train, X_validation, y_train, y_validation = train_test_split(X_train, y_train, test_size=0.125, random_state=1)"
   ]
  },
  {
   "cell_type": "markdown",
   "metadata": {},
   "source": [
    "### Normalize Dataset?"
   ]
  },
  {
   "cell_type": "code",
   "execution_count": 105,
   "metadata": {},
   "outputs": [],
   "source": [
    "# Normalize the data"
   ]
  },
  {
   "cell_type": "markdown",
   "metadata": {},
   "source": [
    "### Experiments"
   ]
  },
  {
   "cell_type": "markdown",
   "metadata": {},
   "source": [
    "#### Elman"
   ]
  },
  {
   "cell_type": "code",
   "execution_count": 106,
   "metadata": {},
   "outputs": [],
   "source": [
    "# elman_nn = ElmanModel(input_dim=15, hidden_units=10, feature_size=6, n_classes=1)\n",
    "\n",
    "# elman_nn.compile(optimizer=tf.keras.optimizers.Adam(1e-3),\n",
    "#                 loss='binary_crossentropy',\n",
    "#                 metrics=['acc'])\n",
    "# elman_nn.fit(\n",
    "#     X_train,\n",
    "#     y_train,\n",
    "#     batch_size=1,\n",
    "#     epochs=30,\n",
    "#     validation_data=(X_validation, y_validation),\n",
    "#     callbacks=[tf.keras.callbacks.TensorBoard(log_dir='logs/elman-{}'.format(datetime.datetime.now().strftime(\"%Y%m%d-%H%M%S\")))])"
   ]
  },
  {
   "cell_type": "code",
   "execution_count": 107,
   "metadata": {},
   "outputs": [],
   "source": [
    "# tf.keras.utils.plot_model(elman_nn, show_shapes=True)"
   ]
  },
  {
   "cell_type": "code",
   "execution_count": 108,
   "metadata": {},
   "outputs": [],
   "source": [
    "# i = 27\n",
    "# print(elman_nn(X_test[np.newaxis,i]))\n",
    "# print(y_test[i])"
   ]
  },
  {
   "cell_type": "code",
   "execution_count": 109,
   "metadata": {},
   "outputs": [],
   "source": [
    "# evaluate_model(elman_nn,X_test, y_test)"
   ]
  },
  {
   "cell_type": "code",
   "execution_count": 110,
   "metadata": {},
   "outputs": [
    {
     "name": "stdout",
     "output_type": "stream",
     "text": [
      "Epoch 1/30\n",
      "323/323 [==============================] - 2s 4ms/step - loss: 0.6522 - acc: 0.6780 - val_loss: 0.5930 - val_acc: 0.7021\n",
      "Epoch 2/30\n",
      "323/323 [==============================] - 1s 2ms/step - loss: 0.5418 - acc: 0.7678 - val_loss: 0.4810 - val_acc: 0.7660\n",
      "Epoch 3/30\n",
      "323/323 [==============================] - 1s 2ms/step - loss: 0.4727 - acc: 0.7895 - val_loss: 0.4457 - val_acc: 0.7660\n",
      "Epoch 4/30\n",
      "323/323 [==============================] - 1s 2ms/step - loss: 0.4284 - acc: 0.7988 - val_loss: 0.4069 - val_acc: 0.7447\n",
      "Epoch 5/30\n",
      "323/323 [==============================] - 1s 3ms/step - loss: 0.3998 - acc: 0.7926 - val_loss: 0.3853 - val_acc: 0.8085\n",
      "Epoch 6/30\n",
      "323/323 [==============================] - 1s 2ms/step - loss: 0.3910 - acc: 0.7988 - val_loss: 0.3621 - val_acc: 0.8298\n",
      "Epoch 7/30\n",
      "323/323 [==============================] - 1s 2ms/step - loss: 0.3612 - acc: 0.8452 - val_loss: 0.3519 - val_acc: 0.8085\n",
      "Epoch 8/30\n",
      "323/323 [==============================] - 1s 2ms/step - loss: 0.3440 - acc: 0.8452 - val_loss: 0.3395 - val_acc: 0.8298\n",
      "Epoch 9/30\n",
      "323/323 [==============================] - 1s 2ms/step - loss: 0.3277 - acc: 0.8483 - val_loss: 0.3390 - val_acc: 0.8298\n",
      "Epoch 10/30\n",
      "323/323 [==============================] - 1s 2ms/step - loss: 0.3213 - acc: 0.8638 - val_loss: 0.4095 - val_acc: 0.7660\n",
      "Epoch 11/30\n",
      "323/323 [==============================] - 1s 2ms/step - loss: 0.3244 - acc: 0.8576 - val_loss: 0.3383 - val_acc: 0.8085\n",
      "Epoch 12/30\n",
      "323/323 [==============================] - 1s 2ms/step - loss: 0.2960 - acc: 0.8452 - val_loss: 0.3325 - val_acc: 0.8511\n",
      "Epoch 13/30\n",
      "323/323 [==============================] - 1s 2ms/step - loss: 0.2976 - acc: 0.8390 - val_loss: 0.3186 - val_acc: 0.8511\n",
      "Epoch 14/30\n",
      "323/323 [==============================] - 1s 2ms/step - loss: 0.2837 - acc: 0.8638 - val_loss: 0.3238 - val_acc: 0.8085\n",
      "Epoch 15/30\n",
      "323/323 [==============================] - 1s 2ms/step - loss: 0.3100 - acc: 0.8483 - val_loss: 0.3308 - val_acc: 0.8511\n",
      "Epoch 16/30\n",
      "323/323 [==============================] - 1s 2ms/step - loss: 0.2938 - acc: 0.8669 - val_loss: 0.2813 - val_acc: 0.8511\n",
      "Epoch 17/30\n",
      "323/323 [==============================] - 1s 2ms/step - loss: 0.2991 - acc: 0.8607 - val_loss: 0.3017 - val_acc: 0.8298\n",
      "Epoch 18/30\n",
      "323/323 [==============================] - 1s 2ms/step - loss: 0.3067 - acc: 0.8359 - val_loss: 0.3044 - val_acc: 0.8511\n",
      "Epoch 19/30\n",
      "323/323 [==============================] - 1s 2ms/step - loss: 0.2765 - acc: 0.8700 - val_loss: 0.3002 - val_acc: 0.8511\n",
      "Epoch 20/30\n",
      "323/323 [==============================] - 1s 2ms/step - loss: 0.2643 - acc: 0.8669 - val_loss: 0.2869 - val_acc: 0.8723\n",
      "Epoch 21/30\n",
      "323/323 [==============================] - 1s 2ms/step - loss: 0.2578 - acc: 0.8700 - val_loss: 0.2907 - val_acc: 0.8511\n",
      "Epoch 22/30\n",
      "323/323 [==============================] - 1s 2ms/step - loss: 0.2655 - acc: 0.8607 - val_loss: 0.3033 - val_acc: 0.8298\n",
      "Epoch 23/30\n",
      "323/323 [==============================] - 1s 2ms/step - loss: 0.2568 - acc: 0.8762 - val_loss: 0.2808 - val_acc: 0.8723\n",
      "Epoch 24/30\n",
      "323/323 [==============================] - 1s 2ms/step - loss: 0.2472 - acc: 0.8793 - val_loss: 0.2745 - val_acc: 0.8723\n",
      "Epoch 25/30\n",
      "323/323 [==============================] - 1s 2ms/step - loss: 0.2554 - acc: 0.8793 - val_loss: 0.2690 - val_acc: 0.8723\n",
      "Epoch 26/30\n",
      "323/323 [==============================] - 1s 2ms/step - loss: 0.2393 - acc: 0.8854 - val_loss: 0.2435 - val_acc: 0.8723\n",
      "Epoch 27/30\n",
      "323/323 [==============================] - 1s 2ms/step - loss: 0.2477 - acc: 0.8793 - val_loss: 0.2547 - val_acc: 0.8723\n",
      "Epoch 28/30\n",
      "323/323 [==============================] - 1s 2ms/step - loss: 0.2413 - acc: 0.8947 - val_loss: 0.2560 - val_acc: 0.8723\n",
      "Epoch 29/30\n",
      "323/323 [==============================] - 1s 2ms/step - loss: 0.2402 - acc: 0.8885 - val_loss: 0.2312 - val_acc: 0.8936\n",
      "Epoch 30/30\n",
      "323/323 [==============================] - 1s 2ms/step - loss: 0.2799 - acc: 0.8854 - val_loss: 0.2238 - val_acc: 0.8936\n",
      "Epoch 1/30\n",
      "323/323 [==============================] - 3s 4ms/step - loss: 0.6241 - acc: 0.6749 - val_loss: 0.5472 - val_acc: 0.7234\n",
      "Epoch 2/30\n",
      "323/323 [==============================] - 1s 2ms/step - loss: 0.4982 - acc: 0.7337 - val_loss: 0.4331 - val_acc: 0.8298\n",
      "Epoch 3/30\n",
      "323/323 [==============================] - 1s 2ms/step - loss: 0.4100 - acc: 0.8142 - val_loss: 0.4381 - val_acc: 0.7660\n",
      "Epoch 4/30\n",
      "323/323 [==============================] - 1s 2ms/step - loss: 0.3843 - acc: 0.8235 - val_loss: 0.3713 - val_acc: 0.7660\n",
      "Epoch 5/30\n",
      "323/323 [==============================] - 1s 2ms/step - loss: 0.3676 - acc: 0.8204 - val_loss: 0.4790 - val_acc: 0.7234\n",
      "Epoch 6/30\n",
      "323/323 [==============================] - 1s 3ms/step - loss: 0.3487 - acc: 0.8266 - val_loss: 0.3447 - val_acc: 0.8085\n",
      "Epoch 7/30\n",
      "323/323 [==============================] - 1s 2ms/step - loss: 0.3262 - acc: 0.8452 - val_loss: 0.3340 - val_acc: 0.8085\n",
      "Epoch 8/30\n",
      "323/323 [==============================] - 1s 2ms/step - loss: 0.3266 - acc: 0.8452 - val_loss: 0.2905 - val_acc: 0.8723\n",
      "Epoch 9/30\n",
      "323/323 [==============================] - 1s 2ms/step - loss: 0.3055 - acc: 0.8669 - val_loss: 0.2918 - val_acc: 0.8298\n",
      "Epoch 10/30\n",
      "323/323 [==============================] - 1s 2ms/step - loss: 0.3058 - acc: 0.8607 - val_loss: 0.3177 - val_acc: 0.7660\n",
      "Epoch 11/30\n",
      "323/323 [==============================] - 1s 2ms/step - loss: 0.2841 - acc: 0.8638 - val_loss: 0.2897 - val_acc: 0.8298\n",
      "Epoch 12/30\n",
      "323/323 [==============================] - 1s 2ms/step - loss: 0.2921 - acc: 0.8669 - val_loss: 0.2849 - val_acc: 0.8298\n",
      "Epoch 13/30\n",
      "323/323 [==============================] - 1s 2ms/step - loss: 0.3408 - acc: 0.8545 - val_loss: 0.2746 - val_acc: 0.8936\n",
      "Epoch 14/30\n",
      "323/323 [==============================] - 1s 2ms/step - loss: 0.3434 - acc: 0.8483 - val_loss: 0.3241 - val_acc: 0.8723\n",
      "Epoch 15/30\n",
      "323/323 [==============================] - 1s 2ms/step - loss: 0.3269 - acc: 0.8607 - val_loss: 0.2880 - val_acc: 0.8936\n",
      "Epoch 16/30\n",
      "323/323 [==============================] - 1s 2ms/step - loss: 0.2723 - acc: 0.8700 - val_loss: 0.2554 - val_acc: 0.8511\n",
      "Epoch 17/30\n",
      "323/323 [==============================] - 1s 2ms/step - loss: 0.2645 - acc: 0.8793 - val_loss: 0.2366 - val_acc: 0.8723\n",
      "Epoch 18/30\n",
      "323/323 [==============================] - 1s 2ms/step - loss: 0.2429 - acc: 0.8947 - val_loss: 0.2283 - val_acc: 0.8936\n",
      "Epoch 19/30\n",
      "323/323 [==============================] - 1s 2ms/step - loss: 0.2258 - acc: 0.9133 - val_loss: 0.2192 - val_acc: 0.8936\n",
      "Epoch 20/30\n",
      "323/323 [==============================] - 1s 2ms/step - loss: 0.2158 - acc: 0.9102 - val_loss: 0.2111 - val_acc: 0.8936\n",
      "Epoch 21/30\n",
      "323/323 [==============================] - 1s 2ms/step - loss: 0.2116 - acc: 0.9009 - val_loss: 0.2035 - val_acc: 0.9149\n",
      "Epoch 22/30\n",
      "323/323 [==============================] - 1s 2ms/step - loss: 0.2008 - acc: 0.9195 - val_loss: 0.1957 - val_acc: 0.9149\n",
      "Epoch 23/30\n",
      "323/323 [==============================] - 1s 2ms/step - loss: 0.1965 - acc: 0.9133 - val_loss: 0.1911 - val_acc: 0.8936\n",
      "Epoch 24/30\n",
      "323/323 [==============================] - 1s 2ms/step - loss: 0.1887 - acc: 0.9226 - val_loss: 0.1716 - val_acc: 0.9362\n",
      "Epoch 25/30\n",
      "323/323 [==============================] - 1s 2ms/step - loss: 0.1978 - acc: 0.9102 - val_loss: 0.1724 - val_acc: 0.9362\n",
      "Epoch 26/30\n",
      "323/323 [==============================] - 1s 2ms/step - loss: 0.1776 - acc: 0.9195 - val_loss: 0.2171 - val_acc: 0.8936\n",
      "Epoch 27/30\n",
      "323/323 [==============================] - 1s 2ms/step - loss: 0.1775 - acc: 0.9288 - val_loss: 0.1654 - val_acc: 0.9149\n",
      "Epoch 28/30\n",
      "323/323 [==============================] - 1s 2ms/step - loss: 0.1697 - acc: 0.9350 - val_loss: 0.1608 - val_acc: 0.9362\n",
      "Epoch 29/30\n",
      "323/323 [==============================] - 1s 2ms/step - loss: 0.1556 - acc: 0.9350 - val_loss: 0.1804 - val_acc: 0.9149\n",
      "Epoch 30/30\n",
      "323/323 [==============================] - 1s 2ms/step - loss: 0.1534 - acc: 0.9350 - val_loss: 0.1560 - val_acc: 0.9149\n",
      "Epoch 1/30\n",
      "323/323 [==============================] - 3s 5ms/step - loss: 0.5868 - acc: 0.6749 - val_loss: 0.4684 - val_acc: 0.7872\n",
      "Epoch 2/30\n",
      "323/323 [==============================] - 1s 4ms/step - loss: 0.4489 - acc: 0.7709 - val_loss: 0.4135 - val_acc: 0.8511\n",
      "Epoch 3/30\n",
      "323/323 [==============================] - 1s 2ms/step - loss: 0.3986 - acc: 0.8359 - val_loss: 0.3777 - val_acc: 0.7872\n",
      "Epoch 4/30\n",
      "323/323 [==============================] - 1s 2ms/step - loss: 0.3692 - acc: 0.8266 - val_loss: 0.3361 - val_acc: 0.8298\n",
      "Epoch 5/30\n",
      "323/323 [==============================] - 1s 2ms/step - loss: 0.3447 - acc: 0.8452 - val_loss: 0.3408 - val_acc: 0.8085\n",
      "Epoch 6/30\n",
      "323/323 [==============================] - 1s 2ms/step - loss: 0.3143 - acc: 0.8545 - val_loss: 0.3288 - val_acc: 0.8298\n",
      "Epoch 7/30\n",
      "323/323 [==============================] - 1s 2ms/step - loss: 0.2986 - acc: 0.8359 - val_loss: 0.2651 - val_acc: 0.8723\n",
      "Epoch 8/30\n",
      "323/323 [==============================] - 1s 2ms/step - loss: 0.2766 - acc: 0.8638 - val_loss: 0.2606 - val_acc: 0.8723\n",
      "Epoch 9/30\n",
      "323/323 [==============================] - 1s 2ms/step - loss: 0.2746 - acc: 0.8793 - val_loss: 0.2573 - val_acc: 0.8298\n",
      "Epoch 10/30\n",
      "323/323 [==============================] - 1s 2ms/step - loss: 0.2518 - acc: 0.8700 - val_loss: 0.2623 - val_acc: 0.8511\n",
      "Epoch 11/30\n",
      "323/323 [==============================] - 1s 2ms/step - loss: 0.2336 - acc: 0.8762 - val_loss: 0.2282 - val_acc: 0.8723\n",
      "Epoch 12/30\n",
      "323/323 [==============================] - 1s 2ms/step - loss: 0.2248 - acc: 0.8854 - val_loss: 0.2288 - val_acc: 0.9149\n",
      "Epoch 13/30\n",
      "323/323 [==============================] - 1s 2ms/step - loss: 0.2105 - acc: 0.9040 - val_loss: 0.2209 - val_acc: 0.9149\n",
      "Epoch 14/30\n",
      "323/323 [==============================] - 1s 2ms/step - loss: 0.2032 - acc: 0.8916 - val_loss: 0.2406 - val_acc: 0.9149\n",
      "Epoch 15/30\n",
      "323/323 [==============================] - 1s 2ms/step - loss: 0.1914 - acc: 0.9040 - val_loss: 0.2323 - val_acc: 0.8936\n",
      "Epoch 16/30\n",
      "323/323 [==============================] - 1s 2ms/step - loss: 0.1908 - acc: 0.9071 - val_loss: 0.1905 - val_acc: 0.9362\n",
      "Epoch 17/30\n",
      "323/323 [==============================] - 1s 2ms/step - loss: 0.1702 - acc: 0.9288 - val_loss: 0.1767 - val_acc: 0.9574\n",
      "Epoch 18/30\n",
      "323/323 [==============================] - 1s 2ms/step - loss: 0.3466 - acc: 0.8793 - val_loss: 0.2042 - val_acc: 0.9362\n",
      "Epoch 19/30\n",
      "323/323 [==============================] - 1s 2ms/step - loss: 0.1837 - acc: 0.9350 - val_loss: 0.1589 - val_acc: 0.9574\n",
      "Epoch 20/30\n",
      "323/323 [==============================] - 1s 2ms/step - loss: 0.1755 - acc: 0.9257 - val_loss: 0.1461 - val_acc: 0.9787\n",
      "Epoch 21/30\n",
      "323/323 [==============================] - 1s 2ms/step - loss: 0.1611 - acc: 0.9443 - val_loss: 0.1858 - val_acc: 0.9574\n",
      "Epoch 22/30\n",
      "323/323 [==============================] - 1s 2ms/step - loss: 0.1437 - acc: 0.9412 - val_loss: 0.2000 - val_acc: 0.9574\n",
      "Epoch 23/30\n",
      "323/323 [==============================] - 1s 2ms/step - loss: 0.1369 - acc: 0.9505 - val_loss: 0.1731 - val_acc: 0.9149\n",
      "Epoch 24/30\n",
      "323/323 [==============================] - 1s 2ms/step - loss: 0.1379 - acc: 0.9381 - val_loss: 0.1956 - val_acc: 0.9362\n",
      "Epoch 25/30\n",
      "323/323 [==============================] - 1s 2ms/step - loss: 0.1250 - acc: 0.9412 - val_loss: 0.1827 - val_acc: 0.9149\n",
      "Epoch 26/30\n",
      "323/323 [==============================] - 1s 2ms/step - loss: 0.1153 - acc: 0.9505 - val_loss: 0.1316 - val_acc: 0.9574\n",
      "Epoch 27/30\n",
      "323/323 [==============================] - 1s 2ms/step - loss: 0.1642 - acc: 0.9226 - val_loss: 0.1213 - val_acc: 0.9362\n",
      "Epoch 28/30\n",
      "323/323 [==============================] - 1s 2ms/step - loss: 0.1691 - acc: 0.9288 - val_loss: 0.1149 - val_acc: 1.0000\n",
      "Epoch 29/30\n",
      "323/323 [==============================] - 1s 2ms/step - loss: 0.1091 - acc: 0.9505 - val_loss: 0.1101 - val_acc: 0.9574\n",
      "Epoch 30/30\n",
      "323/323 [==============================] - 1s 2ms/step - loss: 0.1007 - acc: 0.9628 - val_loss: 0.0975 - val_acc: 0.9787\n",
      "Epoch 1/30\n",
      "323/323 [==============================] - 3s 4ms/step - loss: 0.5440 - acc: 0.6904 - val_loss: 0.4436 - val_acc: 0.7447\n",
      "Epoch 2/30\n",
      "323/323 [==============================] - 1s 3ms/step - loss: 0.4164 - acc: 0.7895 - val_loss: 0.3918 - val_acc: 0.8511\n",
      "Epoch 3/30\n",
      "323/323 [==============================] - 1s 3ms/step - loss: 0.3781 - acc: 0.7895 - val_loss: 0.3985 - val_acc: 0.7872\n",
      "Epoch 4/30\n",
      "323/323 [==============================] - 1s 3ms/step - loss: 0.3566 - acc: 0.8111 - val_loss: 0.3719 - val_acc: 0.8511\n",
      "Epoch 5/30\n",
      "323/323 [==============================] - 1s 3ms/step - loss: 0.3206 - acc: 0.8545 - val_loss: 0.3931 - val_acc: 0.8298\n",
      "Epoch 6/30\n",
      "323/323 [==============================] - 1s 2ms/step - loss: 0.3001 - acc: 0.8514 - val_loss: 0.3740 - val_acc: 0.8298\n",
      "Epoch 7/30\n",
      "323/323 [==============================] - 1s 2ms/step - loss: 0.2938 - acc: 0.8607 - val_loss: 0.4074 - val_acc: 0.7234\n",
      "Epoch 8/30\n",
      "323/323 [==============================] - 1s 2ms/step - loss: 0.2761 - acc: 0.8762 - val_loss: 0.3775 - val_acc: 0.8085\n",
      "Epoch 9/30\n",
      "323/323 [==============================] - 1s 2ms/step - loss: 0.2712 - acc: 0.8576 - val_loss: 0.3967 - val_acc: 0.8085\n",
      "Epoch 10/30\n",
      "323/323 [==============================] - 1s 3ms/step - loss: 0.2565 - acc: 0.8638 - val_loss: 0.4275 - val_acc: 0.7660\n",
      "Epoch 11/30\n",
      "323/323 [==============================] - 1s 2ms/step - loss: 0.2345 - acc: 0.9009 - val_loss: 0.3714 - val_acc: 0.8298\n",
      "Epoch 12/30\n",
      "323/323 [==============================] - 1s 2ms/step - loss: 0.2205 - acc: 0.8947 - val_loss: 0.3064 - val_acc: 0.8936\n",
      "Epoch 13/30\n",
      "323/323 [==============================] - 1s 2ms/step - loss: 0.2056 - acc: 0.8947 - val_loss: 0.3002 - val_acc: 0.8723\n",
      "Epoch 14/30\n",
      "323/323 [==============================] - 1s 2ms/step - loss: 0.1898 - acc: 0.9102 - val_loss: 0.3218 - val_acc: 0.8723\n",
      "Epoch 15/30\n",
      "323/323 [==============================] - 1s 3ms/step - loss: 0.1764 - acc: 0.9257 - val_loss: 0.2611 - val_acc: 0.9149\n",
      "Epoch 16/30\n",
      "323/323 [==============================] - 1s 2ms/step - loss: 0.1565 - acc: 0.9257 - val_loss: 0.2278 - val_acc: 0.9362\n",
      "Epoch 17/30\n",
      "323/323 [==============================] - 1s 2ms/step - loss: 0.1837 - acc: 0.9102 - val_loss: 0.2461 - val_acc: 0.9362\n",
      "Epoch 18/30\n",
      "323/323 [==============================] - 1s 2ms/step - loss: 0.1668 - acc: 0.9288 - val_loss: 0.3176 - val_acc: 0.8511\n",
      "Epoch 19/30\n",
      "323/323 [==============================] - 1s 4ms/step - loss: 0.1981 - acc: 0.9133 - val_loss: 0.2223 - val_acc: 0.8936\n",
      "Epoch 20/30\n",
      "323/323 [==============================] - 1s 3ms/step - loss: 0.1340 - acc: 0.9443 - val_loss: 0.1598 - val_acc: 0.9149\n",
      "Epoch 21/30\n",
      "323/323 [==============================] - 1s 2ms/step - loss: 0.1540 - acc: 0.9288 - val_loss: 0.1934 - val_acc: 0.9149\n",
      "Epoch 22/30\n",
      "323/323 [==============================] - 1s 2ms/step - loss: 0.1395 - acc: 0.9536 - val_loss: 0.1388 - val_acc: 0.9574\n",
      "Epoch 23/30\n",
      "323/323 [==============================] - 1s 2ms/step - loss: 0.1447 - acc: 0.9412 - val_loss: 0.2332 - val_acc: 0.9149\n",
      "Epoch 24/30\n",
      "323/323 [==============================] - 1s 2ms/step - loss: 0.1206 - acc: 0.9567 - val_loss: 0.1461 - val_acc: 0.9362\n",
      "Epoch 25/30\n",
      "323/323 [==============================] - 1s 2ms/step - loss: 0.1047 - acc: 0.9567 - val_loss: 0.3902 - val_acc: 0.8298\n",
      "Epoch 26/30\n",
      "323/323 [==============================] - 1s 2ms/step - loss: 0.2393 - acc: 0.8916 - val_loss: 0.2207 - val_acc: 0.9149\n",
      "Epoch 27/30\n",
      "323/323 [==============================] - 1s 3ms/step - loss: 0.1769 - acc: 0.9288 - val_loss: 0.1744 - val_acc: 0.9574\n",
      "Epoch 28/30\n",
      "323/323 [==============================] - 1s 2ms/step - loss: 0.1096 - acc: 0.9690 - val_loss: 0.2169 - val_acc: 0.9362\n",
      "Epoch 29/30\n",
      "323/323 [==============================] - 1s 3ms/step - loss: 0.0900 - acc: 0.9721 - val_loss: 0.1480 - val_acc: 0.9574\n",
      "Epoch 30/30\n",
      "323/323 [==============================] - 1s 4ms/step - loss: 0.0771 - acc: 0.9752 - val_loss: 0.0878 - val_acc: 0.9787\n"
     ]
    }
   ],
   "source": [
    "# Experiment with different hidden layer counts\n",
    "elman_10, elman_10_score = train_elman(10)\n",
    "elman_25, elman_25_score = train_elman(25)\n",
    "elman_50, elman_50_score = train_elman(50)\n",
    "elman_75, elman_75_score = train_elman(75)\n",
    "elman_100, elman_100_score = train_elman(100)\n",
    "elman_200, elman_200_score = train_elman(200)"
   ]
  },
  {
   "cell_type": "code",
   "execution_count": 111,
   "metadata": {},
   "outputs": [
    {
     "name": "stdout",
     "output_type": "stream",
     "text": [
      "elman_10_score: 0.8817204301075269\n",
      "elman_25_score: 0.9139784946236559\n",
      "elman_50_score: 0.9354838709677419\n",
      "elman_100_score: 0.967741935483871\n"
     ]
    }
   ],
   "source": [
    "print(\"elman_10_score:\", elman_10_score)\n",
    "print(\"elman_25_score:\", elman_25_score)\n",
    "print(\"elman_50_score:\", elman_50_score)\n",
    "print(\"elman_75_score:\", elman_75_score)\n",
    "print(\"elman_100_score:\", elman_100_score)\n",
    "print(\"elman_200_score:\", elman_200_score)"
   ]
  },
  {
   "cell_type": "markdown",
   "metadata": {},
   "source": [
    "#### Jordan"
   ]
  },
  {
   "cell_type": "code",
   "execution_count": null,
   "metadata": {},
   "outputs": [],
   "source": [
    "# jordan_nn = JordanModel(input_dim=15, hidden_units=10, feature_size=6, n_classes=2)\n",
    "\n",
    "# jordan_nn.compile(optimizer=tf.keras.optimizers.Adam(1e-3),\n",
    "#                 loss='binary_crossentropy',\n",
    "#                 metrics=['acc'])\n",
    "\n",
    "# jordan_nn.fit(\n",
    "#     X_train,\n",
    "#     y_train,\n",
    "#     batch_size=1,\n",
    "#     epochs=30,\n",
    "#     validation_data=(X_validation, y_validation),\n",
    "#     callbacks=[tf.keras.callbacks.TensorBoard(log_dir='logs/jordan-{}'.format(datetime.datetime.now().strftime(\"%Y%m%d-%H%M%S\")))])"
   ]
  },
  {
   "cell_type": "code",
   "execution_count": null,
   "metadata": {},
   "outputs": [],
   "source": [
    "# evaluate_model(jordan_nn,X_test, y_test)"
   ]
  },
  {
   "cell_type": "code",
   "execution_count": 113,
   "metadata": {},
   "outputs": [
    {
     "name": "stdout",
     "output_type": "stream",
     "text": [
      "Epoch 1/30\n",
      "323/323 [==============================] - 4s 5ms/step - loss: 0.6309 - acc: 0.6656 - val_loss: 0.5346 - val_acc: 0.7021\n",
      "Epoch 2/30\n",
      "323/323 [==============================] - 1s 3ms/step - loss: 0.4510 - acc: 0.7864 - val_loss: 0.3589 - val_acc: 0.8085\n",
      "Epoch 3/30\n",
      "323/323 [==============================] - 1s 3ms/step - loss: 0.3930 - acc: 0.8173 - val_loss: 0.3426 - val_acc: 0.8511\n",
      "Epoch 4/30\n",
      "323/323 [==============================] - 1s 3ms/step - loss: 0.3478 - acc: 0.8235 - val_loss: 0.2802 - val_acc: 0.8511\n",
      "Epoch 5/30\n",
      "323/323 [==============================] - 1s 3ms/step - loss: 0.3257 - acc: 0.8204 - val_loss: 0.2657 - val_acc: 0.8936\n",
      "Epoch 6/30\n",
      "323/323 [==============================] - 1s 2ms/step - loss: 0.2913 - acc: 0.8359 - val_loss: 0.2543 - val_acc: 0.8723\n",
      "Epoch 7/30\n",
      "323/323 [==============================] - 1s 2ms/step - loss: 0.2846 - acc: 0.8545 - val_loss: 0.2757 - val_acc: 0.8723\n",
      "Epoch 8/30\n",
      "323/323 [==============================] - 1s 2ms/step - loss: 0.2779 - acc: 0.8328 - val_loss: 0.2582 - val_acc: 0.8723\n",
      "Epoch 9/30\n",
      "323/323 [==============================] - 1s 2ms/step - loss: 0.2756 - acc: 0.8514 - val_loss: 0.2554 - val_acc: 0.8511\n",
      "Epoch 10/30\n",
      "323/323 [==============================] - 1s 2ms/step - loss: 0.2694 - acc: 0.8421 - val_loss: 0.2495 - val_acc: 0.8723\n",
      "Epoch 11/30\n",
      "323/323 [==============================] - 1s 2ms/step - loss: 0.2590 - acc: 0.8638 - val_loss: 0.2781 - val_acc: 0.8723\n",
      "Epoch 12/30\n",
      "323/323 [==============================] - 1s 2ms/step - loss: 0.2477 - acc: 0.8669 - val_loss: 0.2471 - val_acc: 0.8511\n",
      "Epoch 13/30\n",
      "323/323 [==============================] - 1s 2ms/step - loss: 0.2524 - acc: 0.8514 - val_loss: 0.2643 - val_acc: 0.8723\n",
      "Epoch 14/30\n",
      "323/323 [==============================] - 1s 2ms/step - loss: 0.2412 - acc: 0.8700 - val_loss: 0.2588 - val_acc: 0.8936\n",
      "Epoch 15/30\n",
      "323/323 [==============================] - 1s 4ms/step - loss: 0.2484 - acc: 0.8576 - val_loss: 0.2395 - val_acc: 0.8936\n",
      "Epoch 16/30\n",
      "323/323 [==============================] - 1s 2ms/step - loss: 0.2348 - acc: 0.8700 - val_loss: 0.2428 - val_acc: 0.8298\n",
      "Epoch 17/30\n",
      "323/323 [==============================] - 1s 2ms/step - loss: 0.2455 - acc: 0.8669 - val_loss: 0.2545 - val_acc: 0.8723\n",
      "Epoch 18/30\n",
      "323/323 [==============================] - 1s 2ms/step - loss: 0.2577 - acc: 0.8762 - val_loss: 0.2539 - val_acc: 0.8511\n",
      "Epoch 19/30\n",
      "323/323 [==============================] - 1s 2ms/step - loss: 0.2310 - acc: 0.8731 - val_loss: 0.2462 - val_acc: 0.8936\n",
      "Epoch 20/30\n",
      "323/323 [==============================] - 1s 2ms/step - loss: 0.2235 - acc: 0.8731 - val_loss: 0.2351 - val_acc: 0.8723\n",
      "Epoch 21/30\n",
      "323/323 [==============================] - 1s 2ms/step - loss: 0.2230 - acc: 0.8731 - val_loss: 0.2399 - val_acc: 0.8511\n",
      "Epoch 22/30\n",
      "323/323 [==============================] - 1s 2ms/step - loss: 0.2228 - acc: 0.8731 - val_loss: 0.2314 - val_acc: 0.8936\n",
      "Epoch 23/30\n",
      "323/323 [==============================] - 1s 2ms/step - loss: 0.2279 - acc: 0.8731 - val_loss: 0.2347 - val_acc: 0.8723\n",
      "Epoch 24/30\n",
      "323/323 [==============================] - 1s 2ms/step - loss: 0.2453 - acc: 0.8700 - val_loss: 0.2517 - val_acc: 0.8298\n",
      "Epoch 25/30\n",
      "323/323 [==============================] - 1s 2ms/step - loss: 0.2196 - acc: 0.8824 - val_loss: 0.2362 - val_acc: 0.8936\n",
      "Epoch 26/30\n",
      "323/323 [==============================] - 1s 2ms/step - loss: 0.2188 - acc: 0.8700 - val_loss: 0.2351 - val_acc: 0.8511\n",
      "Epoch 27/30\n",
      "323/323 [==============================] - 1s 2ms/step - loss: 0.2279 - acc: 0.8854 - val_loss: 0.2338 - val_acc: 0.8511\n",
      "Epoch 28/30\n",
      "323/323 [==============================] - 1s 2ms/step - loss: 0.2202 - acc: 0.8824 - val_loss: 0.2340 - val_acc: 0.8936\n",
      "Epoch 29/30\n",
      "323/323 [==============================] - 1s 2ms/step - loss: 0.2241 - acc: 0.8731 - val_loss: 0.2325 - val_acc: 0.8723\n",
      "Epoch 30/30\n",
      "323/323 [==============================] - 1s 2ms/step - loss: 0.2179 - acc: 0.8793 - val_loss: 0.2369 - val_acc: 0.8723\n",
      "Epoch 1/30\n",
      "323/323 [==============================] - 3s 5ms/step - loss: 0.5702 - acc: 0.7214 - val_loss: 0.4182 - val_acc: 0.7447\n",
      "Epoch 2/30\n",
      "323/323 [==============================] - 1s 3ms/step - loss: 0.4022 - acc: 0.7895 - val_loss: 0.3807 - val_acc: 0.7660\n",
      "Epoch 3/30\n",
      "323/323 [==============================] - 1s 3ms/step - loss: 0.3656 - acc: 0.8050 - val_loss: 0.3392 - val_acc: 0.8085\n",
      "Epoch 4/30\n",
      "323/323 [==============================] - 1s 3ms/step - loss: 0.3553 - acc: 0.8142 - val_loss: 0.3347 - val_acc: 0.8085\n",
      "Epoch 5/30\n",
      "323/323 [==============================] - 1s 3ms/step - loss: 0.3257 - acc: 0.8235 - val_loss: 0.3399 - val_acc: 0.8085\n",
      "Epoch 6/30\n",
      "323/323 [==============================] - 1s 2ms/step - loss: 0.3180 - acc: 0.8576 - val_loss: 0.3910 - val_acc: 0.7447\n",
      "Epoch 7/30\n",
      "323/323 [==============================] - 1s 2ms/step - loss: 0.3097 - acc: 0.8204 - val_loss: 0.3156 - val_acc: 0.8085\n",
      "Epoch 8/30\n",
      "323/323 [==============================] - 1s 2ms/step - loss: 0.2852 - acc: 0.8483 - val_loss: 0.2733 - val_acc: 0.8511\n",
      "Epoch 9/30\n",
      "323/323 [==============================] - 1s 2ms/step - loss: 0.3373 - acc: 0.8390 - val_loss: 0.2671 - val_acc: 0.8936\n",
      "Epoch 10/30\n",
      "323/323 [==============================] - 1s 2ms/step - loss: 0.2937 - acc: 0.8359 - val_loss: 0.2637 - val_acc: 0.8936\n",
      "Epoch 11/30\n",
      "323/323 [==============================] - 1s 2ms/step - loss: 0.3329 - acc: 0.8359 - val_loss: 0.2752 - val_acc: 0.8511\n",
      "Epoch 12/30\n",
      "323/323 [==============================] - 1s 3ms/step - loss: 0.2584 - acc: 0.8700 - val_loss: 0.2871 - val_acc: 0.8298\n",
      "Epoch 13/30\n",
      "323/323 [==============================] - 1s 3ms/step - loss: 0.2562 - acc: 0.8638 - val_loss: 0.2378 - val_acc: 0.8936\n",
      "Epoch 14/30\n",
      "323/323 [==============================] - 1s 3ms/step - loss: 0.2597 - acc: 0.8576 - val_loss: 0.2431 - val_acc: 0.8511\n",
      "Epoch 15/30\n",
      "323/323 [==============================] - 1s 3ms/step - loss: 0.2454 - acc: 0.8824 - val_loss: 0.2356 - val_acc: 0.9149\n",
      "Epoch 16/30\n",
      "323/323 [==============================] - 1s 3ms/step - loss: 0.2397 - acc: 0.8793 - val_loss: 0.2406 - val_acc: 0.8723\n",
      "Epoch 17/30\n",
      "323/323 [==============================] - 1s 3ms/step - loss: 0.2159 - acc: 0.8978 - val_loss: 0.2953 - val_acc: 0.8085\n",
      "Epoch 18/30\n",
      "323/323 [==============================] - 1s 2ms/step - loss: 0.2150 - acc: 0.8947 - val_loss: 0.2240 - val_acc: 0.9149\n",
      "Epoch 19/30\n",
      "323/323 [==============================] - 1s 2ms/step - loss: 0.1968 - acc: 0.8978 - val_loss: 0.1994 - val_acc: 0.9362\n",
      "Epoch 20/30\n",
      "323/323 [==============================] - 1s 2ms/step - loss: 0.2049 - acc: 0.9133 - val_loss: 0.2275 - val_acc: 0.8723\n",
      "Epoch 21/30\n",
      "323/323 [==============================] - 1s 2ms/step - loss: 0.1967 - acc: 0.8978 - val_loss: 0.2229 - val_acc: 0.8723\n",
      "Epoch 22/30\n",
      "323/323 [==============================] - 1s 2ms/step - loss: 0.1596 - acc: 0.9288 - val_loss: 0.4002 - val_acc: 0.8723\n",
      "Epoch 23/30\n",
      "323/323 [==============================] - 1s 2ms/step - loss: 0.2740 - acc: 0.8854 - val_loss: 0.1759 - val_acc: 0.9362\n",
      "Epoch 24/30\n",
      "323/323 [==============================] - 1s 2ms/step - loss: 0.1929 - acc: 0.9257 - val_loss: 0.1837 - val_acc: 0.9362\n",
      "Epoch 25/30\n",
      "323/323 [==============================] - 1s 2ms/step - loss: 0.1906 - acc: 0.9288 - val_loss: 0.1668 - val_acc: 0.9574\n",
      "Epoch 26/30\n",
      "323/323 [==============================] - 1s 3ms/step - loss: 0.1813 - acc: 0.9102 - val_loss: 0.1870 - val_acc: 0.8936\n",
      "Epoch 27/30\n",
      "323/323 [==============================] - 1s 2ms/step - loss: 0.1517 - acc: 0.9226 - val_loss: 0.1343 - val_acc: 0.9574\n",
      "Epoch 28/30\n",
      "323/323 [==============================] - 1s 2ms/step - loss: 0.1483 - acc: 0.9319 - val_loss: 0.1805 - val_acc: 0.8936\n",
      "Epoch 29/30\n",
      "323/323 [==============================] - 1s 2ms/step - loss: 0.1458 - acc: 0.9412 - val_loss: 0.1289 - val_acc: 0.9574\n",
      "Epoch 30/30\n",
      "323/323 [==============================] - 1s 2ms/step - loss: 0.1485 - acc: 0.9288 - val_loss: 0.1807 - val_acc: 0.9362\n",
      "Epoch 1/30\n",
      "323/323 [==============================] - 4s 5ms/step - loss: 0.5468 - acc: 0.7183 - val_loss: 0.4067 - val_acc: 0.8085\n",
      "Epoch 2/30\n",
      "323/323 [==============================] - 1s 3ms/step - loss: 0.5122 - acc: 0.7307 - val_loss: 0.4504 - val_acc: 0.7872\n",
      "Epoch 3/30\n",
      "323/323 [==============================] - 1s 3ms/step - loss: 0.4016 - acc: 0.8019 - val_loss: 0.3933 - val_acc: 0.7872\n",
      "Epoch 4/30\n",
      "323/323 [==============================] - 1s 3ms/step - loss: 0.3439 - acc: 0.8514 - val_loss: 0.3607 - val_acc: 0.8723\n",
      "Epoch 5/30\n",
      "323/323 [==============================] - 1s 2ms/step - loss: 0.3299 - acc: 0.8297 - val_loss: 0.3769 - val_acc: 0.8085\n",
      "Epoch 6/30\n",
      "323/323 [==============================] - 1s 3ms/step - loss: 0.3381 - acc: 0.8142 - val_loss: 0.3526 - val_acc: 0.8085\n",
      "Epoch 7/30\n",
      "323/323 [==============================] - 1s 2ms/step - loss: 0.2991 - acc: 0.8545 - val_loss: 0.3435 - val_acc: 0.8298\n",
      "Epoch 8/30\n",
      "323/323 [==============================] - 1s 3ms/step - loss: 0.3074 - acc: 0.8638 - val_loss: 0.3674 - val_acc: 0.8298\n",
      "Epoch 9/30\n",
      "323/323 [==============================] - 1s 2ms/step - loss: 0.3311 - acc: 0.8483 - val_loss: 0.3747 - val_acc: 0.8085\n",
      "Epoch 10/30\n",
      "323/323 [==============================] - 1s 2ms/step - loss: 0.2952 - acc: 0.8638 - val_loss: 0.3571 - val_acc: 0.8085\n",
      "Epoch 11/30\n",
      "323/323 [==============================] - 1s 3ms/step - loss: 0.3251 - acc: 0.8328 - val_loss: 0.4252 - val_acc: 0.7872\n",
      "Epoch 12/30\n",
      "323/323 [==============================] - 1s 3ms/step - loss: 0.2993 - acc: 0.8576 - val_loss: 0.3129 - val_acc: 0.8511\n",
      "Epoch 13/30\n",
      "323/323 [==============================] - 1s 2ms/step - loss: 0.2687 - acc: 0.8731 - val_loss: 0.5290 - val_acc: 0.7872\n",
      "Epoch 14/30\n",
      "323/323 [==============================] - 1s 2ms/step - loss: 0.3157 - acc: 0.8483 - val_loss: 0.2734 - val_acc: 0.8511\n",
      "Epoch 15/30\n",
      "323/323 [==============================] - 1s 2ms/step - loss: 0.2400 - acc: 0.8885 - val_loss: 0.2757 - val_acc: 0.8298\n",
      "Epoch 16/30\n",
      "323/323 [==============================] - 1s 2ms/step - loss: 0.2417 - acc: 0.8762 - val_loss: 0.2432 - val_acc: 0.8723\n",
      "Epoch 17/30\n",
      "323/323 [==============================] - 1s 2ms/step - loss: 0.2245 - acc: 0.8916 - val_loss: 0.2682 - val_acc: 0.8723\n",
      "Epoch 18/30\n",
      "323/323 [==============================] - 1s 3ms/step - loss: 0.2091 - acc: 0.9040 - val_loss: 0.2054 - val_acc: 0.8723\n",
      "Epoch 19/30\n",
      "323/323 [==============================] - 1s 2ms/step - loss: 0.1868 - acc: 0.9040 - val_loss: 0.1793 - val_acc: 0.9149\n",
      "Epoch 20/30\n",
      "323/323 [==============================] - 1s 2ms/step - loss: 0.3066 - acc: 0.8669 - val_loss: 0.3078 - val_acc: 0.8085\n",
      "Epoch 21/30\n",
      "323/323 [==============================] - 1s 3ms/step - loss: 0.2127 - acc: 0.9164 - val_loss: 0.3200 - val_acc: 0.7872\n",
      "Epoch 22/30\n",
      "323/323 [==============================] - 1s 2ms/step - loss: 0.2084 - acc: 0.9040 - val_loss: 0.2426 - val_acc: 0.9362\n",
      "Epoch 23/30\n",
      "323/323 [==============================] - 1s 3ms/step - loss: 0.1696 - acc: 0.9257 - val_loss: 0.2113 - val_acc: 0.8936\n",
      "Epoch 24/30\n",
      "323/323 [==============================] - 1s 2ms/step - loss: 0.1754 - acc: 0.9195 - val_loss: 0.2925 - val_acc: 0.8511\n",
      "Epoch 25/30\n",
      "323/323 [==============================] - 1s 2ms/step - loss: 0.1646 - acc: 0.9257 - val_loss: 0.3183 - val_acc: 0.8298\n",
      "Epoch 26/30\n",
      "323/323 [==============================] - 1s 2ms/step - loss: 0.1730 - acc: 0.9319 - val_loss: 0.1858 - val_acc: 0.9149\n",
      "Epoch 27/30\n",
      "323/323 [==============================] - 1s 3ms/step - loss: 0.1997 - acc: 0.9164 - val_loss: 0.2119 - val_acc: 0.9149\n",
      "Epoch 28/30\n",
      "323/323 [==============================] - 1s 3ms/step - loss: 0.1842 - acc: 0.9102 - val_loss: 0.2979 - val_acc: 0.8511\n",
      "Epoch 29/30\n",
      "323/323 [==============================] - 1s 3ms/step - loss: 0.1799 - acc: 0.9195 - val_loss: 0.2404 - val_acc: 0.8511\n",
      "Epoch 30/30\n",
      "323/323 [==============================] - 1s 2ms/step - loss: 0.1816 - acc: 0.9164 - val_loss: 0.2319 - val_acc: 0.8723\n",
      "Epoch 1/30\n",
      "323/323 [==============================] - 3s 5ms/step - loss: 0.5421 - acc: 0.7214 - val_loss: 0.4515 - val_acc: 0.7872\n",
      "Epoch 2/30\n",
      "323/323 [==============================] - 1s 3ms/step - loss: 0.4483 - acc: 0.7709 - val_loss: 0.3968 - val_acc: 0.7872\n",
      "Epoch 3/30\n",
      "323/323 [==============================] - 1s 3ms/step - loss: 0.3496 - acc: 0.8328 - val_loss: 0.5075 - val_acc: 0.7447\n",
      "Epoch 4/30\n",
      "323/323 [==============================] - 1s 3ms/step - loss: 0.3413 - acc: 0.8142 - val_loss: 0.3635 - val_acc: 0.7660\n",
      "Epoch 5/30\n",
      "323/323 [==============================] - 1s 3ms/step - loss: 0.3126 - acc: 0.8514 - val_loss: 0.2914 - val_acc: 0.8723\n",
      "Epoch 6/30\n",
      "323/323 [==============================] - 1s 3ms/step - loss: 0.2497 - acc: 0.8885 - val_loss: 0.4885 - val_acc: 0.7660\n",
      "Epoch 7/30\n",
      "323/323 [==============================] - 1s 3ms/step - loss: 0.2555 - acc: 0.8762 - val_loss: 0.3649 - val_acc: 0.8085\n",
      "Epoch 8/30\n",
      "323/323 [==============================] - 1s 3ms/step - loss: 0.3129 - acc: 0.8452 - val_loss: 0.3429 - val_acc: 0.8298\n",
      "Epoch 9/30\n",
      "323/323 [==============================] - 1s 3ms/step - loss: 0.2257 - acc: 0.9009 - val_loss: 0.3131 - val_acc: 0.8511\n",
      "Epoch 10/30\n",
      "323/323 [==============================] - 1s 3ms/step - loss: 0.2616 - acc: 0.8885 - val_loss: 0.3113 - val_acc: 0.8723\n",
      "Epoch 11/30\n",
      "323/323 [==============================] - 1s 3ms/step - loss: 0.2119 - acc: 0.9102 - val_loss: 0.3540 - val_acc: 0.8723\n",
      "Epoch 12/30\n",
      "323/323 [==============================] - 1s 3ms/step - loss: 0.2922 - acc: 0.8607 - val_loss: 0.3471 - val_acc: 0.8723\n",
      "Epoch 13/30\n",
      "323/323 [==============================] - 1s 3ms/step - loss: 0.2098 - acc: 0.9102 - val_loss: 0.1591 - val_acc: 0.9362\n",
      "Epoch 14/30\n",
      "323/323 [==============================] - 1s 3ms/step - loss: 0.1853 - acc: 0.9102 - val_loss: 0.2723 - val_acc: 0.9149\n",
      "Epoch 15/30\n",
      "323/323 [==============================] - 1s 3ms/step - loss: 0.1563 - acc: 0.9350 - val_loss: 0.2470 - val_acc: 0.8936\n",
      "Epoch 16/30\n",
      "323/323 [==============================] - 1s 3ms/step - loss: 0.2649 - acc: 0.8824 - val_loss: 0.4294 - val_acc: 0.7660\n",
      "Epoch 17/30\n",
      "323/323 [==============================] - 1s 3ms/step - loss: 0.3038 - acc: 0.8638 - val_loss: 0.4132 - val_acc: 0.8085\n",
      "Epoch 18/30\n",
      "323/323 [==============================] - 1s 3ms/step - loss: 0.3189 - acc: 0.8235 - val_loss: 0.2141 - val_acc: 0.9149\n",
      "Epoch 19/30\n",
      "323/323 [==============================] - 1s 3ms/step - loss: 0.2544 - acc: 0.8947 - val_loss: 0.2884 - val_acc: 0.8298\n",
      "Epoch 20/30\n",
      "323/323 [==============================] - 1s 3ms/step - loss: 0.2249 - acc: 0.9071 - val_loss: 0.2223 - val_acc: 0.8936\n",
      "Epoch 21/30\n",
      "323/323 [==============================] - 1s 4ms/step - loss: 0.1718 - acc: 0.9319 - val_loss: 0.2828 - val_acc: 0.8723\n",
      "Epoch 22/30\n",
      "323/323 [==============================] - 1s 3ms/step - loss: 0.3518 - acc: 0.8452 - val_loss: 0.5146 - val_acc: 0.8511\n",
      "Epoch 23/30\n",
      "323/323 [==============================] - 1s 3ms/step - loss: 0.3021 - acc: 0.8576 - val_loss: 0.3858 - val_acc: 0.8085\n",
      "Epoch 24/30\n",
      "323/323 [==============================] - 1s 3ms/step - loss: 0.2455 - acc: 0.8824 - val_loss: 0.3451 - val_acc: 0.8085\n",
      "Epoch 25/30\n",
      "323/323 [==============================] - 1s 3ms/step - loss: 0.2346 - acc: 0.8762 - val_loss: 0.2493 - val_acc: 0.8723\n",
      "Epoch 26/30\n",
      "323/323 [==============================] - 1s 3ms/step - loss: 0.1998 - acc: 0.9009 - val_loss: 0.3150 - val_acc: 0.8723\n",
      "Epoch 27/30\n",
      "323/323 [==============================] - 1s 3ms/step - loss: 0.1924 - acc: 0.9040 - val_loss: 0.3041 - val_acc: 0.8298\n",
      "Epoch 28/30\n",
      "323/323 [==============================] - 1s 3ms/step - loss: 0.1804 - acc: 0.9164 - val_loss: 0.2354 - val_acc: 0.9149\n",
      "Epoch 29/30\n",
      "323/323 [==============================] - 1s 3ms/step - loss: 0.1589 - acc: 0.9350 - val_loss: 0.2944 - val_acc: 0.8723\n",
      "Epoch 30/30\n",
      "323/323 [==============================] - 1s 3ms/step - loss: 0.1631 - acc: 0.9257 - val_loss: 0.2123 - val_acc: 0.9362\n"
     ]
    }
   ],
   "source": [
    "jordan_10, jordan_10_score = train_jordan(10)\n",
    "jordan_25, jordan_25_score = train_jordan(25)\n",
    "jordan_50, jordan_50_score = train_jordan(50)\n",
    "jordan_75, jordan_75_score = train_jordan(75)\n",
    "jordan_100, jordan_100_score = train_jordan(100)"
   ]
  },
  {
   "cell_type": "code",
   "execution_count": 114,
   "metadata": {},
   "outputs": [
    {
     "name": "stdout",
     "output_type": "stream",
     "text": [
      "jordan_10_score: 0.8709677419354839\n",
      "jordan_25_score: 0.9247311827956989\n",
      "jordan_50_score: 0.8494623655913979\n",
      "jordan_100_score: 0.9139784946236559\n"
     ]
    }
   ],
   "source": [
    "print(\"jordan_10_score:\", jordan_10_score)\n",
    "print(\"jordan_25_score:\", jordan_25_score)\n",
    "print(\"jordan_50_score:\", jordan_50_score)\n",
    "print(\"jordan_75_score:\", jordan_75_score)\n",
    "print(\"jordan_100_score:\", jordan_100_score)"
   ]
  },
  {
   "cell_type": "markdown",
   "metadata": {},
   "source": [
    "### Ensemble"
   ]
  },
  {
   "cell_type": "markdown",
   "metadata": {},
   "source": [
    "#### Elman Only "
   ]
  },
  {
   "cell_type": "code",
   "execution_count": null,
   "metadata": {},
   "outputs": [],
   "source": [
    "elman_only_ensemble, elman_only_ensemble_score = elman_only_ensemble_experiment(\n",
    "    hidden_count_list=[10, 25, 50, 100])"
   ]
  },
  {
   "cell_type": "code",
   "execution_count": 116,
   "metadata": {},
   "outputs": [
    {
     "data": {
      "image/png": "[encoded data removed]",
      "text/plain": [
       "<IPython.core.display.Image object>"
      ]
     },
     "execution_count": 116,
     "metadata": {},
     "output_type": "execute_result"
    }
   ],
   "source": [
    "tf.keras.utils.plot_model(elman_only_ensemble, to_file='elman_only_ensemble.png', show_shapes=True)"
   ]
  },
  {
   "cell_type": "code",
   "execution_count": 128,
   "metadata": {},
   "outputs": [],
   "source": [
    "# elman_only_ensemble, elman_only_ensemble_score = elman_only_ensemble_experiment(\n",
    "#     hidden_count_list=[100, 100, 100, 100])"
   ]
  },
  {
   "cell_type": "markdown",
   "metadata": {},
   "source": [
    "#### Jordan Only"
   ]
  },
  {
   "cell_type": "code",
   "execution_count": 119,
   "metadata": {},
   "outputs": [
    {
     "name": "stdout",
     "output_type": "stream",
     "text": [
      "WARNING:tensorflow:Model failed to serialize as JSON. Ignoring... \n",
      "Epoch 1/30\n",
      "323/323 [==============================] - 9s 10ms/step - loss: 0.5682 - acc: 0.7229 - val_loss: 0.4777 - val_acc: 0.7660\n",
      "Epoch 2/30\n",
      "323/323 [==============================] - 1s 4ms/step - loss: 0.4609 - acc: 0.7632 - val_loss: 0.4026 - val_acc: 0.8830\n",
      "Epoch 3/30\n",
      "323/323 [==============================] - 1s 3ms/step - loss: 0.4279 - acc: 0.7833 - val_loss: 0.3946 - val_acc: 0.8085\n",
      "Epoch 4/30\n",
      "323/323 [==============================] - 1s 4ms/step - loss: 0.3929 - acc: 0.8235 - val_loss: 0.3847 - val_acc: 0.8085\n",
      "Epoch 5/30\n",
      "323/323 [==============================] - 1s 3ms/step - loss: 0.3717 - acc: 0.8142 - val_loss: 0.3774 - val_acc: 0.8085\n",
      "Epoch 6/30\n",
      "323/323 [==============================] - 1s 3ms/step - loss: 0.3643 - acc: 0.8142 - val_loss: 0.3466 - val_acc: 0.8298\n",
      "Epoch 7/30\n",
      "323/323 [==============================] - 1s 3ms/step - loss: 0.3466 - acc: 0.8467 - val_loss: 0.3421 - val_acc: 0.8298\n",
      "Epoch 8/30\n",
      "323/323 [==============================] - 1s 3ms/step - loss: 0.3350 - acc: 0.8467 - val_loss: 0.3423 - val_acc: 0.8085\n",
      "Epoch 9/30\n",
      "323/323 [==============================] - 1s 3ms/step - loss: 0.3390 - acc: 0.8328 - val_loss: 0.3231 - val_acc: 0.8085\n",
      "Epoch 10/30\n",
      "323/323 [==============================] - 1s 3ms/step - loss: 0.3212 - acc: 0.8437 - val_loss: 0.3170 - val_acc: 0.8404\n",
      "Epoch 11/30\n",
      "323/323 [==============================] - 1s 3ms/step - loss: 0.3101 - acc: 0.8638 - val_loss: 0.3507 - val_acc: 0.7872\n",
      "Epoch 12/30\n",
      "323/323 [==============================] - 1s 4ms/step - loss: 0.3268 - acc: 0.8220 - val_loss: 0.3352 - val_acc: 0.7872\n",
      "Epoch 13/30\n",
      "323/323 [==============================] - 1s 4ms/step - loss: 0.4583 - acc: 0.7399 - val_loss: 0.4390 - val_acc: 0.7447\n",
      "Epoch 14/30\n",
      "323/323 [==============================] - 1s 4ms/step - loss: 0.4263 - acc: 0.7307 - val_loss: 0.4078 - val_acc: 0.7447\n",
      "Epoch 15/30\n",
      "323/323 [==============================] - 1s 3ms/step - loss: 0.4183 - acc: 0.7276 - val_loss: 0.4083 - val_acc: 0.7447\n",
      "Epoch 16/30\n",
      "323/323 [==============================] - 1s 3ms/step - loss: 0.3989 - acc: 0.7276 - val_loss: 0.3791 - val_acc: 0.7447\n",
      "Epoch 17/30\n",
      "323/323 [==============================] - 1s 4ms/step - loss: 0.3881 - acc: 0.7276 - val_loss: 0.3888 - val_acc: 0.7447\n",
      "Epoch 18/30\n",
      "323/323 [==============================] - 1s 3ms/step - loss: 0.3769 - acc: 0.7276 - val_loss: 0.4014 - val_acc: 0.7447\n",
      "Epoch 19/30\n",
      "323/323 [==============================] - 1s 3ms/step - loss: 0.3694 - acc: 0.7910 - val_loss: 0.3723 - val_acc: 0.8617\n",
      "Epoch 20/30\n",
      "323/323 [==============================] - 1s 3ms/step - loss: 0.3610 - acc: 0.8158 - val_loss: 0.3800 - val_acc: 0.7872\n",
      "Epoch 21/30\n",
      "323/323 [==============================] - 1s 3ms/step - loss: 0.3582 - acc: 0.8251 - val_loss: 0.3611 - val_acc: 0.8298\n",
      "Epoch 22/30\n",
      "323/323 [==============================] - 1s 3ms/step - loss: 0.3699 - acc: 0.8204 - val_loss: 0.3599 - val_acc: 0.7979\n",
      "Epoch 23/30\n",
      "323/323 [==============================] - 1s 3ms/step - loss: 0.3544 - acc: 0.8375 - val_loss: 0.3624 - val_acc: 0.8298\n",
      "Epoch 24/30\n",
      "323/323 [==============================] - 1s 3ms/step - loss: 0.3351 - acc: 0.8715 - val_loss: 0.3299 - val_acc: 0.8830\n",
      "Epoch 25/30\n",
      "323/323 [==============================] - 1s 3ms/step - loss: 0.2963 - acc: 0.8916 - val_loss: 0.2994 - val_acc: 0.9255\n",
      "Epoch 26/30\n",
      "323/323 [==============================] - 1s 5ms/step - loss: 0.2978 - acc: 0.8978 - val_loss: 0.3381 - val_acc: 0.8723\n",
      "Epoch 27/30\n",
      "323/323 [==============================] - 1s 3ms/step - loss: 0.3332 - acc: 0.8607 - val_loss: 0.3298 - val_acc: 0.8511\n",
      "Epoch 28/30\n",
      "323/323 [==============================] - 1s 3ms/step - loss: 0.3200 - acc: 0.8653 - val_loss: 0.3528 - val_acc: 0.8298\n",
      "Epoch 29/30\n",
      "323/323 [==============================] - 1s 3ms/step - loss: 0.3115 - acc: 0.8498 - val_loss: 0.3317 - val_acc: 0.8511\n",
      "Epoch 30/30\n",
      "323/323 [==============================] - 1s 4ms/step - loss: 0.3050 - acc: 0.8700 - val_loss: 0.3339 - val_acc: 0.8298\n"
     ]
    }
   ],
   "source": [
    "jordan_only_ensemble, jordan_only_ensemble_score = jordan_only_ensemble_experiment(\n",
    "    hidden_count_list=[10, 25, 50])"
   ]
  },
  {
   "cell_type": "code",
   "execution_count": 120,
   "metadata": {},
   "outputs": [
    {
     "data": {
      "image/png": "[encoded data removed]",
      "text/plain": [
       "<IPython.core.display.Image object>"
      ]
     },
     "execution_count": 120,
     "metadata": {},
     "output_type": "execute_result"
    }
   ],
   "source": [
    "tf.keras.utils.plot_model(jordan_only_ensemble, to_file='jordan_only_ensemble.png', show_shapes=True)"
   ]
  },
  {
   "cell_type": "markdown",
   "metadata": {},
   "source": [
    "#### Mixed"
   ]
  },
  {
   "cell_type": "code",
   "execution_count": null,
   "metadata": {},
   "outputs": [],
   "source": [
    "mixed_ensemble, mixed_ensemble_score = endgame_ensemble_experiment(\n",
    "    elman_hidden_count_list=[10, 25, 50],\n",
    "    jordan_hidden_count_list=[10, 25, 50])"
   ]
  },
  {
   "cell_type": "markdown",
   "metadata": {},
   "source": [
    "## Tensorboard"
   ]
  },
  {
   "cell_type": "code",
   "execution_count": null,
   "metadata": {},
   "outputs": [],
   "source": [
    "# load tensorboard extension\n",
    "%load_ext tensorboard\n",
    "\n",
    "# start tensorboard in the 'logs' directory\n",
    "%tensorboard --logdir=logs/"
   ]
  }
 ],
 "metadata": {
  "interpreter": {
   "hash": "3858431499dcaaf4de29b8b352749eebe871787bd67cf3dfc1982c43a6256c9d"
  },
  "kernelspec": {
   "display_name": "Python 3.10.1 64-bit",
   "language": "python",
   "name": "python3"
  },
  "language_info": {
   "codemirror_mode": {
    "name": "ipython",
    "version": 3
   },
   "file_extension": ".py",
   "mimetype": "text/x-python",
   "name": "python",
   "nbconvert_exporter": "python",
   "pygments_lexer": "ipython3",
   "version": "3.10.1"
  },
  "orig_nbformat": 4
 },
 "nbformat": 4,
 "nbformat_minor": 2
}
