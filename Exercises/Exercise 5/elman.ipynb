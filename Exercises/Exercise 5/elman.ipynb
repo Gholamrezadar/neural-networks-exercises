{
 "cells": [
  {
   "cell_type": "code",
   "execution_count": null,
   "metadata": {},
   "outputs": [],
   "source": [
    "import tensorflow as tf\n"
   ]
  },
  {
   "cell_type": "code",
   "execution_count": null,
   "metadata": {},
   "outputs": [],
   "source": [
    "# LOAD DATA\n",
    "# x_train, x_valid, y_train, y_valid\n",
    "# x_train.shape = (N, 15, 6), ..."
   ]
  },
  {
   "cell_type": "code",
   "execution_count": null,
   "metadata": {},
   "outputs": [],
   "source": [
    "class Elman(tf.keras.Model):\n",
    "    def __init__(self, input_dim, hidden_units, feature_size, classes_cnt):\n",
    "        super(Elman, self).__init__()\n",
    "        self.hidden_units = hidden_units\n",
    "        self.feature_size = feature_size\n",
    "        self.input_dim = input_dim\n",
    "        self.classes_cnt = classes_cnt\n",
    "\n",
    "        self.W = self.add_weight(shape=(self.hidden_units, self.feature_size), initializer='random_normal', trainable=True)\n",
    "        self.U = self.add_weight(shape=(self.hidden_units, self.hidden_units), initializer='random_normal', trainable=True)\n",
    "        self.b = self.add_weight(shape=(self.hidden_units,), initializer='random_normal', trainable=True)\n",
    "        self.W_y = self.add_weight(shape=(self.classes_cnt, self.hidden_units), initializer='random_normal', trainable=True)\n",
    "        self.b_y = self.add_weight(shape=(self.classes_cnt,), initializer='random_normal', trainable=True)\n",
    "\n",
    "    def call(self, x):\n",
    "        state_t = tf.zeros(self.hidden_units)\n",
    "        for i in range(self.input_dim):\n",
    "            state_t = tf.keras.activations.tanh(tf.matmul(self.W, tf.reshape(x[0][i], (self.feature_size, 1))) + tf.matmul(self.U, tf.reshape(state_t, (self.hidden_units,1))) + tf.reshape(self.b, (self.hidden_units, 1)))\n",
    "\n",
    "        y = tf.keras.activations.tanh(tf.matmul(self.W_y, tf.reshape(state_t, (self.hidden_units,1))) + tf.reshape(self.b_y, (self.classes_cnt,1)))\n",
    "        return y"
   ]
  },
  {
   "cell_type": "code",
   "execution_count": null,
   "metadata": {},
   "outputs": [],
   "source": [
    "elman_nn = Elman(input_dim=15, hidden_units=10, feature_size=6, n_classes=2)\n",
    "\n",
    "elman_nn.compile(optimizer=tf.keras.optimizers.Adam(1e-3),loss='binary_crossentropy',metrics=['acc'])\n",
    "\n",
    "elman_nn.fit(x_train,y_train,batch_size=1,epochs=30,validation_data=(x_val, y_val))"
   ]
  }
 ],
 "metadata": {
  "language_info": {
   "name": "python"
  },
  "orig_nbformat": 4
 },
 "nbformat": 4,
 "nbformat_minor": 2
}
